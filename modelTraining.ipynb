{
 "cells": [
  {
   "cell_type": "code",
   "execution_count": 172,
   "metadata": {},
   "outputs": [],
   "source": [
    "import numpy as np\n",
    "import matplotlib.pyplot as plt\n",
    "import seaborn as sns\n",
    "import pandas as pd"
   ]
  },
  {
   "cell_type": "code",
   "execution_count": 173,
   "metadata": {},
   "outputs": [],
   "source": [
    "data=pd.read_excel('D:\\\\FreightTigerTask\\\\data\\\\AI ML Internship Training Data.xlsx') #We can replace it with a url if the data is online, e:g using google sheets or s3 bucket"
   ]
  },
  {
   "cell_type": "code",
   "execution_count": 174,
   "metadata": {},
   "outputs": [],
   "source": [
    "df=pd.DataFrame(data)   "
   ]
  },
  {
   "cell_type": "markdown",
   "metadata": {},
   "source": [
    "### Exploratory Data Analysis"
   ]
  },
  {
   "cell_type": "code",
   "execution_count": 176,
   "metadata": {},
   "outputs": [
    {
     "data": {
      "text/html": [
       "<div>\n",
       "<style scoped>\n",
       "    .dataframe tbody tr th:only-of-type {\n",
       "        vertical-align: middle;\n",
       "    }\n",
       "\n",
       "    .dataframe tbody tr th {\n",
       "        vertical-align: top;\n",
       "    }\n",
       "\n",
       "    .dataframe thead th {\n",
       "        text-align: right;\n",
       "    }\n",
       "</style>\n",
       "<table border=\"1\" class=\"dataframe\">\n",
       "  <thead>\n",
       "    <tr style=\"text-align: right;\">\n",
       "      <th></th>\n",
       "      <th>Shipment Date</th>\n",
       "      <th>Planned Delivery Date</th>\n",
       "      <th>Actual Delivery Date</th>\n",
       "      <th>Distance (km)</th>\n",
       "    </tr>\n",
       "  </thead>\n",
       "  <tbody>\n",
       "    <tr>\n",
       "      <th>count</th>\n",
       "      <td>20000</td>\n",
       "      <td>20000</td>\n",
       "      <td>20000</td>\n",
       "      <td>20000.000000</td>\n",
       "    </tr>\n",
       "    <tr>\n",
       "      <th>mean</th>\n",
       "      <td>2023-09-16 08:39:28.800000</td>\n",
       "      <td>2023-09-19 15:07:24.960000256</td>\n",
       "      <td>2023-09-21 13:34:45.120000</td>\n",
       "      <td>1101.663750</td>\n",
       "    </tr>\n",
       "    <tr>\n",
       "      <th>min</th>\n",
       "      <td>2023-01-01 00:00:00</td>\n",
       "      <td>2023-01-02 00:00:00</td>\n",
       "      <td>2023-01-02 00:00:00</td>\n",
       "      <td>200.000000</td>\n",
       "    </tr>\n",
       "    <tr>\n",
       "      <th>25%</th>\n",
       "      <td>2023-05-09 00:00:00</td>\n",
       "      <td>2023-05-13 00:00:00</td>\n",
       "      <td>2023-05-15 00:00:00</td>\n",
       "      <td>649.750000</td>\n",
       "    </tr>\n",
       "    <tr>\n",
       "      <th>50%</th>\n",
       "      <td>2023-09-16 00:00:00</td>\n",
       "      <td>2023-09-20 00:00:00</td>\n",
       "      <td>2023-09-21 00:00:00</td>\n",
       "      <td>1102.000000</td>\n",
       "    </tr>\n",
       "    <tr>\n",
       "      <th>75%</th>\n",
       "      <td>2024-01-25 00:00:00</td>\n",
       "      <td>2024-01-29 00:00:00</td>\n",
       "      <td>2024-01-31 00:00:00</td>\n",
       "      <td>1551.000000</td>\n",
       "    </tr>\n",
       "    <tr>\n",
       "      <th>max</th>\n",
       "      <td>2024-06-01 00:00:00</td>\n",
       "      <td>2024-06-08 00:00:00</td>\n",
       "      <td>2024-06-12 00:00:00</td>\n",
       "      <td>2000.000000</td>\n",
       "    </tr>\n",
       "    <tr>\n",
       "      <th>std</th>\n",
       "      <td>NaN</td>\n",
       "      <td>NaN</td>\n",
       "      <td>NaN</td>\n",
       "      <td>520.717873</td>\n",
       "    </tr>\n",
       "  </tbody>\n",
       "</table>\n",
       "</div>"
      ],
      "text/plain": [
       "                    Shipment Date          Planned Delivery Date  \\\n",
       "count                       20000                          20000   \n",
       "mean   2023-09-16 08:39:28.800000  2023-09-19 15:07:24.960000256   \n",
       "min           2023-01-01 00:00:00            2023-01-02 00:00:00   \n",
       "25%           2023-05-09 00:00:00            2023-05-13 00:00:00   \n",
       "50%           2023-09-16 00:00:00            2023-09-20 00:00:00   \n",
       "75%           2024-01-25 00:00:00            2024-01-29 00:00:00   \n",
       "max           2024-06-01 00:00:00            2024-06-08 00:00:00   \n",
       "std                           NaN                            NaN   \n",
       "\n",
       "             Actual Delivery Date  Distance (km)  \n",
       "count                       20000   20000.000000  \n",
       "mean   2023-09-21 13:34:45.120000    1101.663750  \n",
       "min           2023-01-02 00:00:00     200.000000  \n",
       "25%           2023-05-15 00:00:00     649.750000  \n",
       "50%           2023-09-21 00:00:00    1102.000000  \n",
       "75%           2024-01-31 00:00:00    1551.000000  \n",
       "max           2024-06-12 00:00:00    2000.000000  \n",
       "std                           NaN     520.717873  "
      ]
     },
     "execution_count": 176,
     "metadata": {},
     "output_type": "execute_result"
    }
   ],
   "source": [
    "df.describe()   #to get the statistical summary of the data"
   ]
  },
  {
   "cell_type": "code",
   "execution_count": 177,
   "metadata": {},
   "outputs": [
    {
     "name": "stdout",
     "output_type": "stream",
     "text": [
      "<class 'pandas.core.frame.DataFrame'>\n",
      "RangeIndex: 20000 entries, 0 to 19999\n",
      "Data columns (total 11 columns):\n",
      " #   Column                 Non-Null Count  Dtype         \n",
      "---  ------                 --------------  -----         \n",
      " 0   Shipment ID            20000 non-null  object        \n",
      " 1   Origin                 20000 non-null  object        \n",
      " 2   Destination            20000 non-null  object        \n",
      " 3   Shipment Date          20000 non-null  datetime64[ns]\n",
      " 4   Planned Delivery Date  20000 non-null  datetime64[ns]\n",
      " 5   Actual Delivery Date   20000 non-null  datetime64[ns]\n",
      " 6   Vehicle Type           19403 non-null  object        \n",
      " 7   Distance (km)          20000 non-null  int64         \n",
      " 8   Weather Conditions     20000 non-null  object        \n",
      " 9   Traffic Conditions     20000 non-null  object        \n",
      " 10  Delayed                20000 non-null  object        \n",
      "dtypes: datetime64[ns](3), int64(1), object(7)\n",
      "memory usage: 1.7+ MB\n"
     ]
    }
   ],
   "source": [
    "df.info()  #to get the information about the data"
   ]
  },
  {
   "cell_type": "markdown",
   "metadata": {},
   "source": [
    "##### Null values present in the data"
   ]
  },
  {
   "cell_type": "code",
   "execution_count": 178,
   "metadata": {},
   "outputs": [
    {
     "data": {
      "text/plain": [
       "Shipment ID                0\n",
       "Origin                     0\n",
       "Destination                0\n",
       "Shipment Date              0\n",
       "Planned Delivery Date      0\n",
       "Actual Delivery Date       0\n",
       "Vehicle Type             597\n",
       "Distance (km)              0\n",
       "Weather Conditions         0\n",
       "Traffic Conditions         0\n",
       "Delayed                    0\n",
       "dtype: int64"
      ]
     },
     "execution_count": 178,
     "metadata": {},
     "output_type": "execute_result"
    }
   ],
   "source": [
    "df.isnull().sum()"
   ]
  },
  {
   "cell_type": "code",
   "execution_count": 179,
   "metadata": {},
   "outputs": [
    {
     "data": {
      "text/plain": [
       "array(['Jaipur', 'Bangalore', 'Mumbai', 'Hyderabad', 'Chennai', 'Kolkata',\n",
       "       'Lucknow', 'Delhi', 'Ahmedabad', 'Pune'], dtype=object)"
      ]
     },
     "execution_count": 179,
     "metadata": {},
     "output_type": "execute_result"
    }
   ],
   "source": [
    "df['Origin'].unique()"
   ]
  },
  {
   "cell_type": "markdown",
   "metadata": {},
   "source": [
    "### Handling null values in 'Vehicle Type' column"
   ]
  },
  {
   "cell_type": "code",
   "execution_count": 180,
   "metadata": {},
   "outputs": [
    {
     "data": {
      "text/plain": [
       "Vehicle Type\n",
       "Lorry        4878\n",
       "Truck        4860\n",
       "Trailer      4838\n",
       "Container    4827\n",
       "Name: count, dtype: int64"
      ]
     },
     "execution_count": 180,
     "metadata": {},
     "output_type": "execute_result"
    }
   ],
   "source": [
    "df['Vehicle Type'].value_counts()"
   ]
  },
  {
   "cell_type": "code",
   "execution_count": 181,
   "metadata": {},
   "outputs": [
    {
     "data": {
      "text/plain": [
       "597"
      ]
     },
     "execution_count": 181,
     "metadata": {},
     "output_type": "execute_result"
    }
   ],
   "source": [
    "df['Vehicle Type'].isnull().sum()"
   ]
  },
  {
   "cell_type": "code",
   "execution_count": 182,
   "metadata": {},
   "outputs": [],
   "source": [
    "df_vehicle_lorry=df[df['Vehicle Type']==\"Lorry\"]\n",
    "df_vehicle_truck=df[df['Vehicle Type']==\"Truck\"]\n",
    "df_vehicle_container=df[df['Vehicle Type']==\"Container\"]    \n",
    "df_vehicle_trailer=df[df['Vehicle Type']==\"Trailer\"]"
   ]
  },
  {
   "cell_type": "code",
   "execution_count": 183,
   "metadata": {},
   "outputs": [
    {
     "name": "stdout",
     "output_type": "stream",
     "text": [
      "200\n",
      "2000\n"
     ]
    }
   ],
   "source": [
    "print(min(df_vehicle_lorry['Distance (km)']))\n",
    "print(max(df_vehicle_lorry['Distance (km)']))"
   ]
  },
  {
   "cell_type": "code",
   "execution_count": 184,
   "metadata": {},
   "outputs": [
    {
     "name": "stdout",
     "output_type": "stream",
     "text": [
      "200\n",
      "2000\n"
     ]
    }
   ],
   "source": [
    "print(min(df_vehicle_container['Distance (km)']))\n",
    "print(max(df_vehicle_container['Distance (km)']))"
   ]
  },
  {
   "cell_type": "code",
   "execution_count": 185,
   "metadata": {},
   "outputs": [
    {
     "name": "stdout",
     "output_type": "stream",
     "text": [
      "200\n",
      "2000\n"
     ]
    }
   ],
   "source": [
    "print(min(df_vehicle_trailer['Distance (km)']))\n",
    "print(max(df_vehicle_trailer['Distance (km)']))"
   ]
  },
  {
   "cell_type": "code",
   "execution_count": 186,
   "metadata": {},
   "outputs": [
    {
     "name": "stdout",
     "output_type": "stream",
     "text": [
      "200\n",
      "2000\n"
     ]
    }
   ],
   "source": [
    "print(min(df_vehicle_truck['Distance (km)']))\n",
    "print(max(df_vehicle_truck['Distance (km)']))"
   ]
  },
  {
   "cell_type": "markdown",
   "metadata": {},
   "source": [
    "- This confirms that the vehicle used for transportation does not depend upon distance between 'origin' and 'destination'"
   ]
  },
  {
   "cell_type": "code",
   "execution_count": 187,
   "metadata": {},
   "outputs": [
    {
     "name": "stdout",
     "output_type": "stream",
     "text": [
      "('Jaipur', 'Bangalore'): Truck\n",
      "('Jaipur', 'Mumbai'): Trailer\n",
      "('Jaipur', 'Hyderabad'): Trailer\n",
      "('Jaipur', 'Chennai'): Container\n",
      "('Jaipur', 'Kolkata'): Trailer\n",
      "('Jaipur', 'Lucknow'): Trailer\n",
      "('Jaipur', 'Delhi'): Truck\n",
      "('Jaipur', 'Ahmedabad'): Lorry\n",
      "('Jaipur', 'Pune'): Truck\n",
      "('Bangalore', 'Jaipur'): Truck\n",
      "('Bangalore', 'Mumbai'): Container\n",
      "('Bangalore', 'Hyderabad'): Lorry\n",
      "('Bangalore', 'Chennai'): Truck\n",
      "('Bangalore', 'Kolkata'): Container\n",
      "('Bangalore', 'Lucknow'): Truck\n",
      "('Bangalore', 'Delhi'): Lorry\n",
      "('Bangalore', 'Ahmedabad'): Truck\n",
      "('Bangalore', 'Pune'): Lorry\n",
      "('Mumbai', 'Jaipur'): Truck\n",
      "('Mumbai', 'Bangalore'): Trailer\n",
      "('Mumbai', 'Hyderabad'): Trailer\n",
      "('Mumbai', 'Chennai'): Lorry\n",
      "('Mumbai', 'Kolkata'): Truck\n",
      "('Mumbai', 'Lucknow'): Truck\n",
      "('Mumbai', 'Delhi'): Trailer\n",
      "('Mumbai', 'Ahmedabad'): Container\n",
      "('Mumbai', 'Pune'): Lorry\n",
      "('Hyderabad', 'Jaipur'): Trailer\n",
      "('Hyderabad', 'Bangalore'): Truck\n",
      "('Hyderabad', 'Mumbai'): Trailer\n",
      "('Hyderabad', 'Chennai'): Trailer\n",
      "('Hyderabad', 'Kolkata'): Trailer\n",
      "('Hyderabad', 'Lucknow'): Truck\n",
      "('Hyderabad', 'Delhi'): Lorry\n",
      "('Hyderabad', 'Ahmedabad'): Trailer\n",
      "('Hyderabad', 'Pune'): Lorry\n",
      "('Chennai', 'Jaipur'): Lorry\n",
      "('Chennai', 'Bangalore'): Lorry\n",
      "('Chennai', 'Mumbai'): Truck\n",
      "('Chennai', 'Hyderabad'): Lorry\n",
      "('Chennai', 'Kolkata'): Container\n",
      "('Chennai', 'Lucknow'): Lorry\n",
      "('Chennai', 'Delhi'): Container\n",
      "('Chennai', 'Ahmedabad'): Lorry\n",
      "('Chennai', 'Pune'): Container\n",
      "('Kolkata', 'Jaipur'): Lorry\n",
      "('Kolkata', 'Bangalore'): Truck\n",
      "('Kolkata', 'Mumbai'): Container\n",
      "('Kolkata', 'Hyderabad'): Truck\n",
      "('Kolkata', 'Chennai'): Truck\n",
      "('Kolkata', 'Lucknow'): Container\n",
      "('Kolkata', 'Delhi'): Trailer\n",
      "('Kolkata', 'Ahmedabad'): Truck\n",
      "('Kolkata', 'Pune'): Container\n",
      "('Lucknow', 'Jaipur'): Lorry\n",
      "('Lucknow', 'Bangalore'): Lorry\n",
      "('Lucknow', 'Mumbai'): Lorry\n",
      "('Lucknow', 'Hyderabad'): Lorry\n",
      "('Lucknow', 'Chennai'): Lorry\n",
      "('Lucknow', 'Kolkata'): Truck\n",
      "('Lucknow', 'Delhi'): Truck\n",
      "('Lucknow', 'Ahmedabad'): Lorry\n",
      "('Lucknow', 'Pune'): Truck\n",
      "('Delhi', 'Jaipur'): Lorry\n",
      "('Delhi', 'Bangalore'): Lorry\n",
      "('Delhi', 'Mumbai'): Truck\n",
      "('Delhi', 'Hyderabad'): Truck\n",
      "('Delhi', 'Chennai'): Container\n",
      "('Delhi', 'Kolkata'): Container\n",
      "('Delhi', 'Lucknow'): Truck\n",
      "('Delhi', 'Ahmedabad'): Truck\n",
      "('Delhi', 'Pune'): Container\n",
      "('Ahmedabad', 'Jaipur'): Lorry\n",
      "('Ahmedabad', 'Bangalore'): Lorry\n",
      "('Ahmedabad', 'Mumbai'): Container\n",
      "('Ahmedabad', 'Hyderabad'): Lorry\n",
      "('Ahmedabad', 'Chennai'): Trailer\n",
      "('Ahmedabad', 'Kolkata'): Trailer\n",
      "('Ahmedabad', 'Lucknow'): Lorry\n",
      "('Ahmedabad', 'Delhi'): Lorry\n",
      "('Ahmedabad', 'Pune'): Container\n",
      "('Pune', 'Jaipur'): Trailer\n",
      "('Pune', 'Bangalore'): Trailer\n",
      "('Pune', 'Mumbai'): Truck\n",
      "('Pune', 'Hyderabad'): Lorry\n",
      "('Pune', 'Chennai'): Truck\n",
      "('Pune', 'Kolkata'): Truck\n",
      "('Pune', 'Lucknow'): Container\n",
      "('Pune', 'Delhi'): Trailer\n",
      "('Pune', 'Ahmedabad'): Container\n"
     ]
    }
   ],
   "source": [
    "import pandas as pd\n",
    "from itertools import permutations\n",
    "\n",
    "def find_most_used_transport(destinations, df):\n",
    "    destination_pairs = list(permutations(destinations, 2))\n",
    "    result = {}\n",
    "    \n",
    "    for source, destination in destination_pairs:\n",
    "        pair_data = df[(df['Origin'] == source) & (df['Destination'] == destination)]\n",
    "        \n",
    "        if not pair_data.empty:\n",
    "            most_used = pair_data['Vehicle Type'].value_counts().idxmax()\n",
    "            result[(source, destination)] = most_used\n",
    "        else:\n",
    "            result[(source, destination)] = None  \n",
    "    \n",
    "    return result\n",
    "\n",
    "destinations = ['Jaipur', 'Bangalore', 'Mumbai', 'Hyderabad', 'Chennai', 'Kolkata', \n",
    "                'Lucknow', 'Delhi', 'Ahmedabad', 'Pune']\n",
    "\n",
    "result = find_most_used_transport(destinations, df)\n",
    "\n",
    "# Display the result\n",
    "for pair, vehicle in result.items():\n",
    "    print(f\"{pair}: {vehicle}\")\n"
   ]
  },
  {
   "cell_type": "code",
   "execution_count": 188,
   "metadata": {},
   "outputs": [],
   "source": [
    "for index, row in df.iterrows():\n",
    "        if pd.isna(row['Vehicle Type']):  \n",
    "            source = row['Origin']\n",
    "            destination = row['Destination']\n",
    "            # Fetch the most used vehicle type for the (Source, Destination) pair\n",
    "            most_used = result.get((source, destination))\n",
    "            # Fill the NaN value if most used vehicle type is found\n",
    "            if most_used:\n",
    "                df.at[index, 'Vehicle Type'] = most_used"
   ]
  },
  {
   "cell_type": "code",
   "execution_count": 189,
   "metadata": {},
   "outputs": [
    {
     "data": {
      "text/plain": [
       "Shipment ID              0\n",
       "Origin                   0\n",
       "Destination              0\n",
       "Shipment Date            0\n",
       "Planned Delivery Date    0\n",
       "Actual Delivery Date     0\n",
       "Vehicle Type             0\n",
       "Distance (km)            0\n",
       "Weather Conditions       0\n",
       "Traffic Conditions       0\n",
       "Delayed                  0\n",
       "dtype: int64"
      ]
     },
     "execution_count": 189,
     "metadata": {},
     "output_type": "execute_result"
    }
   ],
   "source": [
    "df.isnull().sum()"
   ]
  },
  {
   "cell_type": "code",
   "execution_count": 190,
   "metadata": {},
   "outputs": [
    {
     "data": {
      "text/plain": [
       "Vehicle Type\n",
       "Lorry        5048\n",
       "Truck        5029\n",
       "Container    4967\n",
       "Trailer      4956\n",
       "Name: count, dtype: int64"
      ]
     },
     "execution_count": 190,
     "metadata": {},
     "output_type": "execute_result"
    }
   ],
   "source": [
    "df['Vehicle Type'].value_counts()"
   ]
  },
  {
   "cell_type": "code",
   "execution_count": 191,
   "metadata": {},
   "outputs": [
    {
     "data": {
      "text/plain": [
       "<Axes: xlabel='Vehicle Type', ylabel='count'>"
      ]
     },
     "execution_count": 191,
     "metadata": {},
     "output_type": "execute_result"
    },
    {
     "data": {
      "image/png": "[encoded data removed]",
      "text/plain": [
       "<Figure size 400x400 with 1 Axes>"
      ]
     },
     "metadata": {},
     "output_type": "display_data"
    }
   ],
   "source": [
    "plt.figure(figsize=(4, 4)) \n",
    "sns.countplot(x='Vehicle Type', data=df)"
   ]
  },
  {
   "cell_type": "markdown",
   "metadata": {},
   "source": [
    "##### Above results in an *almost* even distribution between vehicles"
   ]
  },
  {
   "cell_type": "markdown",
   "metadata": {},
   "source": [
    "###  Univariate analysis\n",
    "- Origin Column"
   ]
  },
  {
   "cell_type": "code",
   "execution_count": 192,
   "metadata": {},
   "outputs": [
    {
     "data": {
      "text/plain": [
       "array(['Jaipur', 'Bangalore', 'Mumbai', 'Hyderabad', 'Chennai', 'Kolkata',\n",
       "       'Lucknow', 'Delhi', 'Ahmedabad', 'Pune'], dtype=object)"
      ]
     },
     "execution_count": 192,
     "metadata": {},
     "output_type": "execute_result"
    }
   ],
   "source": [
    "df['Origin'].unique()"
   ]
  },
  {
   "cell_type": "code",
   "execution_count": 193,
   "metadata": {},
   "outputs": [
    {
     "data": {
      "text/plain": [
       "<Figure size 600x600 with 0 Axes>"
      ]
     },
     "execution_count": 193,
     "metadata": {},
     "output_type": "execute_result"
    },
    {
     "data": {
      "text/plain": [
       "<Figure size 600x600 with 0 Axes>"
      ]
     },
     "metadata": {},
     "output_type": "display_data"
    }
   ],
   "source": [
    "plt.figure(figsize=(6, 6))"
   ]
  },
  {
   "cell_type": "code",
   "execution_count": 194,
   "metadata": {},
   "outputs": [
    {
     "data": {
      "text/plain": [
       "([<matplotlib.patches.Wedge at 0x20186085210>,\n",
       "  <matplotlib.patches.Wedge at 0x20186f02990>,\n",
       "  <matplotlib.patches.Wedge at 0x20186f028d0>,\n",
       "  <matplotlib.patches.Wedge at 0x20186f02950>,\n",
       "  <matplotlib.patches.Wedge at 0x20186f8a450>,\n",
       "  <matplotlib.patches.Wedge at 0x20186f8afd0>,\n",
       "  <matplotlib.patches.Wedge at 0x20186f56190>,\n",
       "  <matplotlib.patches.Wedge at 0x20186f57bd0>,\n",
       "  <matplotlib.patches.Wedge at 0x20186f57710>,\n",
       "  <matplotlib.patches.Wedge at 0x20186f894d0>],\n",
       " [Text(-0.3590869191375756, 1.039738709726768, 'Jaipur'),\n",
       "  Text(-0.9205248502103587, 0.6021909997211823, 'Bangalore'),\n",
       "  Text(-1.0974566205340754, -0.07475938767757821, 'Mumbai'),\n",
       "  Text(-0.8357728766071085, -0.7151808853205454, 'Hyderabad'),\n",
       "  Text(-0.254268980240592, -1.070208991593422, 'Chennai'),\n",
       "  Text(0.4163180042738502, -1.0181745033723044, 'Kolkata'),\n",
       "  Text(0.9308840844611854, -0.586050186670784, 'Lucknow'),\n",
       "  Text(1.0981326428060043, 0.06406792336185888, 'Delhi'),\n",
       "  Text(0.8620270146380578, 0.6833077096259035, 'Ahmedabad'),\n",
       "  Text(0.32426996463024615, 1.051117971513521, 'Pune')],\n",
       " [Text(-0.1958655922568594, 0.5671302053055098, '10.6'),\n",
       "  Text(-0.5021044637511046, 0.3284678180297358, '10.4'),\n",
       "  Text(-0.5986127021094956, -0.040777847824133566, '10.2'),\n",
       "  Text(-0.4558761145129682, -0.39009866472029747, '10.1'),\n",
       "  Text(-0.1386921710403229, -0.5837503590509575, '9.9'),\n",
       "  Text(0.22708254778573644, -0.5553679109303478, '9.9'),\n",
       "  Text(0.5077549551606465, -0.31966373818406396, '9.9'),\n",
       "  Text(0.5989814415305477, 0.03494614001555938, '9.9'),\n",
       "  Text(0.4701965534389405, 0.37271329615958365, '9.6'),\n",
       "  Text(0.17687452616195243, 0.5733370753710114, '9.5')])"
      ]
     },
     "execution_count": 194,
     "metadata": {},
     "output_type": "execute_result"
    },
    {
     "data": {
      "image/png": "[encoded data removed]",
      "text/plain": [
       "<Figure size 640x480 with 1 Axes>"
      ]
     },
     "metadata": {},
     "output_type": "display_data"
    }
   ],
   "source": [
    "plt.pie(df['Origin'].value_counts(), labels=df['Origin'].unique(),autopct='%.1f', startangle=90)"
   ]
  },
  {
   "cell_type": "code",
   "execution_count": 195,
   "metadata": {},
   "outputs": [
    {
     "data": {
      "text/plain": [
       "Origin\n",
       "Pune         2117\n",
       "Mumbai       2078\n",
       "Delhi        2043\n",
       "Bangalore    2030\n",
       "Chennai      1979\n",
       "Hyderabad    1977\n",
       "Ahmedabad    1975\n",
       "Kolkata      1973\n",
       "Lucknow      1923\n",
       "Jaipur       1905\n",
       "Name: count, dtype: int64"
      ]
     },
     "execution_count": 195,
     "metadata": {},
     "output_type": "execute_result"
    }
   ],
   "source": [
    "df['Origin'].value_counts()\n"
   ]
  },
  {
   "cell_type": "markdown",
   "metadata": {},
   "source": [
    "### Destination"
   ]
  },
  {
   "cell_type": "code",
   "execution_count": 196,
   "metadata": {},
   "outputs": [
    {
     "data": {
      "text/plain": [
       "array(['Mumbai', 'Delhi', 'Chennai', 'Ahmedabad', 'Kolkata', 'Lucknow',\n",
       "       'Bangalore', 'Pune', 'Jaipur', 'Hyderabad'], dtype=object)"
      ]
     },
     "execution_count": 196,
     "metadata": {},
     "output_type": "execute_result"
    }
   ],
   "source": [
    "df['Destination'].unique()"
   ]
  },
  {
   "cell_type": "code",
   "execution_count": 197,
   "metadata": {},
   "outputs": [
    {
     "data": {
      "text/plain": [
       "Destination\n",
       "Jaipur       2044\n",
       "Chennai      2042\n",
       "Bangalore    2032\n",
       "Lucknow      2028\n",
       "Ahmedabad    2012\n",
       "Pune         1989\n",
       "Delhi        1982\n",
       "Mumbai       1976\n",
       "Hyderabad    1953\n",
       "Kolkata      1942\n",
       "Name: count, dtype: int64"
      ]
     },
     "execution_count": 197,
     "metadata": {},
     "output_type": "execute_result"
    }
   ],
   "source": [
    "df['Destination'].value_counts()"
   ]
  },
  {
   "cell_type": "markdown",
   "metadata": {},
   "source": [
    "- We can confidently say that maximum deliveries start from 'Pune' and maximum goods are transported to 'Jaipur'\n",
    "- We can confidently say that least number of deliveries start from *Jaipur* and *Kolkata* has least incoming deliveries."
   ]
  },
  {
   "cell_type": "code",
   "execution_count": 198,
   "metadata": {},
   "outputs": [
    {
     "name": "stderr",
     "output_type": "stream",
     "text": [
      "C:\\Users\\aarus\\AppData\\Local\\Temp\\ipykernel_11728\\1597622708.py:1: FutureWarning: \n",
      "\n",
      "Passing `palette` without assigning `hue` is deprecated and will be removed in v0.14.0. Assign the `x` variable to `hue` and set `legend=False` for the same effect.\n",
      "\n",
      "  sns.countplot(x='Destination', data=df,palette='viridis')\n"
     ]
    },
    {
     "data": {
      "text/plain": [
       "([0, 1, 2, 3, 4, 5, 6, 7, 8, 9],\n",
       " [Text(0, 0, 'Mumbai'),\n",
       "  Text(1, 0, 'Delhi'),\n",
       "  Text(2, 0, 'Chennai'),\n",
       "  Text(3, 0, 'Ahmedabad'),\n",
       "  Text(4, 0, 'Kolkata'),\n",
       "  Text(5, 0, 'Lucknow'),\n",
       "  Text(6, 0, 'Bangalore'),\n",
       "  Text(7, 0, 'Pune'),\n",
       "  Text(8, 0, 'Jaipur'),\n",
       "  Text(9, 0, 'Hyderabad')])"
      ]
     },
     "execution_count": 198,
     "metadata": {},
     "output_type": "execute_result"
    },
    {
     "data": {
      "image/png": "[encoded data removed]",
      "text/plain": [
       "<Figure size 640x480 with 1 Axes>"
      ]
     },
     "metadata": {},
     "output_type": "display_data"
    }
   ],
   "source": [
    "sns.countplot(x='Destination', data=df,palette='viridis')\n",
    "plt.xticks(rotation=45)"
   ]
  },
  {
   "cell_type": "code",
   "execution_count": 199,
   "metadata": {},
   "outputs": [
    {
     "data": {
      "text/plain": [
       "Index(['Shipment ID', 'Origin', 'Destination', 'Shipment Date',\n",
       "       'Planned Delivery Date', 'Actual Delivery Date', 'Vehicle Type',\n",
       "       'Distance (km)', 'Weather Conditions', 'Traffic Conditions', 'Delayed'],\n",
       "      dtype='object')"
      ]
     },
     "execution_count": 199,
     "metadata": {},
     "output_type": "execute_result"
    }
   ],
   "source": [
    "df.columns"
   ]
  },
  {
   "cell_type": "markdown",
   "metadata": {},
   "source": [
    "### Distance Column"
   ]
  },
  {
   "cell_type": "code",
   "execution_count": 200,
   "metadata": {},
   "outputs": [
    {
     "name": "stderr",
     "output_type": "stream",
     "text": [
      "C:\\Users\\aarus\\AppData\\Local\\Temp\\ipykernel_11728\\1925555485.py:1: UserWarning: Ignoring `palette` because no `hue` variable has been assigned.\n",
      "  sns.histplot(df['Distance (km)'],kde=True,bins=30, color='red',palette='viridis')\n"
     ]
    },
    {
     "data": {
      "text/plain": [
       "<Axes: xlabel='Distance (km)', ylabel='Count'>"
      ]
     },
     "execution_count": 200,
     "metadata": {},
     "output_type": "execute_result"
    },
    {
     "data": {
      "image/png": "[encoded data removed]",
      "text/plain": [
       "<Figure size 640x480 with 1 Axes>"
      ]
     },
     "metadata": {},
     "output_type": "display_data"
    }
   ],
   "source": [
    "sns.histplot(df['Distance (km)'],kde=True,bins=30, color='red',palette='viridis')"
   ]
  },
  {
   "cell_type": "code",
   "execution_count": 201,
   "metadata": {},
   "outputs": [
    {
     "name": "stdout",
     "output_type": "stream",
     "text": [
      "Least Distance: 200\n",
      "Max Distance: 2000\n"
     ]
    }
   ],
   "source": [
    "least_distance=min(df['Distance (km)'])\n",
    "max_distance=max(df['Distance (km)'])\n",
    "print(\"Least Distance:\",least_distance)\n",
    "print(\"Max Distance:\",max_distance)"
   ]
  },
  {
   "cell_type": "markdown",
   "metadata": {},
   "source": [
    "- From here we can infer that no deliveries have been performed for less than *200 kms* and more than *2000 kms*"
   ]
  },
  {
   "cell_type": "markdown",
   "metadata": {},
   "source": [
    "#### Weather Conditions"
   ]
  },
  {
   "cell_type": "code",
   "execution_count": 202,
   "metadata": {},
   "outputs": [
    {
     "name": "stderr",
     "output_type": "stream",
     "text": [
      "C:\\Users\\aarus\\AppData\\Local\\Temp\\ipykernel_11728\\1480220072.py:1: FutureWarning: \n",
      "\n",
      "Passing `palette` without assigning `hue` is deprecated and will be removed in v0.14.0. Assign the `x` variable to `hue` and set `legend=False` for the same effect.\n",
      "\n",
      "  sns.countplot(x='Weather Conditions', data=df,palette='viridis')\n"
     ]
    },
    {
     "data": {
      "text/plain": [
       "<Axes: xlabel='Weather Conditions', ylabel='count'>"
      ]
     },
     "execution_count": 202,
     "metadata": {},
     "output_type": "execute_result"
    },
    {
     "data": {
      "image/png": "[encoded data removed]",
      "text/plain": [
       "<Figure size 640x480 with 1 Axes>"
      ]
     },
     "metadata": {},
     "output_type": "display_data"
    }
   ],
   "source": [
    "sns.countplot(x='Weather Conditions', data=df,palette='viridis')"
   ]
  },
  {
   "cell_type": "code",
   "execution_count": 203,
   "metadata": {},
   "outputs": [
    {
     "data": {
      "text/html": [
       "<div>\n",
       "<style scoped>\n",
       "    .dataframe tbody tr th:only-of-type {\n",
       "        vertical-align: middle;\n",
       "    }\n",
       "\n",
       "    .dataframe tbody tr th {\n",
       "        vertical-align: top;\n",
       "    }\n",
       "\n",
       "    .dataframe thead th {\n",
       "        text-align: right;\n",
       "    }\n",
       "</style>\n",
       "<table border=\"1\" class=\"dataframe\">\n",
       "  <thead>\n",
       "    <tr style=\"text-align: right;\">\n",
       "      <th></th>\n",
       "      <th>Shipment ID</th>\n",
       "      <th>Origin</th>\n",
       "      <th>Destination</th>\n",
       "      <th>Shipment Date</th>\n",
       "      <th>Planned Delivery Date</th>\n",
       "      <th>Actual Delivery Date</th>\n",
       "      <th>Vehicle Type</th>\n",
       "      <th>Distance (km)</th>\n",
       "      <th>Weather Conditions</th>\n",
       "      <th>Traffic Conditions</th>\n",
       "      <th>Delayed</th>\n",
       "    </tr>\n",
       "  </thead>\n",
       "  <tbody>\n",
       "  </tbody>\n",
       "</table>\n",
       "</div>"
      ],
      "text/plain": [
       "Empty DataFrame\n",
       "Columns: [Shipment ID, Origin, Destination, Shipment Date, Planned Delivery Date, Actual Delivery Date, Vehicle Type, Distance (km), Weather Conditions, Traffic Conditions, Delayed]\n",
       "Index: []"
      ]
     },
     "execution_count": 203,
     "metadata": {},
     "output_type": "execute_result"
    }
   ],
   "source": [
    "df[(df['Weather Conditions']=='Rain') & (df['Delayed']=='No')] "
   ]
  },
  {
   "cell_type": "markdown",
   "metadata": {},
   "source": [
    "- This shows that packages have never been delivered in Rainy weather conditions"
   ]
  },
  {
   "cell_type": "code",
   "execution_count": 205,
   "metadata": {},
   "outputs": [
    {
     "data": {
      "text/html": [
       "<div>\n",
       "<style scoped>\n",
       "    .dataframe tbody tr th:only-of-type {\n",
       "        vertical-align: middle;\n",
       "    }\n",
       "\n",
       "    .dataframe tbody tr th {\n",
       "        vertical-align: top;\n",
       "    }\n",
       "\n",
       "    .dataframe thead th {\n",
       "        text-align: right;\n",
       "    }\n",
       "</style>\n",
       "<table border=\"1\" class=\"dataframe\">\n",
       "  <thead>\n",
       "    <tr style=\"text-align: right;\">\n",
       "      <th></th>\n",
       "      <th>Shipment ID</th>\n",
       "      <th>Origin</th>\n",
       "      <th>Destination</th>\n",
       "      <th>Shipment Date</th>\n",
       "      <th>Planned Delivery Date</th>\n",
       "      <th>Actual Delivery Date</th>\n",
       "      <th>Vehicle Type</th>\n",
       "      <th>Distance (km)</th>\n",
       "      <th>Weather Conditions</th>\n",
       "      <th>Traffic Conditions</th>\n",
       "      <th>Delayed</th>\n",
       "    </tr>\n",
       "  </thead>\n",
       "  <tbody>\n",
       "  </tbody>\n",
       "</table>\n",
       "</div>"
      ],
      "text/plain": [
       "Empty DataFrame\n",
       "Columns: [Shipment ID, Origin, Destination, Shipment Date, Planned Delivery Date, Actual Delivery Date, Vehicle Type, Distance (km), Weather Conditions, Traffic Conditions, Delayed]\n",
       "Index: []"
      ]
     },
     "execution_count": 205,
     "metadata": {},
     "output_type": "execute_result"
    }
   ],
   "source": [
    "df[(df['Weather Conditions']=='Fog') & (df['Delayed']=='No')] "
   ]
  },
  {
   "cell_type": "markdown",
   "metadata": {},
   "source": [
    "- This shows that packages are not on time in *Fog* conditions"
   ]
  },
  {
   "cell_type": "code",
   "execution_count": 209,
   "metadata": {},
   "outputs": [
    {
     "data": {
      "text/html": [
       "<div>\n",
       "<style scoped>\n",
       "    .dataframe tbody tr th:only-of-type {\n",
       "        vertical-align: middle;\n",
       "    }\n",
       "\n",
       "    .dataframe tbody tr th {\n",
       "        vertical-align: top;\n",
       "    }\n",
       "\n",
       "    .dataframe thead th {\n",
       "        text-align: right;\n",
       "    }\n",
       "</style>\n",
       "<table border=\"1\" class=\"dataframe\">\n",
       "  <thead>\n",
       "    <tr style=\"text-align: right;\">\n",
       "      <th></th>\n",
       "      <th>Shipment ID</th>\n",
       "      <th>Origin</th>\n",
       "      <th>Destination</th>\n",
       "      <th>Shipment Date</th>\n",
       "      <th>Planned Delivery Date</th>\n",
       "      <th>Actual Delivery Date</th>\n",
       "      <th>Vehicle Type</th>\n",
       "      <th>Distance (km)</th>\n",
       "      <th>Weather Conditions</th>\n",
       "      <th>Traffic Conditions</th>\n",
       "      <th>Delayed</th>\n",
       "    </tr>\n",
       "  </thead>\n",
       "  <tbody>\n",
       "  </tbody>\n",
       "</table>\n",
       "</div>"
      ],
      "text/plain": [
       "Empty DataFrame\n",
       "Columns: [Shipment ID, Origin, Destination, Shipment Date, Planned Delivery Date, Actual Delivery Date, Vehicle Type, Distance (km), Weather Conditions, Traffic Conditions, Delayed]\n",
       "Index: []"
      ]
     },
     "execution_count": 209,
     "metadata": {},
     "output_type": "execute_result"
    }
   ],
   "source": [
    "df[(df['Weather Conditions']=='Storm') & (df['Delayed']=='No')] "
   ]
  },
  {
   "cell_type": "markdown",
   "metadata": {},
   "source": [
    "- This shows packages are never on time in *Stormy Conditions*"
   ]
  },
  {
   "cell_type": "code",
   "execution_count": 214,
   "metadata": {},
   "outputs": [
    {
     "data": {
      "text/plain": [
       "8709"
      ]
     },
     "execution_count": 214,
     "metadata": {},
     "output_type": "execute_result"
    }
   ],
   "source": [
    "df[(df['Weather Conditions']=='Clear') & (df['Delayed']=='Yes')].shape[0]"
   ]
  },
  {
   "cell_type": "code",
   "execution_count": 215,
   "metadata": {},
   "outputs": [
    {
     "data": {
      "text/plain": [
       "3067"
      ]
     },
     "execution_count": 215,
     "metadata": {},
     "output_type": "execute_result"
    }
   ],
   "source": [
    "df[(df['Weather Conditions']=='Rain') & (df['Delayed']=='Yes')].shape[0]"
   ]
  },
  {
   "cell_type": "code",
   "execution_count": 216,
   "metadata": {},
   "outputs": [
    {
     "data": {
      "text/plain": [
       "2014"
      ]
     },
     "execution_count": 216,
     "metadata": {},
     "output_type": "execute_result"
    }
   ],
   "source": [
    "df[(df['Weather Conditions']=='Fog') & (df['Delayed']=='Yes')].shape[0]"
   ]
  },
  {
   "cell_type": "code",
   "execution_count": 217,
   "metadata": {},
   "outputs": [
    {
     "data": {
      "text/plain": [
       "967"
      ]
     },
     "execution_count": 217,
     "metadata": {},
     "output_type": "execute_result"
    }
   ],
   "source": [
    "df[(df['Weather Conditions']=='Storm') & (df['Delayed']=='Yes')].shape[0]"
   ]
  },
  {
   "cell_type": "markdown",
   "metadata": {},
   "source": [
    "- This can prove one thing that here when weather conditions are *Clear* the package is more likely to be *Delayed*"
   ]
  },
  {
   "cell_type": "markdown",
   "metadata": {},
   "source": [
    "### Traffic Conditions "
   ]
  },
  {
   "cell_type": "code",
   "execution_count": 32,
   "metadata": {},
   "outputs": [
    {
     "name": "stderr",
     "output_type": "stream",
     "text": [
      "C:\\Users\\aarus\\AppData\\Local\\Temp\\ipykernel_11728\\2952696407.py:1: FutureWarning: \n",
      "\n",
      "Passing `palette` without assigning `hue` is deprecated and will be removed in v0.14.0. Assign the `x` variable to `hue` and set `legend=False` for the same effect.\n",
      "\n",
      "  sns.countplot(x='Traffic Conditions', data=df,palette='viridis')\n"
     ]
    },
    {
     "data": {
      "text/plain": [
       "<Axes: xlabel='Traffic Conditions', ylabel='count'>"
      ]
     },
     "execution_count": 32,
     "metadata": {},
     "output_type": "execute_result"
    },
    {
     "data": {
      "image/png": "[encoded data removed]",
      "text/plain": [
       "<Figure size 640x480 with 1 Axes>"
      ]
     },
     "metadata": {},
     "output_type": "display_data"
    }
   ],
   "source": [
    "sns.countplot(x='Traffic Conditions', data=df,palette='viridis')"
   ]
  },
  {
   "cell_type": "markdown",
   "metadata": {},
   "source": [
    "#### Delayed Column\n",
    " - It clearly indicates a class imbalance"
   ]
  },
  {
   "cell_type": "code",
   "execution_count": 33,
   "metadata": {},
   "outputs": [
    {
     "data": {
      "text/plain": [
       "Delayed\n",
       "Yes    14757\n",
       "No      5243\n",
       "Name: count, dtype: int64"
      ]
     },
     "execution_count": 33,
     "metadata": {},
     "output_type": "execute_result"
    }
   ],
   "source": [
    "df['Delayed'].value_counts()"
   ]
  },
  {
   "cell_type": "code",
   "execution_count": 34,
   "metadata": {},
   "outputs": [
    {
     "name": "stderr",
     "output_type": "stream",
     "text": [
      "C:\\Users\\aarus\\AppData\\Local\\Temp\\ipykernel_11728\\4009106053.py:1: FutureWarning: \n",
      "\n",
      "Passing `palette` without assigning `hue` is deprecated and will be removed in v0.14.0. Assign the `x` variable to `hue` and set `legend=False` for the same effect.\n",
      "\n",
      "  sns.countplot(x='Delayed', data=df,palette='viridis')\n"
     ]
    },
    {
     "data": {
      "text/plain": [
       "<Axes: xlabel='Delayed', ylabel='count'>"
      ]
     },
     "execution_count": 34,
     "metadata": {},
     "output_type": "execute_result"
    },
    {
     "data": {
      "image/png": "[encoded data removed]",
      "text/plain": [
       "<Figure size 640x480 with 1 Axes>"
      ]
     },
     "metadata": {},
     "output_type": "display_data"
    }
   ],
   "source": [
    "sns.countplot(x='Delayed', data=df,palette='viridis')"
   ]
  },
  {
   "cell_type": "markdown",
   "metadata": {},
   "source": [
    "### Bivariate Analysis"
   ]
  },
  {
   "cell_type": "markdown",
   "metadata": {},
   "source": [
    "- Delay Vs Origin "
   ]
  },
  {
   "cell_type": "code",
   "execution_count": 35,
   "metadata": {},
   "outputs": [
    {
     "data": {
      "text/plain": [
       "([0, 1, 2, 3, 4, 5, 6, 7, 8, 9],\n",
       " [Text(0, 0, 'Jaipur'),\n",
       "  Text(1, 0, 'Bangalore'),\n",
       "  Text(2, 0, 'Mumbai'),\n",
       "  Text(3, 0, 'Hyderabad'),\n",
       "  Text(4, 0, 'Chennai'),\n",
       "  Text(5, 0, 'Kolkata'),\n",
       "  Text(6, 0, 'Lucknow'),\n",
       "  Text(7, 0, 'Delhi'),\n",
       "  Text(8, 0, 'Ahmedabad'),\n",
       "  Text(9, 0, 'Pune')])"
      ]
     },
     "execution_count": 35,
     "metadata": {},
     "output_type": "execute_result"
    },
    {
     "data": {
      "image/png": "[encoded data removed]",
      "text/plain": [
       "<Figure size 640x480 with 1 Axes>"
      ]
     },
     "metadata": {},
     "output_type": "display_data"
    }
   ],
   "source": [
    "sns.countplot(x='Origin', data=df,hue='Delayed',palette='viridis')\n",
    "plt.xticks(rotation=45)"
   ]
  },
  {
   "cell_type": "markdown",
   "metadata": {},
   "source": [
    "- Delay Vs Destination"
   ]
  },
  {
   "cell_type": "code",
   "execution_count": 36,
   "metadata": {},
   "outputs": [
    {
     "data": {
      "text/plain": [
       "([0, 1, 2, 3, 4, 5, 6, 7, 8, 9],\n",
       " [Text(0, 0, 'Mumbai'),\n",
       "  Text(1, 0, 'Delhi'),\n",
       "  Text(2, 0, 'Chennai'),\n",
       "  Text(3, 0, 'Ahmedabad'),\n",
       "  Text(4, 0, 'Kolkata'),\n",
       "  Text(5, 0, 'Lucknow'),\n",
       "  Text(6, 0, 'Bangalore'),\n",
       "  Text(7, 0, 'Pune'),\n",
       "  Text(8, 0, 'Jaipur'),\n",
       "  Text(9, 0, 'Hyderabad')])"
      ]
     },
     "execution_count": 36,
     "metadata": {},
     "output_type": "execute_result"
    },
    {
     "data": {
      "image/png": "[encoded data removed]",
      "text/plain": [
       "<Figure size 640x480 with 1 Axes>"
      ]
     },
     "metadata": {},
     "output_type": "display_data"
    }
   ],
   "source": [
    "sns.countplot(x='Destination', data=df,hue='Delayed',palette='viridis')\n",
    "plt.xticks(rotation=45)"
   ]
  },
  {
   "cell_type": "markdown",
   "metadata": {},
   "source": [
    "- Delay Vs (Origin, Destination)"
   ]
  },
  {
   "cell_type": "code",
   "execution_count": 37,
   "metadata": {},
   "outputs": [
    {
     "data": {
      "image/png": "[encoded data removed]",
      "text/plain": [
       "<Figure size 1000x800 with 1 Axes>"
      ]
     },
     "metadata": {},
     "output_type": "display_data"
    }
   ],
   "source": [
    "grouped = df.groupby(['Origin', 'Destination'])['Delayed'].value_counts(normalize=True).unstack().fillna(0)\n",
    "\n",
    "#print(grouped)\n",
    "\n",
    "grouped.plot(kind='bar', stacked=True, figsize=(10, 8), color=['green', 'red'])\n",
    "plt.title('Proportion of Delayed vs Non-Delayed by Route')\n",
    "plt.xlabel('Route (Origin, Destination)')\n",
    "plt.ylabel('Proportion')\n",
    "plt.legend(['Not Delayed', 'Delayed'], title='Delay Status')\n",
    "plt.xticks(rotation=90, ha='right')\n",
    "plt.tight_layout()\n",
    "plt.show()"
   ]
  },
  {
   "cell_type": "markdown",
   "metadata": {},
   "source": [
    "#### Origin, Destination Vs Delay"
   ]
  },
  {
   "cell_type": "code",
   "execution_count": 59,
   "metadata": {},
   "outputs": [
    {
     "name": "stdout",
     "output_type": "stream",
     "text": [
      "The pair with the maximum delayed deliveries is ('Pune', 'Jaipur') with 192 delayed deliveries.\n",
      "The pair with the minimum delayed deliveries is ('Lucknow', 'Pune') with 130 delayed deliveries.\n"
     ]
    }
   ],
   "source": [
    "max_delay = 0\n",
    "min_delay=10000000000\n",
    "max_delay_pair = None\n",
    "\n",
    "for i in result.items():\n",
    "    origin, destination = i[0][0], i[0][1]\n",
    "    pair_data = df[(df['Origin']==origin)&(df['Destination']==destination)]\n",
    "    \n",
    "    delayed_count = pair_data['Delayed'].value_counts().get('Yes')\n",
    "    ontime_count=pair_data['Delayed'].value_counts().get('No')\n",
    "    \n",
    "    # Check if this pair has the highest delay\n",
    "    if delayed_count>max_delay:\n",
    "        max_delay=delayed_count\n",
    "        max_delay_pair=(origin, destination)\n",
    "    if delayed_count<min_delay:\n",
    "        min_delay=delayed_count\n",
    "        min_delay_pair=(origin, destination)\n",
    "\n",
    "# Print the pair with the maximum delay\n",
    "print(f\"The pair with the maximum delayed deliveries is {max_delay_pair} with {max_delay} delayed deliveries.\")\n",
    "print(f\"The pair with the minimum delayed deliveries is {min_delay_pair} with {min_delay} delayed deliveries.\")\n",
    "\n",
    "    \n",
    "    "
   ]
  },
  {
   "cell_type": "code",
   "execution_count": 246,
   "metadata": {},
   "outputs": [
    {
     "data": {
      "text/plain": [
       "Index(['Shipment ID', 'Origin', 'Destination', 'Shipment Date',\n",
       "       'Planned Delivery Date', 'Actual Delivery Date', 'Vehicle Type',\n",
       "       'Distance (km)', 'Weather Conditions', 'Traffic Conditions', 'Delayed'],\n",
       "      dtype='object')"
      ]
     },
     "execution_count": 246,
     "metadata": {},
     "output_type": "execute_result"
    }
   ],
   "source": [
    "df.columns"
   ]
  },
  {
   "cell_type": "markdown",
   "metadata": {},
   "source": [
    "### Date Vs Delay"
   ]
  },
  {
   "cell_type": "code",
   "execution_count": 247,
   "metadata": {},
   "outputs": [],
   "source": [
    "df['temp'] = df['Shipment Date'].dt.strftime('%A')"
   ]
  },
  {
   "cell_type": "code",
   "execution_count": 248,
   "metadata": {},
   "outputs": [
    {
     "data": {
      "text/plain": [
       "temp\n",
       "Friday       2943\n",
       "Tuesday      2882\n",
       "Wednesday    2856\n",
       "Thursday     2841\n",
       "Saturday     2835\n",
       "Monday       2832\n",
       "Sunday       2811\n",
       "Name: count, dtype: int64"
      ]
     },
     "execution_count": 248,
     "metadata": {},
     "output_type": "execute_result"
    }
   ],
   "source": [
    "df['temp' ].value_counts()"
   ]
  },
  {
   "cell_type": "markdown",
   "metadata": {},
   "source": [
    "- Max shipments are done on *Friday* and least shipments are done on *Sunday*"
   ]
  },
  {
   "cell_type": "code",
   "execution_count": 249,
   "metadata": {},
   "outputs": [],
   "source": [
    "df['temp'] = df['Planned Delivery Date'].dt.strftime('%A')"
   ]
  },
  {
   "cell_type": "code",
   "execution_count": 250,
   "metadata": {},
   "outputs": [
    {
     "data": {
      "text/plain": [
       "temp\n",
       "Thursday     2896\n",
       "Monday       2889\n",
       "Wednesday    2881\n",
       "Saturday     2870\n",
       "Friday       2846\n",
       "Tuesday      2823\n",
       "Sunday       2795\n",
       "Name: count, dtype: int64"
      ]
     },
     "execution_count": 250,
     "metadata": {},
     "output_type": "execute_result"
    }
   ],
   "source": [
    "df['temp' ].value_counts()"
   ]
  },
  {
   "cell_type": "markdown",
   "metadata": {},
   "source": [
    "- Planned delivery day is mostly *Thursday* "
   ]
  },
  {
   "cell_type": "code",
   "execution_count": 251,
   "metadata": {},
   "outputs": [],
   "source": [
    "df['temp'] = df['Actual Delivery Date'].dt.strftime('%A')"
   ]
  },
  {
   "cell_type": "code",
   "execution_count": 252,
   "metadata": {},
   "outputs": [
    {
     "data": {
      "text/plain": [
       "temp\n",
       "Tuesday      2905\n",
       "Thursday     2876\n",
       "Saturday     2873\n",
       "Friday       2866\n",
       "Monday       2831\n",
       "Wednesday    2827\n",
       "Sunday       2822\n",
       "Name: count, dtype: int64"
      ]
     },
     "execution_count": 252,
     "metadata": {},
     "output_type": "execute_result"
    }
   ],
   "source": [
    "df['temp' ].value_counts()"
   ]
  },
  {
   "cell_type": "markdown",
   "metadata": {},
   "source": [
    "- The packages are being delivered *actually* on Tuesday mostly and least number of packages are delivered during *Sunday*\n"
   ]
  },
  {
   "cell_type": "markdown",
   "metadata": {},
   "source": [
    "### Delay VS Day_Of_Week"
   ]
  },
  {
   "cell_type": "code",
   "execution_count": 253,
   "metadata": {},
   "outputs": [
    {
     "data": {
      "text/plain": [
       "Delayed\n",
       "Yes    14757\n",
       "No      5243\n",
       "Name: count, dtype: int64"
      ]
     },
     "execution_count": 253,
     "metadata": {},
     "output_type": "execute_result"
    }
   ],
   "source": [
    "df_filtered = df[(df['Delayed'] == 'Yes') & (df['temp'] == 'Sunday')]\n",
    "df['Delayed' ].value_counts()"
   ]
  },
  {
   "cell_type": "markdown",
   "metadata": {},
   "source": [
    "### Vehicle Type VS Delay"
   ]
  },
  {
   "cell_type": "code",
   "execution_count": 254,
   "metadata": {},
   "outputs": [
    {
     "data": {
      "text/plain": [
       "<Axes: xlabel='Vehicle Type', ylabel='count'>"
      ]
     },
     "execution_count": 254,
     "metadata": {},
     "output_type": "execute_result"
    },
    {
     "data": {
      "image/png": "[encoded data removed]",
      "text/plain": [
       "<Figure size 640x480 with 1 Axes>"
      ]
     },
     "metadata": {},
     "output_type": "display_data"
    }
   ],
   "source": [
    "sns.countplot(x='Vehicle Type', data=df,hue='Delayed',palette='viridis')"
   ]
  },
  {
   "cell_type": "markdown",
   "metadata": {},
   "source": [
    "#### Distance (Kms) VS Delay"
   ]
  },
  {
   "cell_type": "code",
   "execution_count": 255,
   "metadata": {},
   "outputs": [
    {
     "name": "stderr",
     "output_type": "stream",
     "text": [
      "C:\\Users\\aarus\\AppData\\Local\\Temp\\ipykernel_11728\\4293103842.py:2: FutureWarning: \n",
      "\n",
      "Passing `palette` without assigning `hue` is deprecated and will be removed in v0.14.0. Assign the `x` variable to `hue` and set `legend=False` for the same effect.\n",
      "\n",
      "  sns.boxplot(data=df, x='Delayed', y='Distance (km)', palette='Set2')\n"
     ]
    },
    {
     "data": {
      "image/png": "[encoded data removed]",
      "text/plain": [
       "<Figure size 600x600 with 1 Axes>"
      ]
     },
     "metadata": {},
     "output_type": "display_data"
    }
   ],
   "source": [
    "plt.figure(figsize=(6, 6))\n",
    "sns.boxplot(data=df, x='Delayed', y='Distance (km)', palette='Set2')\n",
    "plt.title('Distance Distribution by Delay Status', fontsize=16)\n",
    "plt.xlabel('Delay Status', fontsize=14)\n",
    "plt.ylabel('Distance', fontsize=14)\n",
    "plt.tight_layout()\n",
    "plt.show()\n",
    "\n",
    "## Delay does not depend upon the distance travelled by the vehicle as the distance distribution is almost same for both delayed and non-delayed vehicles."
   ]
  },
  {
   "cell_type": "markdown",
   "metadata": {},
   "source": [
    "### Delay According to weather and traffic conditions"
   ]
  },
  {
   "cell_type": "code",
   "execution_count": 256,
   "metadata": {},
   "outputs": [
    {
     "name": "stdout",
     "output_type": "stream",
     "text": [
      "Traffic: Heavy, Weather: Clear\n",
      "Traffic: Heavy, Weather: Storm\n",
      "Traffic: Heavy, Weather: Fog\n",
      "Traffic: Heavy, Weather: Rain\n",
      "Traffic: Moderate, Weather: Clear\n",
      "Traffic: Moderate, Weather: Storm\n",
      "Traffic: Moderate, Weather: Fog\n",
      "Traffic: Moderate, Weather: Rain\n",
      "Traffic: Light, Weather: Clear\n",
      "Traffic: Light, Weather: Storm\n",
      "Traffic: Light, Weather: Fog\n",
      "Traffic: Light, Weather: Rain\n"
     ]
    }
   ],
   "source": [
    "import itertools\n",
    "\n",
    "traffic_conditions = ['Heavy', 'Moderate', 'Light']\n",
    "weather_conditions = ['Clear', 'Storm', 'Fog', 'Rain']\n",
    "\n",
    "combinations = list(itertools.product(traffic_conditions, weather_conditions))\n",
    "\n",
    "# Print all combinations\n",
    "for traffic, weather in combinations:\n",
    "    print(f\"Traffic: {traffic}, Weather: {weather}\")\n"
   ]
  },
  {
   "cell_type": "code",
   "execution_count": 257,
   "metadata": {},
   "outputs": [
    {
     "data": {
      "text/html": [
       "<div>\n",
       "<style scoped>\n",
       "    .dataframe tbody tr th:only-of-type {\n",
       "        vertical-align: middle;\n",
       "    }\n",
       "\n",
       "    .dataframe tbody tr th {\n",
       "        vertical-align: top;\n",
       "    }\n",
       "\n",
       "    .dataframe thead th {\n",
       "        text-align: right;\n",
       "    }\n",
       "</style>\n",
       "<table border=\"1\" class=\"dataframe\">\n",
       "  <thead>\n",
       "    <tr style=\"text-align: right;\">\n",
       "      <th></th>\n",
       "      <th>Traffic</th>\n",
       "      <th>Weather</th>\n",
       "      <th>Delay_Count</th>\n",
       "    </tr>\n",
       "  </thead>\n",
       "  <tbody>\n",
       "    <tr>\n",
       "      <th>4</th>\n",
       "      <td>Moderate</td>\n",
       "      <td>Clear</td>\n",
       "      <td>4841</td>\n",
       "    </tr>\n",
       "    <tr>\n",
       "      <th>0</th>\n",
       "      <td>Heavy</td>\n",
       "      <td>Clear</td>\n",
       "      <td>2185</td>\n",
       "    </tr>\n",
       "    <tr>\n",
       "      <th>8</th>\n",
       "      <td>Light</td>\n",
       "      <td>Clear</td>\n",
       "      <td>1683</td>\n",
       "    </tr>\n",
       "    <tr>\n",
       "      <th>11</th>\n",
       "      <td>Light</td>\n",
       "      <td>Rain</td>\n",
       "      <td>1535</td>\n",
       "    </tr>\n",
       "    <tr>\n",
       "      <th>7</th>\n",
       "      <td>Moderate</td>\n",
       "      <td>Rain</td>\n",
       "      <td>1074</td>\n",
       "    </tr>\n",
       "    <tr>\n",
       "      <th>10</th>\n",
       "      <td>Light</td>\n",
       "      <td>Fog</td>\n",
       "      <td>1014</td>\n",
       "    </tr>\n",
       "    <tr>\n",
       "      <th>6</th>\n",
       "      <td>Moderate</td>\n",
       "      <td>Fog</td>\n",
       "      <td>714</td>\n",
       "    </tr>\n",
       "    <tr>\n",
       "      <th>9</th>\n",
       "      <td>Light</td>\n",
       "      <td>Storm</td>\n",
       "      <td>475</td>\n",
       "    </tr>\n",
       "    <tr>\n",
       "      <th>3</th>\n",
       "      <td>Heavy</td>\n",
       "      <td>Rain</td>\n",
       "      <td>458</td>\n",
       "    </tr>\n",
       "    <tr>\n",
       "      <th>5</th>\n",
       "      <td>Moderate</td>\n",
       "      <td>Storm</td>\n",
       "      <td>349</td>\n",
       "    </tr>\n",
       "    <tr>\n",
       "      <th>2</th>\n",
       "      <td>Heavy</td>\n",
       "      <td>Fog</td>\n",
       "      <td>286</td>\n",
       "    </tr>\n",
       "    <tr>\n",
       "      <th>1</th>\n",
       "      <td>Heavy</td>\n",
       "      <td>Storm</td>\n",
       "      <td>143</td>\n",
       "    </tr>\n",
       "  </tbody>\n",
       "</table>\n",
       "</div>"
      ],
      "text/plain": [
       "     Traffic Weather  Delay_Count\n",
       "4   Moderate   Clear         4841\n",
       "0      Heavy   Clear         2185\n",
       "8      Light   Clear         1683\n",
       "11     Light    Rain         1535\n",
       "7   Moderate    Rain         1074\n",
       "10     Light     Fog         1014\n",
       "6   Moderate     Fog          714\n",
       "9      Light   Storm          475\n",
       "3      Heavy    Rain          458\n",
       "5   Moderate   Storm          349\n",
       "2      Heavy     Fog          286\n",
       "1      Heavy   Storm          143"
      ]
     },
     "execution_count": 257,
     "metadata": {},
     "output_type": "execute_result"
    }
   ],
   "source": [
    "\n",
    "results = []\n",
    "\n",
    "for traffic, weather in combinations:\n",
    "    count = df[\n",
    "        (df['Traffic Conditions'] == traffic) & \n",
    "        (df['Weather Conditions'] == weather) & \n",
    "        (df['Delayed'] == 'Yes')\n",
    "    ].shape[0]\n",
    "    results.append({'Traffic': traffic, 'Weather': weather, 'Delay_Count': count})\n",
    "\n",
    "results_df = pd.DataFrame(results)\n",
    "results_df.sort_values(by='Delay_Count', ascending=False)\n"
   ]
  },
  {
   "cell_type": "markdown",
   "metadata": {},
   "source": [
    "- This clearly shows that packages are more likely to get delayed when conditions are *Clear*"
   ]
  },
  {
   "cell_type": "code",
   "execution_count": 258,
   "metadata": {},
   "outputs": [
    {
     "data": {
      "text/plain": [
       "Traffic Conditions\n",
       "Light       9950\n",
       "Moderate    6978\n",
       "Heavy       3072\n",
       "Name: count, dtype: int64"
      ]
     },
     "execution_count": 258,
     "metadata": {},
     "output_type": "execute_result"
    }
   ],
   "source": [
    "df['Traffic Conditions'].value_counts()"
   ]
  },
  {
   "cell_type": "markdown",
   "metadata": {},
   "source": [
    "#### Average days for delivery"
   ]
  },
  {
   "cell_type": "code",
   "execution_count": 259,
   "metadata": {},
   "outputs": [
    {
     "data": {
      "text/plain": [
       "Timedelta('5 days 04:55:16.320000')"
      ]
     },
     "execution_count": 259,
     "metadata": {},
     "output_type": "execute_result"
    }
   ],
   "source": [
    "np.mean(df['Actual Delivery Date']-df['Shipment Date'])"
   ]
  },
  {
   "cell_type": "markdown",
   "metadata": {},
   "source": [
    "#### Average promised delivery days"
   ]
  },
  {
   "cell_type": "code",
   "execution_count": 260,
   "metadata": {},
   "outputs": [
    {
     "data": {
      "text/plain": [
       "Timedelta('3 days 06:27:56.160000')"
      ]
     },
     "execution_count": 260,
     "metadata": {},
     "output_type": "execute_result"
    }
   ],
   "source": [
    "np.mean(df['Planned Delivery Date']-df['Shipment Date'])"
   ]
  },
  {
   "cell_type": "markdown",
   "metadata": {},
   "source": [
    "- #### There is a roughly 3 day's gap between actual delivered package and promised delivery of the package"
   ]
  },
  {
   "cell_type": "code",
   "execution_count": 261,
   "metadata": {},
   "outputs": [
    {
     "data": {
      "text/plain": [
       "Index(['Shipment ID', 'Origin', 'Destination', 'Shipment Date',\n",
       "       'Planned Delivery Date', 'Actual Delivery Date', 'Vehicle Type',\n",
       "       'Distance (km)', 'Weather Conditions', 'Traffic Conditions', 'Delayed',\n",
       "       'temp'],\n",
       "      dtype='object')"
      ]
     },
     "execution_count": 261,
     "metadata": {},
     "output_type": "execute_result"
    }
   ],
   "source": [
    "df.columns"
   ]
  },
  {
   "cell_type": "markdown",
   "metadata": {},
   "source": [
    "## Feature Engineering\n",
    "1. We could make a column according to distance:\n",
    "    - *500Kms* short distance\n",
    "    - *More than 500 kms and less than 1000 kms* medium\n",
    "    - *More than 1000kms* large"
   ]
  },
  {
   "cell_type": "code",
   "execution_count": 263,
   "metadata": {},
   "outputs": [],
   "source": [
    "df_new = df.copy()"
   ]
  },
  {
   "cell_type": "code",
   "execution_count": 264,
   "metadata": {},
   "outputs": [],
   "source": [
    "df_new['Distance Type'] = np.where(df_new['Distance (km)'] < 500, 'Short', np.where(df_new['Distance (km)'] <= 1000, 'Medium', 'Large'))"
   ]
  },
  {
   "cell_type": "code",
   "execution_count": 265,
   "metadata": {},
   "outputs": [
    {
     "data": {
      "text/plain": [
       "Distance Type\n",
       "Large     11101\n",
       "Medium     5601\n",
       "Short      3298\n",
       "Name: count, dtype: int64"
      ]
     },
     "execution_count": 265,
     "metadata": {},
     "output_type": "execute_result"
    }
   ],
   "source": [
    "df_new['Distance Type'].value_counts()"
   ]
  },
  {
   "cell_type": "code",
   "execution_count": 266,
   "metadata": {},
   "outputs": [
    {
     "data": {
      "text/plain": [
       "<Axes: xlabel='Distance Type', ylabel='count'>"
      ]
     },
     "execution_count": 266,
     "metadata": {},
     "output_type": "execute_result"
    },
    {
     "data": {
      "image/png": "[encoded data removed]",
      "text/plain": [
       "<Figure size 640x480 with 1 Axes>"
      ]
     },
     "metadata": {},
     "output_type": "display_data"
    }
   ],
   "source": [
    "sns.countplot(x='Distance Type', hue='Vehicle Type',data=df_new,palette='viridis')"
   ]
  },
  {
   "cell_type": "markdown",
   "metadata": {},
   "source": [
    "- We can infer that all types of vehicles are being used for all kinds of transport"
   ]
  },
  {
   "cell_type": "code",
   "execution_count": 267,
   "metadata": {},
   "outputs": [
    {
     "data": {
      "text/plain": [
       "pandas._libs.tslibs.timestamps.Timestamp"
      ]
     },
     "execution_count": 267,
     "metadata": {},
     "output_type": "execute_result"
    }
   ],
   "source": [
    "type(df_new['Planned Delivery Date'].iloc[0])"
   ]
  },
  {
   "cell_type": "code",
   "execution_count": 268,
   "metadata": {},
   "outputs": [],
   "source": [
    "def calculate_days_from_timestamps(df, timestamp1, timestamp2):\n",
    "    return (df[timestamp1] - df[timestamp2]).dt.days\n",
    "df_new['Planned Delivery (in days)'] = calculate_days_from_timestamps(df_new, 'Planned Delivery Date', 'Shipment Date')"
   ]
  },
  {
   "cell_type": "code",
   "execution_count": 269,
   "metadata": {},
   "outputs": [
    {
     "data": {
      "text/html": [
       "<div>\n",
       "<style scoped>\n",
       "    .dataframe tbody tr th:only-of-type {\n",
       "        vertical-align: middle;\n",
       "    }\n",
       "\n",
       "    .dataframe tbody tr th {\n",
       "        vertical-align: top;\n",
       "    }\n",
       "\n",
       "    .dataframe thead th {\n",
       "        text-align: right;\n",
       "    }\n",
       "</style>\n",
       "<table border=\"1\" class=\"dataframe\">\n",
       "  <thead>\n",
       "    <tr style=\"text-align: right;\">\n",
       "      <th></th>\n",
       "      <th>Shipment ID</th>\n",
       "      <th>Origin</th>\n",
       "      <th>Destination</th>\n",
       "      <th>Shipment Date</th>\n",
       "      <th>Planned Delivery Date</th>\n",
       "      <th>Actual Delivery Date</th>\n",
       "      <th>Vehicle Type</th>\n",
       "      <th>Distance (km)</th>\n",
       "      <th>Weather Conditions</th>\n",
       "      <th>Traffic Conditions</th>\n",
       "      <th>Delayed</th>\n",
       "      <th>temp</th>\n",
       "      <th>Distance Type</th>\n",
       "      <th>Planned Delivery (in days)</th>\n",
       "    </tr>\n",
       "  </thead>\n",
       "  <tbody>\n",
       "    <tr>\n",
       "      <th>0</th>\n",
       "      <td>SHIP000000</td>\n",
       "      <td>Jaipur</td>\n",
       "      <td>Mumbai</td>\n",
       "      <td>2023-04-26</td>\n",
       "      <td>2023-05-01</td>\n",
       "      <td>2023-05-02</td>\n",
       "      <td>Trailer</td>\n",
       "      <td>1603</td>\n",
       "      <td>Rain</td>\n",
       "      <td>Light</td>\n",
       "      <td>Yes</td>\n",
       "      <td>Tuesday</td>\n",
       "      <td>Large</td>\n",
       "      <td>5</td>\n",
       "    </tr>\n",
       "    <tr>\n",
       "      <th>1</th>\n",
       "      <td>SHIP000001</td>\n",
       "      <td>Bangalore</td>\n",
       "      <td>Delhi</td>\n",
       "      <td>2023-02-09</td>\n",
       "      <td>2023-02-13</td>\n",
       "      <td>2023-02-17</td>\n",
       "      <td>Trailer</td>\n",
       "      <td>1237</td>\n",
       "      <td>Storm</td>\n",
       "      <td>Moderate</td>\n",
       "      <td>Yes</td>\n",
       "      <td>Friday</td>\n",
       "      <td>Large</td>\n",
       "      <td>4</td>\n",
       "    </tr>\n",
       "    <tr>\n",
       "      <th>2</th>\n",
       "      <td>SHIP000002</td>\n",
       "      <td>Mumbai</td>\n",
       "      <td>Chennai</td>\n",
       "      <td>2023-09-19</td>\n",
       "      <td>2023-09-25</td>\n",
       "      <td>2023-09-25</td>\n",
       "      <td>Truck</td>\n",
       "      <td>1863</td>\n",
       "      <td>Clear</td>\n",
       "      <td>Light</td>\n",
       "      <td>No</td>\n",
       "      <td>Monday</td>\n",
       "      <td>Large</td>\n",
       "      <td>6</td>\n",
       "    </tr>\n",
       "    <tr>\n",
       "      <th>3</th>\n",
       "      <td>SHIP000003</td>\n",
       "      <td>Hyderabad</td>\n",
       "      <td>Ahmedabad</td>\n",
       "      <td>2023-04-01</td>\n",
       "      <td>2023-04-05</td>\n",
       "      <td>2023-04-05</td>\n",
       "      <td>Container</td>\n",
       "      <td>1374</td>\n",
       "      <td>Clear</td>\n",
       "      <td>Light</td>\n",
       "      <td>No</td>\n",
       "      <td>Wednesday</td>\n",
       "      <td>Large</td>\n",
       "      <td>4</td>\n",
       "    </tr>\n",
       "    <tr>\n",
       "      <th>4</th>\n",
       "      <td>SHIP000004</td>\n",
       "      <td>Chennai</td>\n",
       "      <td>Kolkata</td>\n",
       "      <td>2023-11-24</td>\n",
       "      <td>2023-11-26</td>\n",
       "      <td>2023-11-28</td>\n",
       "      <td>Container</td>\n",
       "      <td>676</td>\n",
       "      <td>Clear</td>\n",
       "      <td>Heavy</td>\n",
       "      <td>Yes</td>\n",
       "      <td>Tuesday</td>\n",
       "      <td>Medium</td>\n",
       "      <td>2</td>\n",
       "    </tr>\n",
       "    <tr>\n",
       "      <th>5</th>\n",
       "      <td>SHIP000005</td>\n",
       "      <td>Chennai</td>\n",
       "      <td>Ahmedabad</td>\n",
       "      <td>2024-03-14</td>\n",
       "      <td>2024-03-16</td>\n",
       "      <td>2024-03-19</td>\n",
       "      <td>Container</td>\n",
       "      <td>746</td>\n",
       "      <td>Storm</td>\n",
       "      <td>Light</td>\n",
       "      <td>Yes</td>\n",
       "      <td>Tuesday</td>\n",
       "      <td>Medium</td>\n",
       "      <td>2</td>\n",
       "    </tr>\n",
       "    <tr>\n",
       "      <th>6</th>\n",
       "      <td>SHIP000006</td>\n",
       "      <td>Bangalore</td>\n",
       "      <td>Lucknow</td>\n",
       "      <td>2024-05-28</td>\n",
       "      <td>2024-06-03</td>\n",
       "      <td>2024-06-10</td>\n",
       "      <td>Lorry</td>\n",
       "      <td>1988</td>\n",
       "      <td>Fog</td>\n",
       "      <td>Light</td>\n",
       "      <td>Yes</td>\n",
       "      <td>Monday</td>\n",
       "      <td>Large</td>\n",
       "      <td>6</td>\n",
       "    </tr>\n",
       "    <tr>\n",
       "      <th>7</th>\n",
       "      <td>SHIP000007</td>\n",
       "      <td>Kolkata</td>\n",
       "      <td>Mumbai</td>\n",
       "      <td>2023-04-01</td>\n",
       "      <td>2023-04-06</td>\n",
       "      <td>2023-04-08</td>\n",
       "      <td>Container</td>\n",
       "      <td>1521</td>\n",
       "      <td>Rain</td>\n",
       "      <td>Moderate</td>\n",
       "      <td>Yes</td>\n",
       "      <td>Saturday</td>\n",
       "      <td>Large</td>\n",
       "      <td>5</td>\n",
       "    </tr>\n",
       "    <tr>\n",
       "      <th>8</th>\n",
       "      <td>SHIP000008</td>\n",
       "      <td>Kolkata</td>\n",
       "      <td>Bangalore</td>\n",
       "      <td>2023-10-01</td>\n",
       "      <td>2023-10-02</td>\n",
       "      <td>2023-10-03</td>\n",
       "      <td>Truck</td>\n",
       "      <td>390</td>\n",
       "      <td>Rain</td>\n",
       "      <td>Light</td>\n",
       "      <td>Yes</td>\n",
       "      <td>Tuesday</td>\n",
       "      <td>Short</td>\n",
       "      <td>1</td>\n",
       "    </tr>\n",
       "    <tr>\n",
       "      <th>9</th>\n",
       "      <td>SHIP000009</td>\n",
       "      <td>Lucknow</td>\n",
       "      <td>Ahmedabad</td>\n",
       "      <td>2023-03-08</td>\n",
       "      <td>2023-03-09</td>\n",
       "      <td>2023-03-09</td>\n",
       "      <td>Trailer</td>\n",
       "      <td>324</td>\n",
       "      <td>Clear</td>\n",
       "      <td>Light</td>\n",
       "      <td>No</td>\n",
       "      <td>Thursday</td>\n",
       "      <td>Short</td>\n",
       "      <td>1</td>\n",
       "    </tr>\n",
       "  </tbody>\n",
       "</table>\n",
       "</div>"
      ],
      "text/plain": [
       "  Shipment ID     Origin Destination Shipment Date Planned Delivery Date  \\\n",
       "0  SHIP000000     Jaipur      Mumbai    2023-04-26            2023-05-01   \n",
       "1  SHIP000001  Bangalore       Delhi    2023-02-09            2023-02-13   \n",
       "2  SHIP000002     Mumbai     Chennai    2023-09-19            2023-09-25   \n",
       "3  SHIP000003  Hyderabad   Ahmedabad    2023-04-01            2023-04-05   \n",
       "4  SHIP000004    Chennai     Kolkata    2023-11-24            2023-11-26   \n",
       "5  SHIP000005    Chennai   Ahmedabad    2024-03-14            2024-03-16   \n",
       "6  SHIP000006  Bangalore     Lucknow    2024-05-28            2024-06-03   \n",
       "7  SHIP000007    Kolkata      Mumbai    2023-04-01            2023-04-06   \n",
       "8  SHIP000008    Kolkata   Bangalore    2023-10-01            2023-10-02   \n",
       "9  SHIP000009    Lucknow   Ahmedabad    2023-03-08            2023-03-09   \n",
       "\n",
       "  Actual Delivery Date Vehicle Type  Distance (km) Weather Conditions  \\\n",
       "0           2023-05-02      Trailer           1603               Rain   \n",
       "1           2023-02-17      Trailer           1237              Storm   \n",
       "2           2023-09-25        Truck           1863              Clear   \n",
       "3           2023-04-05    Container           1374              Clear   \n",
       "4           2023-11-28    Container            676              Clear   \n",
       "5           2024-03-19    Container            746              Storm   \n",
       "6           2024-06-10        Lorry           1988                Fog   \n",
       "7           2023-04-08    Container           1521               Rain   \n",
       "8           2023-10-03        Truck            390               Rain   \n",
       "9           2023-03-09      Trailer            324              Clear   \n",
       "\n",
       "  Traffic Conditions Delayed       temp Distance Type  \\\n",
       "0              Light     Yes    Tuesday         Large   \n",
       "1           Moderate     Yes     Friday         Large   \n",
       "2              Light      No     Monday         Large   \n",
       "3              Light      No  Wednesday         Large   \n",
       "4              Heavy     Yes    Tuesday        Medium   \n",
       "5              Light     Yes    Tuesday        Medium   \n",
       "6              Light     Yes     Monday         Large   \n",
       "7           Moderate     Yes   Saturday         Large   \n",
       "8              Light     Yes    Tuesday         Short   \n",
       "9              Light      No   Thursday         Short   \n",
       "\n",
       "   Planned Delivery (in days)  \n",
       "0                           5  \n",
       "1                           4  \n",
       "2                           6  \n",
       "3                           4  \n",
       "4                           2  \n",
       "5                           2  \n",
       "6                           6  \n",
       "7                           5  \n",
       "8                           1  \n",
       "9                           1  "
      ]
     },
     "execution_count": 269,
     "metadata": {},
     "output_type": "execute_result"
    }
   ],
   "source": [
    "df_new.head(10)"
   ]
  },
  {
   "cell_type": "code",
   "execution_count": 270,
   "metadata": {},
   "outputs": [
    {
     "data": {
      "text/html": [
       "<div>\n",
       "<style scoped>\n",
       "    .dataframe tbody tr th:only-of-type {\n",
       "        vertical-align: middle;\n",
       "    }\n",
       "\n",
       "    .dataframe tbody tr th {\n",
       "        vertical-align: top;\n",
       "    }\n",
       "\n",
       "    .dataframe thead th {\n",
       "        text-align: right;\n",
       "    }\n",
       "</style>\n",
       "<table border=\"1\" class=\"dataframe\">\n",
       "  <thead>\n",
       "    <tr style=\"text-align: right;\">\n",
       "      <th></th>\n",
       "      <th>Shipment ID</th>\n",
       "      <th>Origin</th>\n",
       "      <th>Destination</th>\n",
       "      <th>Shipment Date</th>\n",
       "      <th>Planned Delivery Date</th>\n",
       "      <th>Actual Delivery Date</th>\n",
       "      <th>Vehicle Type</th>\n",
       "      <th>Distance (km)</th>\n",
       "      <th>Weather Conditions</th>\n",
       "      <th>Traffic Conditions</th>\n",
       "      <th>Delayed</th>\n",
       "      <th>temp</th>\n",
       "      <th>Distance Type</th>\n",
       "      <th>Planned Delivery (in days)</th>\n",
       "    </tr>\n",
       "  </thead>\n",
       "  <tbody>\n",
       "    <tr>\n",
       "      <th>0</th>\n",
       "      <td>SHIP000000</td>\n",
       "      <td>Jaipur</td>\n",
       "      <td>Mumbai</td>\n",
       "      <td>2023-04-26</td>\n",
       "      <td>2023-05-01</td>\n",
       "      <td>2023-05-02</td>\n",
       "      <td>Trailer</td>\n",
       "      <td>1603</td>\n",
       "      <td>Rain</td>\n",
       "      <td>Light</td>\n",
       "      <td>Yes</td>\n",
       "      <td>Tuesday</td>\n",
       "      <td>Large</td>\n",
       "      <td>5</td>\n",
       "    </tr>\n",
       "    <tr>\n",
       "      <th>1</th>\n",
       "      <td>SHIP000001</td>\n",
       "      <td>Bangalore</td>\n",
       "      <td>Delhi</td>\n",
       "      <td>2023-02-09</td>\n",
       "      <td>2023-02-13</td>\n",
       "      <td>2023-02-17</td>\n",
       "      <td>Trailer</td>\n",
       "      <td>1237</td>\n",
       "      <td>Storm</td>\n",
       "      <td>Moderate</td>\n",
       "      <td>Yes</td>\n",
       "      <td>Friday</td>\n",
       "      <td>Large</td>\n",
       "      <td>4</td>\n",
       "    </tr>\n",
       "    <tr>\n",
       "      <th>2</th>\n",
       "      <td>SHIP000002</td>\n",
       "      <td>Mumbai</td>\n",
       "      <td>Chennai</td>\n",
       "      <td>2023-09-19</td>\n",
       "      <td>2023-09-25</td>\n",
       "      <td>2023-09-25</td>\n",
       "      <td>Truck</td>\n",
       "      <td>1863</td>\n",
       "      <td>Clear</td>\n",
       "      <td>Light</td>\n",
       "      <td>No</td>\n",
       "      <td>Monday</td>\n",
       "      <td>Large</td>\n",
       "      <td>6</td>\n",
       "    </tr>\n",
       "    <tr>\n",
       "      <th>3</th>\n",
       "      <td>SHIP000003</td>\n",
       "      <td>Hyderabad</td>\n",
       "      <td>Ahmedabad</td>\n",
       "      <td>2023-04-01</td>\n",
       "      <td>2023-04-05</td>\n",
       "      <td>2023-04-05</td>\n",
       "      <td>Container</td>\n",
       "      <td>1374</td>\n",
       "      <td>Clear</td>\n",
       "      <td>Light</td>\n",
       "      <td>No</td>\n",
       "      <td>Wednesday</td>\n",
       "      <td>Large</td>\n",
       "      <td>4</td>\n",
       "    </tr>\n",
       "    <tr>\n",
       "      <th>4</th>\n",
       "      <td>SHIP000004</td>\n",
       "      <td>Chennai</td>\n",
       "      <td>Kolkata</td>\n",
       "      <td>2023-11-24</td>\n",
       "      <td>2023-11-26</td>\n",
       "      <td>2023-11-28</td>\n",
       "      <td>Container</td>\n",
       "      <td>676</td>\n",
       "      <td>Clear</td>\n",
       "      <td>Heavy</td>\n",
       "      <td>Yes</td>\n",
       "      <td>Tuesday</td>\n",
       "      <td>Medium</td>\n",
       "      <td>2</td>\n",
       "    </tr>\n",
       "    <tr>\n",
       "      <th>...</th>\n",
       "      <td>...</td>\n",
       "      <td>...</td>\n",
       "      <td>...</td>\n",
       "      <td>...</td>\n",
       "      <td>...</td>\n",
       "      <td>...</td>\n",
       "      <td>...</td>\n",
       "      <td>...</td>\n",
       "      <td>...</td>\n",
       "      <td>...</td>\n",
       "      <td>...</td>\n",
       "      <td>...</td>\n",
       "      <td>...</td>\n",
       "      <td>...</td>\n",
       "    </tr>\n",
       "    <tr>\n",
       "      <th>19995</th>\n",
       "      <td>SHIP019995</td>\n",
       "      <td>Chennai</td>\n",
       "      <td>Bangalore</td>\n",
       "      <td>2023-06-22</td>\n",
       "      <td>2023-06-23</td>\n",
       "      <td>2023-06-26</td>\n",
       "      <td>Truck</td>\n",
       "      <td>564</td>\n",
       "      <td>Fog</td>\n",
       "      <td>Moderate</td>\n",
       "      <td>Yes</td>\n",
       "      <td>Monday</td>\n",
       "      <td>Medium</td>\n",
       "      <td>1</td>\n",
       "    </tr>\n",
       "    <tr>\n",
       "      <th>19996</th>\n",
       "      <td>SHIP019996</td>\n",
       "      <td>Hyderabad</td>\n",
       "      <td>Jaipur</td>\n",
       "      <td>2023-03-02</td>\n",
       "      <td>2023-03-03</td>\n",
       "      <td>2023-03-07</td>\n",
       "      <td>Truck</td>\n",
       "      <td>305</td>\n",
       "      <td>Storm</td>\n",
       "      <td>Moderate</td>\n",
       "      <td>Yes</td>\n",
       "      <td>Tuesday</td>\n",
       "      <td>Short</td>\n",
       "      <td>1</td>\n",
       "    </tr>\n",
       "    <tr>\n",
       "      <th>19997</th>\n",
       "      <td>SHIP019997</td>\n",
       "      <td>Hyderabad</td>\n",
       "      <td>Mumbai</td>\n",
       "      <td>2023-05-24</td>\n",
       "      <td>2023-05-27</td>\n",
       "      <td>2023-06-02</td>\n",
       "      <td>Trailer</td>\n",
       "      <td>1028</td>\n",
       "      <td>Rain</td>\n",
       "      <td>Moderate</td>\n",
       "      <td>Yes</td>\n",
       "      <td>Friday</td>\n",
       "      <td>Large</td>\n",
       "      <td>3</td>\n",
       "    </tr>\n",
       "    <tr>\n",
       "      <th>19998</th>\n",
       "      <td>SHIP019998</td>\n",
       "      <td>Ahmedabad</td>\n",
       "      <td>Chennai</td>\n",
       "      <td>2023-05-02</td>\n",
       "      <td>2023-05-05</td>\n",
       "      <td>2023-05-08</td>\n",
       "      <td>Lorry</td>\n",
       "      <td>905</td>\n",
       "      <td>Fog</td>\n",
       "      <td>Moderate</td>\n",
       "      <td>Yes</td>\n",
       "      <td>Monday</td>\n",
       "      <td>Medium</td>\n",
       "      <td>3</td>\n",
       "    </tr>\n",
       "    <tr>\n",
       "      <th>19999</th>\n",
       "      <td>SHIP019999</td>\n",
       "      <td>Jaipur</td>\n",
       "      <td>Pune</td>\n",
       "      <td>2024-02-26</td>\n",
       "      <td>2024-02-27</td>\n",
       "      <td>2024-02-27</td>\n",
       "      <td>Lorry</td>\n",
       "      <td>584</td>\n",
       "      <td>Clear</td>\n",
       "      <td>Light</td>\n",
       "      <td>No</td>\n",
       "      <td>Tuesday</td>\n",
       "      <td>Medium</td>\n",
       "      <td>1</td>\n",
       "    </tr>\n",
       "  </tbody>\n",
       "</table>\n",
       "<p>20000 rows × 14 columns</p>\n",
       "</div>"
      ],
      "text/plain": [
       "      Shipment ID     Origin Destination Shipment Date Planned Delivery Date  \\\n",
       "0      SHIP000000     Jaipur      Mumbai    2023-04-26            2023-05-01   \n",
       "1      SHIP000001  Bangalore       Delhi    2023-02-09            2023-02-13   \n",
       "2      SHIP000002     Mumbai     Chennai    2023-09-19            2023-09-25   \n",
       "3      SHIP000003  Hyderabad   Ahmedabad    2023-04-01            2023-04-05   \n",
       "4      SHIP000004    Chennai     Kolkata    2023-11-24            2023-11-26   \n",
       "...           ...        ...         ...           ...                   ...   \n",
       "19995  SHIP019995    Chennai   Bangalore    2023-06-22            2023-06-23   \n",
       "19996  SHIP019996  Hyderabad      Jaipur    2023-03-02            2023-03-03   \n",
       "19997  SHIP019997  Hyderabad      Mumbai    2023-05-24            2023-05-27   \n",
       "19998  SHIP019998  Ahmedabad     Chennai    2023-05-02            2023-05-05   \n",
       "19999  SHIP019999     Jaipur        Pune    2024-02-26            2024-02-27   \n",
       "\n",
       "      Actual Delivery Date Vehicle Type  Distance (km) Weather Conditions  \\\n",
       "0               2023-05-02      Trailer           1603               Rain   \n",
       "1               2023-02-17      Trailer           1237              Storm   \n",
       "2               2023-09-25        Truck           1863              Clear   \n",
       "3               2023-04-05    Container           1374              Clear   \n",
       "4               2023-11-28    Container            676              Clear   \n",
       "...                    ...          ...            ...                ...   \n",
       "19995           2023-06-26        Truck            564                Fog   \n",
       "19996           2023-03-07        Truck            305              Storm   \n",
       "19997           2023-06-02      Trailer           1028               Rain   \n",
       "19998           2023-05-08        Lorry            905                Fog   \n",
       "19999           2024-02-27        Lorry            584              Clear   \n",
       "\n",
       "      Traffic Conditions Delayed       temp Distance Type  \\\n",
       "0                  Light     Yes    Tuesday         Large   \n",
       "1               Moderate     Yes     Friday         Large   \n",
       "2                  Light      No     Monday         Large   \n",
       "3                  Light      No  Wednesday         Large   \n",
       "4                  Heavy     Yes    Tuesday        Medium   \n",
       "...                  ...     ...        ...           ...   \n",
       "19995           Moderate     Yes     Monday        Medium   \n",
       "19996           Moderate     Yes    Tuesday         Short   \n",
       "19997           Moderate     Yes     Friday         Large   \n",
       "19998           Moderate     Yes     Monday        Medium   \n",
       "19999              Light      No    Tuesday        Medium   \n",
       "\n",
       "       Planned Delivery (in days)  \n",
       "0                               5  \n",
       "1                               4  \n",
       "2                               6  \n",
       "3                               4  \n",
       "4                               2  \n",
       "...                           ...  \n",
       "19995                           1  \n",
       "19996                           1  \n",
       "19997                           3  \n",
       "19998                           3  \n",
       "19999                           1  \n",
       "\n",
       "[20000 rows x 14 columns]"
      ]
     },
     "execution_count": 270,
     "metadata": {},
     "output_type": "execute_result"
    }
   ],
   "source": [
    "df_new"
   ]
  },
  {
   "cell_type": "markdown",
   "metadata": {},
   "source": [
    "### Origin-Destination Pairs"
   ]
  },
  {
   "cell_type": "code",
   "execution_count": 271,
   "metadata": {},
   "outputs": [],
   "source": [
    "df_new['Origin_Destination'] = df_new['Origin'] + '-' + df_new['Destination']"
   ]
  },
  {
   "cell_type": "code",
   "execution_count": 272,
   "metadata": {},
   "outputs": [
    {
     "data": {
      "text/plain": [
       "Origin_Destination\n",
       "Pune-Jaipur            263\n",
       "Pune-Delhi             245\n",
       "Hyderabad-Ahmedabad    242\n",
       "Delhi-Hyderabad        242\n",
       "Delhi-Pune             242\n",
       "                      ... \n",
       "Lucknow-Ahmedabad      197\n",
       "Hyderabad-Mumbai       193\n",
       "Jaipur-Ahmedabad       192\n",
       "Lucknow-Pune           187\n",
       "Jaipur-Hyderabad       176\n",
       "Name: count, Length: 90, dtype: int64"
      ]
     },
     "execution_count": 272,
     "metadata": {},
     "output_type": "execute_result"
    }
   ],
   "source": [
    "df_new['Origin_Destination'].value_counts()"
   ]
  },
  {
   "cell_type": "markdown",
   "metadata": {},
   "source": [
    "- The above makes data very high dimensional therefore, we just drop Origin and Destination"
   ]
  },
  {
   "cell_type": "code",
   "execution_count": null,
   "metadata": {},
   "outputs": [],
   "source": []
  },
  {
   "cell_type": "code",
   "execution_count": 273,
   "metadata": {},
   "outputs": [
    {
     "data": {
      "text/html": [
       "<div>\n",
       "<style scoped>\n",
       "    .dataframe tbody tr th:only-of-type {\n",
       "        vertical-align: middle;\n",
       "    }\n",
       "\n",
       "    .dataframe tbody tr th {\n",
       "        vertical-align: top;\n",
       "    }\n",
       "\n",
       "    .dataframe thead th {\n",
       "        text-align: right;\n",
       "    }\n",
       "</style>\n",
       "<table border=\"1\" class=\"dataframe\">\n",
       "  <thead>\n",
       "    <tr style=\"text-align: right;\">\n",
       "      <th></th>\n",
       "      <th>Shipment ID</th>\n",
       "      <th>Origin</th>\n",
       "      <th>Destination</th>\n",
       "      <th>Shipment Date</th>\n",
       "      <th>Planned Delivery Date</th>\n",
       "      <th>Actual Delivery Date</th>\n",
       "      <th>Vehicle Type</th>\n",
       "      <th>Distance (km)</th>\n",
       "      <th>Weather Conditions</th>\n",
       "      <th>Traffic Conditions</th>\n",
       "      <th>Delayed</th>\n",
       "      <th>temp</th>\n",
       "      <th>Distance Type</th>\n",
       "      <th>Planned Delivery (in days)</th>\n",
       "      <th>Origin_Destination</th>\n",
       "    </tr>\n",
       "  </thead>\n",
       "  <tbody>\n",
       "    <tr>\n",
       "      <th>0</th>\n",
       "      <td>SHIP000000</td>\n",
       "      <td>Jaipur</td>\n",
       "      <td>Mumbai</td>\n",
       "      <td>2023-04-26</td>\n",
       "      <td>2023-05-01</td>\n",
       "      <td>2023-05-02</td>\n",
       "      <td>Trailer</td>\n",
       "      <td>1603</td>\n",
       "      <td>Rain</td>\n",
       "      <td>Light</td>\n",
       "      <td>Yes</td>\n",
       "      <td>Tuesday</td>\n",
       "      <td>Large</td>\n",
       "      <td>5</td>\n",
       "      <td>Jaipur-Mumbai</td>\n",
       "    </tr>\n",
       "    <tr>\n",
       "      <th>1</th>\n",
       "      <td>SHIP000001</td>\n",
       "      <td>Bangalore</td>\n",
       "      <td>Delhi</td>\n",
       "      <td>2023-02-09</td>\n",
       "      <td>2023-02-13</td>\n",
       "      <td>2023-02-17</td>\n",
       "      <td>Trailer</td>\n",
       "      <td>1237</td>\n",
       "      <td>Storm</td>\n",
       "      <td>Moderate</td>\n",
       "      <td>Yes</td>\n",
       "      <td>Friday</td>\n",
       "      <td>Large</td>\n",
       "      <td>4</td>\n",
       "      <td>Bangalore-Delhi</td>\n",
       "    </tr>\n",
       "    <tr>\n",
       "      <th>2</th>\n",
       "      <td>SHIP000002</td>\n",
       "      <td>Mumbai</td>\n",
       "      <td>Chennai</td>\n",
       "      <td>2023-09-19</td>\n",
       "      <td>2023-09-25</td>\n",
       "      <td>2023-09-25</td>\n",
       "      <td>Truck</td>\n",
       "      <td>1863</td>\n",
       "      <td>Clear</td>\n",
       "      <td>Light</td>\n",
       "      <td>No</td>\n",
       "      <td>Monday</td>\n",
       "      <td>Large</td>\n",
       "      <td>6</td>\n",
       "      <td>Mumbai-Chennai</td>\n",
       "    </tr>\n",
       "    <tr>\n",
       "      <th>3</th>\n",
       "      <td>SHIP000003</td>\n",
       "      <td>Hyderabad</td>\n",
       "      <td>Ahmedabad</td>\n",
       "      <td>2023-04-01</td>\n",
       "      <td>2023-04-05</td>\n",
       "      <td>2023-04-05</td>\n",
       "      <td>Container</td>\n",
       "      <td>1374</td>\n",
       "      <td>Clear</td>\n",
       "      <td>Light</td>\n",
       "      <td>No</td>\n",
       "      <td>Wednesday</td>\n",
       "      <td>Large</td>\n",
       "      <td>4</td>\n",
       "      <td>Hyderabad-Ahmedabad</td>\n",
       "    </tr>\n",
       "    <tr>\n",
       "      <th>4</th>\n",
       "      <td>SHIP000004</td>\n",
       "      <td>Chennai</td>\n",
       "      <td>Kolkata</td>\n",
       "      <td>2023-11-24</td>\n",
       "      <td>2023-11-26</td>\n",
       "      <td>2023-11-28</td>\n",
       "      <td>Container</td>\n",
       "      <td>676</td>\n",
       "      <td>Clear</td>\n",
       "      <td>Heavy</td>\n",
       "      <td>Yes</td>\n",
       "      <td>Tuesday</td>\n",
       "      <td>Medium</td>\n",
       "      <td>2</td>\n",
       "      <td>Chennai-Kolkata</td>\n",
       "    </tr>\n",
       "  </tbody>\n",
       "</table>\n",
       "</div>"
      ],
      "text/plain": [
       "  Shipment ID     Origin Destination Shipment Date Planned Delivery Date  \\\n",
       "0  SHIP000000     Jaipur      Mumbai    2023-04-26            2023-05-01   \n",
       "1  SHIP000001  Bangalore       Delhi    2023-02-09            2023-02-13   \n",
       "2  SHIP000002     Mumbai     Chennai    2023-09-19            2023-09-25   \n",
       "3  SHIP000003  Hyderabad   Ahmedabad    2023-04-01            2023-04-05   \n",
       "4  SHIP000004    Chennai     Kolkata    2023-11-24            2023-11-26   \n",
       "\n",
       "  Actual Delivery Date Vehicle Type  Distance (km) Weather Conditions  \\\n",
       "0           2023-05-02      Trailer           1603               Rain   \n",
       "1           2023-02-17      Trailer           1237              Storm   \n",
       "2           2023-09-25        Truck           1863              Clear   \n",
       "3           2023-04-05    Container           1374              Clear   \n",
       "4           2023-11-28    Container            676              Clear   \n",
       "\n",
       "  Traffic Conditions Delayed       temp Distance Type  \\\n",
       "0              Light     Yes    Tuesday         Large   \n",
       "1           Moderate     Yes     Friday         Large   \n",
       "2              Light      No     Monday         Large   \n",
       "3              Light      No  Wednesday         Large   \n",
       "4              Heavy     Yes    Tuesday        Medium   \n",
       "\n",
       "   Planned Delivery (in days)   Origin_Destination  \n",
       "0                           5        Jaipur-Mumbai  \n",
       "1                           4      Bangalore-Delhi  \n",
       "2                           6       Mumbai-Chennai  \n",
       "3                           4  Hyderabad-Ahmedabad  \n",
       "4                           2      Chennai-Kolkata  "
      ]
     },
     "execution_count": 273,
     "metadata": {},
     "output_type": "execute_result"
    }
   ],
   "source": [
    "df_new.head(5)"
   ]
  },
  {
   "cell_type": "code",
   "execution_count": 274,
   "metadata": {},
   "outputs": [
    {
     "data": {
      "text/plain": [
       "Delayed\n",
       "Yes    14757\n",
       "No      5243\n",
       "Name: count, dtype: int64"
      ]
     },
     "execution_count": 274,
     "metadata": {},
     "output_type": "execute_result"
    }
   ],
   "source": [
    "df_new['Delayed'].value_counts()  #We have to handle the class imbalance problem"
   ]
  },
  {
   "cell_type": "markdown",
   "metadata": {},
   "source": [
    "#### Using SMOTE to handle class imbalance\n",
    "- It creates synthetic data points for under represented class"
   ]
  },
  {
   "cell_type": "code",
   "execution_count": 161,
   "metadata": {},
   "outputs": [
    {
     "name": "stdout",
     "output_type": "stream",
     "text": [
      "Defaulting to user installation because normal site-packages is not writeable\n",
      "Requirement already satisfied: pip in c:\\users\\aarus\\appdata\\roaming\\python\\python311\\site-packages (24.3.1)\n",
      "Note: you may need to restart the kernel to use updated packages.\n"
     ]
    },
    {
     "name": "stderr",
     "output_type": "stream",
     "text": [
      "WARNING: Error parsing dependencies of textract: .* suffix can only be used with `==` or `!=` operators\n",
      "    extract-msg (<=0.29.*)\n",
      "                 ~~~~~~~^\n"
     ]
    }
   ],
   "source": [
    "pip install --upgrade pip\n"
   ]
  },
  {
   "cell_type": "code",
   "execution_count": 162,
   "metadata": {},
   "outputs": [
    {
     "name": "stdout",
     "output_type": "stream",
     "text": [
      "Defaulting to user installation because normal site-packages is not writeable\n",
      "Requirement already satisfied: imbalanced-learn in c:\\users\\aarus\\appdata\\roaming\\python\\python311\\site-packages (0.13.0)\n",
      "Requirement already satisfied: numpy<3,>=1.24.3 in c:\\users\\aarus\\appdata\\roaming\\python\\python311\\site-packages (from imbalanced-learn) (1.26.4)\n",
      "Requirement already satisfied: scipy<2,>=1.10.1 in c:\\program files\\python311\\lib\\site-packages (from imbalanced-learn) (1.11.3)\n",
      "Requirement already satisfied: scikit-learn<2,>=1.3.2 in c:\\users\\aarus\\appdata\\roaming\\python\\python311\\site-packages (from imbalanced-learn) (1.6.0)\n",
      "Requirement already satisfied: sklearn-compat<1,>=0.1 in c:\\users\\aarus\\appdata\\roaming\\python\\python311\\site-packages (from imbalanced-learn) (0.1.1)\n",
      "Requirement already satisfied: joblib<2,>=1.1.1 in c:\\program files\\python311\\lib\\site-packages (from imbalanced-learn) (1.3.2)\n",
      "Requirement already satisfied: threadpoolctl<4,>=2.0.0 in c:\\program files\\python311\\lib\\site-packages (from imbalanced-learn) (3.2.0)\n",
      "Note: you may need to restart the kernel to use updated packages.\n"
     ]
    },
    {
     "name": "stderr",
     "output_type": "stream",
     "text": [
      "WARNING: Error parsing dependencies of textract: .* suffix can only be used with `==` or `!=` operators\n",
      "    extract-msg (<=0.29.*)\n",
      "                 ~~~~~~~^\n"
     ]
    }
   ],
   "source": [
    "pip install imbalanced-learn"
   ]
  },
  {
   "cell_type": "code",
   "execution_count": null,
   "metadata": {},
   "outputs": [],
   "source": []
  },
  {
   "cell_type": "code",
   "execution_count": null,
   "metadata": {},
   "outputs": [],
   "source": []
  },
  {
   "cell_type": "code",
   "execution_count": null,
   "metadata": {},
   "outputs": [],
   "source": []
  },
  {
   "cell_type": "markdown",
   "metadata": {},
   "source": [
    "#### Creating a *M_W_F* and *T_T_S* and *Sunday* feature "
   ]
  },
  {
   "cell_type": "code",
   "execution_count": 275,
   "metadata": {},
   "outputs": [],
   "source": [
    "df_new['M_W_F']=np.where(df_new['temp'].isin(['Monday','Wednesday','Friday']),1,0)\n",
    "df_new['T_T_S']=np.where(df_new['temp'].isin(['Tuesday','Thursday','Saturday']),1,0)\n",
    "df_new['Sunday']=np.where(df_new['temp'].isin(['Sunday']),1,0)"
   ]
  },
  {
   "cell_type": "code",
   "execution_count": 276,
   "metadata": {},
   "outputs": [
    {
     "data": {
      "text/html": [
       "<div>\n",
       "<style scoped>\n",
       "    .dataframe tbody tr th:only-of-type {\n",
       "        vertical-align: middle;\n",
       "    }\n",
       "\n",
       "    .dataframe tbody tr th {\n",
       "        vertical-align: top;\n",
       "    }\n",
       "\n",
       "    .dataframe thead th {\n",
       "        text-align: right;\n",
       "    }\n",
       "</style>\n",
       "<table border=\"1\" class=\"dataframe\">\n",
       "  <thead>\n",
       "    <tr style=\"text-align: right;\">\n",
       "      <th></th>\n",
       "      <th>Shipment ID</th>\n",
       "      <th>Origin</th>\n",
       "      <th>Destination</th>\n",
       "      <th>Shipment Date</th>\n",
       "      <th>Planned Delivery Date</th>\n",
       "      <th>Actual Delivery Date</th>\n",
       "      <th>Vehicle Type</th>\n",
       "      <th>Distance (km)</th>\n",
       "      <th>Weather Conditions</th>\n",
       "      <th>Traffic Conditions</th>\n",
       "      <th>Delayed</th>\n",
       "      <th>temp</th>\n",
       "      <th>Distance Type</th>\n",
       "      <th>Planned Delivery (in days)</th>\n",
       "      <th>Origin_Destination</th>\n",
       "      <th>M_W_F</th>\n",
       "      <th>T_T_S</th>\n",
       "      <th>Sunday</th>\n",
       "    </tr>\n",
       "  </thead>\n",
       "  <tbody>\n",
       "    <tr>\n",
       "      <th>0</th>\n",
       "      <td>SHIP000000</td>\n",
       "      <td>Jaipur</td>\n",
       "      <td>Mumbai</td>\n",
       "      <td>2023-04-26</td>\n",
       "      <td>2023-05-01</td>\n",
       "      <td>2023-05-02</td>\n",
       "      <td>Trailer</td>\n",
       "      <td>1603</td>\n",
       "      <td>Rain</td>\n",
       "      <td>Light</td>\n",
       "      <td>Yes</td>\n",
       "      <td>Tuesday</td>\n",
       "      <td>Large</td>\n",
       "      <td>5</td>\n",
       "      <td>Jaipur-Mumbai</td>\n",
       "      <td>0</td>\n",
       "      <td>1</td>\n",
       "      <td>0</td>\n",
       "    </tr>\n",
       "    <tr>\n",
       "      <th>1</th>\n",
       "      <td>SHIP000001</td>\n",
       "      <td>Bangalore</td>\n",
       "      <td>Delhi</td>\n",
       "      <td>2023-02-09</td>\n",
       "      <td>2023-02-13</td>\n",
       "      <td>2023-02-17</td>\n",
       "      <td>Trailer</td>\n",
       "      <td>1237</td>\n",
       "      <td>Storm</td>\n",
       "      <td>Moderate</td>\n",
       "      <td>Yes</td>\n",
       "      <td>Friday</td>\n",
       "      <td>Large</td>\n",
       "      <td>4</td>\n",
       "      <td>Bangalore-Delhi</td>\n",
       "      <td>1</td>\n",
       "      <td>0</td>\n",
       "      <td>0</td>\n",
       "    </tr>\n",
       "    <tr>\n",
       "      <th>2</th>\n",
       "      <td>SHIP000002</td>\n",
       "      <td>Mumbai</td>\n",
       "      <td>Chennai</td>\n",
       "      <td>2023-09-19</td>\n",
       "      <td>2023-09-25</td>\n",
       "      <td>2023-09-25</td>\n",
       "      <td>Truck</td>\n",
       "      <td>1863</td>\n",
       "      <td>Clear</td>\n",
       "      <td>Light</td>\n",
       "      <td>No</td>\n",
       "      <td>Monday</td>\n",
       "      <td>Large</td>\n",
       "      <td>6</td>\n",
       "      <td>Mumbai-Chennai</td>\n",
       "      <td>1</td>\n",
       "      <td>0</td>\n",
       "      <td>0</td>\n",
       "    </tr>\n",
       "    <tr>\n",
       "      <th>3</th>\n",
       "      <td>SHIP000003</td>\n",
       "      <td>Hyderabad</td>\n",
       "      <td>Ahmedabad</td>\n",
       "      <td>2023-04-01</td>\n",
       "      <td>2023-04-05</td>\n",
       "      <td>2023-04-05</td>\n",
       "      <td>Container</td>\n",
       "      <td>1374</td>\n",
       "      <td>Clear</td>\n",
       "      <td>Light</td>\n",
       "      <td>No</td>\n",
       "      <td>Wednesday</td>\n",
       "      <td>Large</td>\n",
       "      <td>4</td>\n",
       "      <td>Hyderabad-Ahmedabad</td>\n",
       "      <td>1</td>\n",
       "      <td>0</td>\n",
       "      <td>0</td>\n",
       "    </tr>\n",
       "    <tr>\n",
       "      <th>4</th>\n",
       "      <td>SHIP000004</td>\n",
       "      <td>Chennai</td>\n",
       "      <td>Kolkata</td>\n",
       "      <td>2023-11-24</td>\n",
       "      <td>2023-11-26</td>\n",
       "      <td>2023-11-28</td>\n",
       "      <td>Container</td>\n",
       "      <td>676</td>\n",
       "      <td>Clear</td>\n",
       "      <td>Heavy</td>\n",
       "      <td>Yes</td>\n",
       "      <td>Tuesday</td>\n",
       "      <td>Medium</td>\n",
       "      <td>2</td>\n",
       "      <td>Chennai-Kolkata</td>\n",
       "      <td>0</td>\n",
       "      <td>1</td>\n",
       "      <td>0</td>\n",
       "    </tr>\n",
       "    <tr>\n",
       "      <th>...</th>\n",
       "      <td>...</td>\n",
       "      <td>...</td>\n",
       "      <td>...</td>\n",
       "      <td>...</td>\n",
       "      <td>...</td>\n",
       "      <td>...</td>\n",
       "      <td>...</td>\n",
       "      <td>...</td>\n",
       "      <td>...</td>\n",
       "      <td>...</td>\n",
       "      <td>...</td>\n",
       "      <td>...</td>\n",
       "      <td>...</td>\n",
       "      <td>...</td>\n",
       "      <td>...</td>\n",
       "      <td>...</td>\n",
       "      <td>...</td>\n",
       "      <td>...</td>\n",
       "    </tr>\n",
       "    <tr>\n",
       "      <th>19995</th>\n",
       "      <td>SHIP019995</td>\n",
       "      <td>Chennai</td>\n",
       "      <td>Bangalore</td>\n",
       "      <td>2023-06-22</td>\n",
       "      <td>2023-06-23</td>\n",
       "      <td>2023-06-26</td>\n",
       "      <td>Truck</td>\n",
       "      <td>564</td>\n",
       "      <td>Fog</td>\n",
       "      <td>Moderate</td>\n",
       "      <td>Yes</td>\n",
       "      <td>Monday</td>\n",
       "      <td>Medium</td>\n",
       "      <td>1</td>\n",
       "      <td>Chennai-Bangalore</td>\n",
       "      <td>1</td>\n",
       "      <td>0</td>\n",
       "      <td>0</td>\n",
       "    </tr>\n",
       "    <tr>\n",
       "      <th>19996</th>\n",
       "      <td>SHIP019996</td>\n",
       "      <td>Hyderabad</td>\n",
       "      <td>Jaipur</td>\n",
       "      <td>2023-03-02</td>\n",
       "      <td>2023-03-03</td>\n",
       "      <td>2023-03-07</td>\n",
       "      <td>Truck</td>\n",
       "      <td>305</td>\n",
       "      <td>Storm</td>\n",
       "      <td>Moderate</td>\n",
       "      <td>Yes</td>\n",
       "      <td>Tuesday</td>\n",
       "      <td>Short</td>\n",
       "      <td>1</td>\n",
       "      <td>Hyderabad-Jaipur</td>\n",
       "      <td>0</td>\n",
       "      <td>1</td>\n",
       "      <td>0</td>\n",
       "    </tr>\n",
       "    <tr>\n",
       "      <th>19997</th>\n",
       "      <td>SHIP019997</td>\n",
       "      <td>Hyderabad</td>\n",
       "      <td>Mumbai</td>\n",
       "      <td>2023-05-24</td>\n",
       "      <td>2023-05-27</td>\n",
       "      <td>2023-06-02</td>\n",
       "      <td>Trailer</td>\n",
       "      <td>1028</td>\n",
       "      <td>Rain</td>\n",
       "      <td>Moderate</td>\n",
       "      <td>Yes</td>\n",
       "      <td>Friday</td>\n",
       "      <td>Large</td>\n",
       "      <td>3</td>\n",
       "      <td>Hyderabad-Mumbai</td>\n",
       "      <td>1</td>\n",
       "      <td>0</td>\n",
       "      <td>0</td>\n",
       "    </tr>\n",
       "    <tr>\n",
       "      <th>19998</th>\n",
       "      <td>SHIP019998</td>\n",
       "      <td>Ahmedabad</td>\n",
       "      <td>Chennai</td>\n",
       "      <td>2023-05-02</td>\n",
       "      <td>2023-05-05</td>\n",
       "      <td>2023-05-08</td>\n",
       "      <td>Lorry</td>\n",
       "      <td>905</td>\n",
       "      <td>Fog</td>\n",
       "      <td>Moderate</td>\n",
       "      <td>Yes</td>\n",
       "      <td>Monday</td>\n",
       "      <td>Medium</td>\n",
       "      <td>3</td>\n",
       "      <td>Ahmedabad-Chennai</td>\n",
       "      <td>1</td>\n",
       "      <td>0</td>\n",
       "      <td>0</td>\n",
       "    </tr>\n",
       "    <tr>\n",
       "      <th>19999</th>\n",
       "      <td>SHIP019999</td>\n",
       "      <td>Jaipur</td>\n",
       "      <td>Pune</td>\n",
       "      <td>2024-02-26</td>\n",
       "      <td>2024-02-27</td>\n",
       "      <td>2024-02-27</td>\n",
       "      <td>Lorry</td>\n",
       "      <td>584</td>\n",
       "      <td>Clear</td>\n",
       "      <td>Light</td>\n",
       "      <td>No</td>\n",
       "      <td>Tuesday</td>\n",
       "      <td>Medium</td>\n",
       "      <td>1</td>\n",
       "      <td>Jaipur-Pune</td>\n",
       "      <td>0</td>\n",
       "      <td>1</td>\n",
       "      <td>0</td>\n",
       "    </tr>\n",
       "  </tbody>\n",
       "</table>\n",
       "<p>20000 rows × 18 columns</p>\n",
       "</div>"
      ],
      "text/plain": [
       "      Shipment ID     Origin Destination Shipment Date Planned Delivery Date  \\\n",
       "0      SHIP000000     Jaipur      Mumbai    2023-04-26            2023-05-01   \n",
       "1      SHIP000001  Bangalore       Delhi    2023-02-09            2023-02-13   \n",
       "2      SHIP000002     Mumbai     Chennai    2023-09-19            2023-09-25   \n",
       "3      SHIP000003  Hyderabad   Ahmedabad    2023-04-01            2023-04-05   \n",
       "4      SHIP000004    Chennai     Kolkata    2023-11-24            2023-11-26   \n",
       "...           ...        ...         ...           ...                   ...   \n",
       "19995  SHIP019995    Chennai   Bangalore    2023-06-22            2023-06-23   \n",
       "19996  SHIP019996  Hyderabad      Jaipur    2023-03-02            2023-03-03   \n",
       "19997  SHIP019997  Hyderabad      Mumbai    2023-05-24            2023-05-27   \n",
       "19998  SHIP019998  Ahmedabad     Chennai    2023-05-02            2023-05-05   \n",
       "19999  SHIP019999     Jaipur        Pune    2024-02-26            2024-02-27   \n",
       "\n",
       "      Actual Delivery Date Vehicle Type  Distance (km) Weather Conditions  \\\n",
       "0               2023-05-02      Trailer           1603               Rain   \n",
       "1               2023-02-17      Trailer           1237              Storm   \n",
       "2               2023-09-25        Truck           1863              Clear   \n",
       "3               2023-04-05    Container           1374              Clear   \n",
       "4               2023-11-28    Container            676              Clear   \n",
       "...                    ...          ...            ...                ...   \n",
       "19995           2023-06-26        Truck            564                Fog   \n",
       "19996           2023-03-07        Truck            305              Storm   \n",
       "19997           2023-06-02      Trailer           1028               Rain   \n",
       "19998           2023-05-08        Lorry            905                Fog   \n",
       "19999           2024-02-27        Lorry            584              Clear   \n",
       "\n",
       "      Traffic Conditions Delayed       temp Distance Type  \\\n",
       "0                  Light     Yes    Tuesday         Large   \n",
       "1               Moderate     Yes     Friday         Large   \n",
       "2                  Light      No     Monday         Large   \n",
       "3                  Light      No  Wednesday         Large   \n",
       "4                  Heavy     Yes    Tuesday        Medium   \n",
       "...                  ...     ...        ...           ...   \n",
       "19995           Moderate     Yes     Monday        Medium   \n",
       "19996           Moderate     Yes    Tuesday         Short   \n",
       "19997           Moderate     Yes     Friday         Large   \n",
       "19998           Moderate     Yes     Monday        Medium   \n",
       "19999              Light      No    Tuesday        Medium   \n",
       "\n",
       "       Planned Delivery (in days)   Origin_Destination  M_W_F  T_T_S  Sunday  \n",
       "0                               5        Jaipur-Mumbai      0      1       0  \n",
       "1                               4      Bangalore-Delhi      1      0       0  \n",
       "2                               6       Mumbai-Chennai      1      0       0  \n",
       "3                               4  Hyderabad-Ahmedabad      1      0       0  \n",
       "4                               2      Chennai-Kolkata      0      1       0  \n",
       "...                           ...                  ...    ...    ...     ...  \n",
       "19995                           1    Chennai-Bangalore      1      0       0  \n",
       "19996                           1     Hyderabad-Jaipur      0      1       0  \n",
       "19997                           3     Hyderabad-Mumbai      1      0       0  \n",
       "19998                           3    Ahmedabad-Chennai      1      0       0  \n",
       "19999                           1          Jaipur-Pune      0      1       0  \n",
       "\n",
       "[20000 rows x 18 columns]"
      ]
     },
     "execution_count": 276,
     "metadata": {},
     "output_type": "execute_result"
    }
   ],
   "source": [
    "df_new"
   ]
  },
  {
   "cell_type": "code",
   "execution_count": 277,
   "metadata": {},
   "outputs": [],
   "source": [
    "df_new=df_new.drop(columns=['Origin','Destination','Shipment ID','Shipment Date','Planned Delivery Date','Actual Delivery Date','temp','Origin_Destination','Distance (km)'])"
   ]
  },
  {
   "cell_type": "code",
   "execution_count": 278,
   "metadata": {},
   "outputs": [
    {
     "data": {
      "text/html": [
       "<div>\n",
       "<style scoped>\n",
       "    .dataframe tbody tr th:only-of-type {\n",
       "        vertical-align: middle;\n",
       "    }\n",
       "\n",
       "    .dataframe tbody tr th {\n",
       "        vertical-align: top;\n",
       "    }\n",
       "\n",
       "    .dataframe thead th {\n",
       "        text-align: right;\n",
       "    }\n",
       "</style>\n",
       "<table border=\"1\" class=\"dataframe\">\n",
       "  <thead>\n",
       "    <tr style=\"text-align: right;\">\n",
       "      <th></th>\n",
       "      <th>Vehicle Type</th>\n",
       "      <th>Weather Conditions</th>\n",
       "      <th>Traffic Conditions</th>\n",
       "      <th>Delayed</th>\n",
       "      <th>Distance Type</th>\n",
       "      <th>Planned Delivery (in days)</th>\n",
       "      <th>M_W_F</th>\n",
       "      <th>T_T_S</th>\n",
       "      <th>Sunday</th>\n",
       "    </tr>\n",
       "  </thead>\n",
       "  <tbody>\n",
       "    <tr>\n",
       "      <th>0</th>\n",
       "      <td>Trailer</td>\n",
       "      <td>Rain</td>\n",
       "      <td>Light</td>\n",
       "      <td>Yes</td>\n",
       "      <td>Large</td>\n",
       "      <td>5</td>\n",
       "      <td>0</td>\n",
       "      <td>1</td>\n",
       "      <td>0</td>\n",
       "    </tr>\n",
       "    <tr>\n",
       "      <th>1</th>\n",
       "      <td>Trailer</td>\n",
       "      <td>Storm</td>\n",
       "      <td>Moderate</td>\n",
       "      <td>Yes</td>\n",
       "      <td>Large</td>\n",
       "      <td>4</td>\n",
       "      <td>1</td>\n",
       "      <td>0</td>\n",
       "      <td>0</td>\n",
       "    </tr>\n",
       "    <tr>\n",
       "      <th>2</th>\n",
       "      <td>Truck</td>\n",
       "      <td>Clear</td>\n",
       "      <td>Light</td>\n",
       "      <td>No</td>\n",
       "      <td>Large</td>\n",
       "      <td>6</td>\n",
       "      <td>1</td>\n",
       "      <td>0</td>\n",
       "      <td>0</td>\n",
       "    </tr>\n",
       "    <tr>\n",
       "      <th>3</th>\n",
       "      <td>Container</td>\n",
       "      <td>Clear</td>\n",
       "      <td>Light</td>\n",
       "      <td>No</td>\n",
       "      <td>Large</td>\n",
       "      <td>4</td>\n",
       "      <td>1</td>\n",
       "      <td>0</td>\n",
       "      <td>0</td>\n",
       "    </tr>\n",
       "    <tr>\n",
       "      <th>4</th>\n",
       "      <td>Container</td>\n",
       "      <td>Clear</td>\n",
       "      <td>Heavy</td>\n",
       "      <td>Yes</td>\n",
       "      <td>Medium</td>\n",
       "      <td>2</td>\n",
       "      <td>0</td>\n",
       "      <td>1</td>\n",
       "      <td>0</td>\n",
       "    </tr>\n",
       "    <tr>\n",
       "      <th>...</th>\n",
       "      <td>...</td>\n",
       "      <td>...</td>\n",
       "      <td>...</td>\n",
       "      <td>...</td>\n",
       "      <td>...</td>\n",
       "      <td>...</td>\n",
       "      <td>...</td>\n",
       "      <td>...</td>\n",
       "      <td>...</td>\n",
       "    </tr>\n",
       "    <tr>\n",
       "      <th>19995</th>\n",
       "      <td>Truck</td>\n",
       "      <td>Fog</td>\n",
       "      <td>Moderate</td>\n",
       "      <td>Yes</td>\n",
       "      <td>Medium</td>\n",
       "      <td>1</td>\n",
       "      <td>1</td>\n",
       "      <td>0</td>\n",
       "      <td>0</td>\n",
       "    </tr>\n",
       "    <tr>\n",
       "      <th>19996</th>\n",
       "      <td>Truck</td>\n",
       "      <td>Storm</td>\n",
       "      <td>Moderate</td>\n",
       "      <td>Yes</td>\n",
       "      <td>Short</td>\n",
       "      <td>1</td>\n",
       "      <td>0</td>\n",
       "      <td>1</td>\n",
       "      <td>0</td>\n",
       "    </tr>\n",
       "    <tr>\n",
       "      <th>19997</th>\n",
       "      <td>Trailer</td>\n",
       "      <td>Rain</td>\n",
       "      <td>Moderate</td>\n",
       "      <td>Yes</td>\n",
       "      <td>Large</td>\n",
       "      <td>3</td>\n",
       "      <td>1</td>\n",
       "      <td>0</td>\n",
       "      <td>0</td>\n",
       "    </tr>\n",
       "    <tr>\n",
       "      <th>19998</th>\n",
       "      <td>Lorry</td>\n",
       "      <td>Fog</td>\n",
       "      <td>Moderate</td>\n",
       "      <td>Yes</td>\n",
       "      <td>Medium</td>\n",
       "      <td>3</td>\n",
       "      <td>1</td>\n",
       "      <td>0</td>\n",
       "      <td>0</td>\n",
       "    </tr>\n",
       "    <tr>\n",
       "      <th>19999</th>\n",
       "      <td>Lorry</td>\n",
       "      <td>Clear</td>\n",
       "      <td>Light</td>\n",
       "      <td>No</td>\n",
       "      <td>Medium</td>\n",
       "      <td>1</td>\n",
       "      <td>0</td>\n",
       "      <td>1</td>\n",
       "      <td>0</td>\n",
       "    </tr>\n",
       "  </tbody>\n",
       "</table>\n",
       "<p>20000 rows × 9 columns</p>\n",
       "</div>"
      ],
      "text/plain": [
       "      Vehicle Type Weather Conditions Traffic Conditions Delayed  \\\n",
       "0          Trailer               Rain              Light     Yes   \n",
       "1          Trailer              Storm           Moderate     Yes   \n",
       "2            Truck              Clear              Light      No   \n",
       "3        Container              Clear              Light      No   \n",
       "4        Container              Clear              Heavy     Yes   \n",
       "...            ...                ...                ...     ...   \n",
       "19995        Truck                Fog           Moderate     Yes   \n",
       "19996        Truck              Storm           Moderate     Yes   \n",
       "19997      Trailer               Rain           Moderate     Yes   \n",
       "19998        Lorry                Fog           Moderate     Yes   \n",
       "19999        Lorry              Clear              Light      No   \n",
       "\n",
       "      Distance Type  Planned Delivery (in days)  M_W_F  T_T_S  Sunday  \n",
       "0             Large                           5      0      1       0  \n",
       "1             Large                           4      1      0       0  \n",
       "2             Large                           6      1      0       0  \n",
       "3             Large                           4      1      0       0  \n",
       "4            Medium                           2      0      1       0  \n",
       "...             ...                         ...    ...    ...     ...  \n",
       "19995        Medium                           1      1      0       0  \n",
       "19996         Short                           1      0      1       0  \n",
       "19997         Large                           3      1      0       0  \n",
       "19998        Medium                           3      1      0       0  \n",
       "19999        Medium                           1      0      1       0  \n",
       "\n",
       "[20000 rows x 9 columns]"
      ]
     },
     "execution_count": 278,
     "metadata": {},
     "output_type": "execute_result"
    }
   ],
   "source": [
    "df_new"
   ]
  },
  {
   "cell_type": "markdown",
   "metadata": {},
   "source": [
    "### Creating a category for Weather Conditions called 'Clear' or 'Not clear'"
   ]
  },
  {
   "cell_type": "code",
   "execution_count": 282,
   "metadata": {},
   "outputs": [],
   "source": [
    "df_new['Clear Weather']=np.where(df_new['Weather Conditions']=='Clear',1,0)\n",
    "df_new['Disturbed Weather']=np.where(df_new['Weather Conditions'].isin(['Rain','Fog','Storm']),1,0)"
   ]
  },
  {
   "cell_type": "code",
   "execution_count": 283,
   "metadata": {},
   "outputs": [
    {
     "data": {
      "text/html": [
       "<div>\n",
       "<style scoped>\n",
       "    .dataframe tbody tr th:only-of-type {\n",
       "        vertical-align: middle;\n",
       "    }\n",
       "\n",
       "    .dataframe tbody tr th {\n",
       "        vertical-align: top;\n",
       "    }\n",
       "\n",
       "    .dataframe thead th {\n",
       "        text-align: right;\n",
       "    }\n",
       "</style>\n",
       "<table border=\"1\" class=\"dataframe\">\n",
       "  <thead>\n",
       "    <tr style=\"text-align: right;\">\n",
       "      <th></th>\n",
       "      <th>Vehicle Type</th>\n",
       "      <th>Weather Conditions</th>\n",
       "      <th>Traffic Conditions</th>\n",
       "      <th>Delayed</th>\n",
       "      <th>Distance Type</th>\n",
       "      <th>Planned Delivery (in days)</th>\n",
       "      <th>M_W_F</th>\n",
       "      <th>T_T_S</th>\n",
       "      <th>Sunday</th>\n",
       "      <th>Clear Weather</th>\n",
       "      <th>Disturbed Weather</th>\n",
       "    </tr>\n",
       "  </thead>\n",
       "  <tbody>\n",
       "    <tr>\n",
       "      <th>17659</th>\n",
       "      <td>Trailer</td>\n",
       "      <td>Clear</td>\n",
       "      <td>Light</td>\n",
       "      <td>No</td>\n",
       "      <td>Short</td>\n",
       "      <td>1</td>\n",
       "      <td>1</td>\n",
       "      <td>0</td>\n",
       "      <td>0</td>\n",
       "      <td>1</td>\n",
       "      <td>0</td>\n",
       "    </tr>\n",
       "  </tbody>\n",
       "</table>\n",
       "</div>"
      ],
      "text/plain": [
       "      Vehicle Type Weather Conditions Traffic Conditions Delayed  \\\n",
       "17659      Trailer              Clear              Light      No   \n",
       "\n",
       "      Distance Type  Planned Delivery (in days)  M_W_F  T_T_S  Sunday  \\\n",
       "17659         Short                           1      1      0       0   \n",
       "\n",
       "       Clear Weather  Disturbed Weather  \n",
       "17659              1                  0  "
      ]
     },
     "execution_count": 283,
     "metadata": {},
     "output_type": "execute_result"
    }
   ],
   "source": [
    "df_new.sample()"
   ]
  },
  {
   "cell_type": "code",
   "execution_count": 284,
   "metadata": {},
   "outputs": [
    {
     "data": {
      "text/html": [
       "<div>\n",
       "<style scoped>\n",
       "    .dataframe tbody tr th:only-of-type {\n",
       "        vertical-align: middle;\n",
       "    }\n",
       "\n",
       "    .dataframe tbody tr th {\n",
       "        vertical-align: top;\n",
       "    }\n",
       "\n",
       "    .dataframe thead th {\n",
       "        text-align: right;\n",
       "    }\n",
       "</style>\n",
       "<table border=\"1\" class=\"dataframe\">\n",
       "  <thead>\n",
       "    <tr style=\"text-align: right;\">\n",
       "      <th></th>\n",
       "      <th>Weather Conditions</th>\n",
       "      <th>Delayed</th>\n",
       "      <th>Planned Delivery (in days)</th>\n",
       "      <th>M_W_F</th>\n",
       "      <th>T_T_S</th>\n",
       "      <th>Sunday</th>\n",
       "      <th>Clear Weather</th>\n",
       "      <th>Disturbed Weather</th>\n",
       "      <th>Vehicle Type_Container</th>\n",
       "      <th>Vehicle Type_Lorry</th>\n",
       "      <th>Vehicle Type_Trailer</th>\n",
       "      <th>Vehicle Type_Truck</th>\n",
       "      <th>Traffic Conditions_Heavy</th>\n",
       "      <th>Traffic Conditions_Light</th>\n",
       "      <th>Traffic Conditions_Moderate</th>\n",
       "      <th>Distance Type_Large</th>\n",
       "      <th>Distance Type_Medium</th>\n",
       "      <th>Distance Type_Short</th>\n",
       "    </tr>\n",
       "  </thead>\n",
       "  <tbody>\n",
       "    <tr>\n",
       "      <th>0</th>\n",
       "      <td>Rain</td>\n",
       "      <td>Yes</td>\n",
       "      <td>5</td>\n",
       "      <td>0</td>\n",
       "      <td>1</td>\n",
       "      <td>0</td>\n",
       "      <td>0</td>\n",
       "      <td>1</td>\n",
       "      <td>False</td>\n",
       "      <td>False</td>\n",
       "      <td>True</td>\n",
       "      <td>False</td>\n",
       "      <td>False</td>\n",
       "      <td>True</td>\n",
       "      <td>False</td>\n",
       "      <td>True</td>\n",
       "      <td>False</td>\n",
       "      <td>False</td>\n",
       "    </tr>\n",
       "    <tr>\n",
       "      <th>1</th>\n",
       "      <td>Storm</td>\n",
       "      <td>Yes</td>\n",
       "      <td>4</td>\n",
       "      <td>1</td>\n",
       "      <td>0</td>\n",
       "      <td>0</td>\n",
       "      <td>0</td>\n",
       "      <td>1</td>\n",
       "      <td>False</td>\n",
       "      <td>False</td>\n",
       "      <td>True</td>\n",
       "      <td>False</td>\n",
       "      <td>False</td>\n",
       "      <td>False</td>\n",
       "      <td>True</td>\n",
       "      <td>True</td>\n",
       "      <td>False</td>\n",
       "      <td>False</td>\n",
       "    </tr>\n",
       "    <tr>\n",
       "      <th>2</th>\n",
       "      <td>Clear</td>\n",
       "      <td>No</td>\n",
       "      <td>6</td>\n",
       "      <td>1</td>\n",
       "      <td>0</td>\n",
       "      <td>0</td>\n",
       "      <td>1</td>\n",
       "      <td>0</td>\n",
       "      <td>False</td>\n",
       "      <td>False</td>\n",
       "      <td>False</td>\n",
       "      <td>True</td>\n",
       "      <td>False</td>\n",
       "      <td>True</td>\n",
       "      <td>False</td>\n",
       "      <td>True</td>\n",
       "      <td>False</td>\n",
       "      <td>False</td>\n",
       "    </tr>\n",
       "    <tr>\n",
       "      <th>3</th>\n",
       "      <td>Clear</td>\n",
       "      <td>No</td>\n",
       "      <td>4</td>\n",
       "      <td>1</td>\n",
       "      <td>0</td>\n",
       "      <td>0</td>\n",
       "      <td>1</td>\n",
       "      <td>0</td>\n",
       "      <td>True</td>\n",
       "      <td>False</td>\n",
       "      <td>False</td>\n",
       "      <td>False</td>\n",
       "      <td>False</td>\n",
       "      <td>True</td>\n",
       "      <td>False</td>\n",
       "      <td>True</td>\n",
       "      <td>False</td>\n",
       "      <td>False</td>\n",
       "    </tr>\n",
       "    <tr>\n",
       "      <th>4</th>\n",
       "      <td>Clear</td>\n",
       "      <td>Yes</td>\n",
       "      <td>2</td>\n",
       "      <td>0</td>\n",
       "      <td>1</td>\n",
       "      <td>0</td>\n",
       "      <td>1</td>\n",
       "      <td>0</td>\n",
       "      <td>True</td>\n",
       "      <td>False</td>\n",
       "      <td>False</td>\n",
       "      <td>False</td>\n",
       "      <td>True</td>\n",
       "      <td>False</td>\n",
       "      <td>False</td>\n",
       "      <td>False</td>\n",
       "      <td>True</td>\n",
       "      <td>False</td>\n",
       "    </tr>\n",
       "  </tbody>\n",
       "</table>\n",
       "</div>"
      ],
      "text/plain": [
       "  Weather Conditions Delayed  Planned Delivery (in days)  M_W_F  T_T_S  \\\n",
       "0               Rain     Yes                           5      0      1   \n",
       "1              Storm     Yes                           4      1      0   \n",
       "2              Clear      No                           6      1      0   \n",
       "3              Clear      No                           4      1      0   \n",
       "4              Clear     Yes                           2      0      1   \n",
       "\n",
       "   Sunday  Clear Weather  Disturbed Weather  Vehicle Type_Container  \\\n",
       "0       0              0                  1                   False   \n",
       "1       0              0                  1                   False   \n",
       "2       0              1                  0                   False   \n",
       "3       0              1                  0                    True   \n",
       "4       0              1                  0                    True   \n",
       "\n",
       "   Vehicle Type_Lorry  Vehicle Type_Trailer  Vehicle Type_Truck  \\\n",
       "0               False                  True               False   \n",
       "1               False                  True               False   \n",
       "2               False                 False                True   \n",
       "3               False                 False               False   \n",
       "4               False                 False               False   \n",
       "\n",
       "   Traffic Conditions_Heavy  Traffic Conditions_Light  \\\n",
       "0                     False                      True   \n",
       "1                     False                     False   \n",
       "2                     False                      True   \n",
       "3                     False                      True   \n",
       "4                      True                     False   \n",
       "\n",
       "   Traffic Conditions_Moderate  Distance Type_Large  Distance Type_Medium  \\\n",
       "0                        False                 True                 False   \n",
       "1                         True                 True                 False   \n",
       "2                        False                 True                 False   \n",
       "3                        False                 True                 False   \n",
       "4                        False                False                  True   \n",
       "\n",
       "   Distance Type_Short  \n",
       "0                False  \n",
       "1                False  \n",
       "2                False  \n",
       "3                False  \n",
       "4                False  "
      ]
     },
     "execution_count": 284,
     "metadata": {},
     "output_type": "execute_result"
    }
   ],
   "source": [
    "df_encoded = pd.get_dummies(df_new, columns=['Vehicle Type', 'Traffic Conditions','Distance Type'])\n",
    "df_encoded.head()"
   ]
  },
  {
   "cell_type": "code",
   "execution_count": 285,
   "metadata": {},
   "outputs": [
    {
     "data": {
      "text/html": [
       "<div>\n",
       "<style scoped>\n",
       "    .dataframe tbody tr th:only-of-type {\n",
       "        vertical-align: middle;\n",
       "    }\n",
       "\n",
       "    .dataframe tbody tr th {\n",
       "        vertical-align: top;\n",
       "    }\n",
       "\n",
       "    .dataframe thead th {\n",
       "        text-align: right;\n",
       "    }\n",
       "</style>\n",
       "<table border=\"1\" class=\"dataframe\">\n",
       "  <thead>\n",
       "    <tr style=\"text-align: right;\">\n",
       "      <th></th>\n",
       "      <th>Delayed</th>\n",
       "      <th>Planned Delivery (in days)</th>\n",
       "      <th>M_W_F</th>\n",
       "      <th>T_T_S</th>\n",
       "      <th>Sunday</th>\n",
       "      <th>Clear Weather</th>\n",
       "      <th>Disturbed Weather</th>\n",
       "      <th>Vehicle Type_Container</th>\n",
       "      <th>Vehicle Type_Lorry</th>\n",
       "      <th>Vehicle Type_Trailer</th>\n",
       "      <th>Vehicle Type_Truck</th>\n",
       "      <th>Traffic Conditions_Heavy</th>\n",
       "      <th>Traffic Conditions_Light</th>\n",
       "      <th>Traffic Conditions_Moderate</th>\n",
       "      <th>Distance Type_Large</th>\n",
       "      <th>Distance Type_Medium</th>\n",
       "      <th>Distance Type_Short</th>\n",
       "    </tr>\n",
       "  </thead>\n",
       "  <tbody>\n",
       "    <tr>\n",
       "      <th>0</th>\n",
       "      <td>Yes</td>\n",
       "      <td>5</td>\n",
       "      <td>0</td>\n",
       "      <td>1</td>\n",
       "      <td>0</td>\n",
       "      <td>0</td>\n",
       "      <td>1</td>\n",
       "      <td>False</td>\n",
       "      <td>False</td>\n",
       "      <td>True</td>\n",
       "      <td>False</td>\n",
       "      <td>False</td>\n",
       "      <td>True</td>\n",
       "      <td>False</td>\n",
       "      <td>True</td>\n",
       "      <td>False</td>\n",
       "      <td>False</td>\n",
       "    </tr>\n",
       "    <tr>\n",
       "      <th>1</th>\n",
       "      <td>Yes</td>\n",
       "      <td>4</td>\n",
       "      <td>1</td>\n",
       "      <td>0</td>\n",
       "      <td>0</td>\n",
       "      <td>0</td>\n",
       "      <td>1</td>\n",
       "      <td>False</td>\n",
       "      <td>False</td>\n",
       "      <td>True</td>\n",
       "      <td>False</td>\n",
       "      <td>False</td>\n",
       "      <td>False</td>\n",
       "      <td>True</td>\n",
       "      <td>True</td>\n",
       "      <td>False</td>\n",
       "      <td>False</td>\n",
       "    </tr>\n",
       "    <tr>\n",
       "      <th>2</th>\n",
       "      <td>No</td>\n",
       "      <td>6</td>\n",
       "      <td>1</td>\n",
       "      <td>0</td>\n",
       "      <td>0</td>\n",
       "      <td>1</td>\n",
       "      <td>0</td>\n",
       "      <td>False</td>\n",
       "      <td>False</td>\n",
       "      <td>False</td>\n",
       "      <td>True</td>\n",
       "      <td>False</td>\n",
       "      <td>True</td>\n",
       "      <td>False</td>\n",
       "      <td>True</td>\n",
       "      <td>False</td>\n",
       "      <td>False</td>\n",
       "    </tr>\n",
       "    <tr>\n",
       "      <th>3</th>\n",
       "      <td>No</td>\n",
       "      <td>4</td>\n",
       "      <td>1</td>\n",
       "      <td>0</td>\n",
       "      <td>0</td>\n",
       "      <td>1</td>\n",
       "      <td>0</td>\n",
       "      <td>True</td>\n",
       "      <td>False</td>\n",
       "      <td>False</td>\n",
       "      <td>False</td>\n",
       "      <td>False</td>\n",
       "      <td>True</td>\n",
       "      <td>False</td>\n",
       "      <td>True</td>\n",
       "      <td>False</td>\n",
       "      <td>False</td>\n",
       "    </tr>\n",
       "    <tr>\n",
       "      <th>4</th>\n",
       "      <td>Yes</td>\n",
       "      <td>2</td>\n",
       "      <td>0</td>\n",
       "      <td>1</td>\n",
       "      <td>0</td>\n",
       "      <td>1</td>\n",
       "      <td>0</td>\n",
       "      <td>True</td>\n",
       "      <td>False</td>\n",
       "      <td>False</td>\n",
       "      <td>False</td>\n",
       "      <td>True</td>\n",
       "      <td>False</td>\n",
       "      <td>False</td>\n",
       "      <td>False</td>\n",
       "      <td>True</td>\n",
       "      <td>False</td>\n",
       "    </tr>\n",
       "  </tbody>\n",
       "</table>\n",
       "</div>"
      ],
      "text/plain": [
       "  Delayed  Planned Delivery (in days)  M_W_F  T_T_S  Sunday  Clear Weather  \\\n",
       "0     Yes                           5      0      1       0              0   \n",
       "1     Yes                           4      1      0       0              0   \n",
       "2      No                           6      1      0       0              1   \n",
       "3      No                           4      1      0       0              1   \n",
       "4     Yes                           2      0      1       0              1   \n",
       "\n",
       "   Disturbed Weather  Vehicle Type_Container  Vehicle Type_Lorry  \\\n",
       "0                  1                   False               False   \n",
       "1                  1                   False               False   \n",
       "2                  0                   False               False   \n",
       "3                  0                    True               False   \n",
       "4                  0                    True               False   \n",
       "\n",
       "   Vehicle Type_Trailer  Vehicle Type_Truck  Traffic Conditions_Heavy  \\\n",
       "0                  True               False                     False   \n",
       "1                  True               False                     False   \n",
       "2                 False                True                     False   \n",
       "3                 False               False                     False   \n",
       "4                 False               False                      True   \n",
       "\n",
       "   Traffic Conditions_Light  Traffic Conditions_Moderate  Distance Type_Large  \\\n",
       "0                      True                        False                 True   \n",
       "1                     False                         True                 True   \n",
       "2                      True                        False                 True   \n",
       "3                      True                        False                 True   \n",
       "4                     False                        False                False   \n",
       "\n",
       "   Distance Type_Medium  Distance Type_Short  \n",
       "0                 False                False  \n",
       "1                 False                False  \n",
       "2                 False                False  \n",
       "3                 False                False  \n",
       "4                  True                False  "
      ]
     },
     "execution_count": 285,
     "metadata": {},
     "output_type": "execute_result"
    }
   ],
   "source": [
    "df_encoded=df_encoded.drop(columns=['Weather Conditions'])\n",
    "df_encoded.head()"
   ]
  },
  {
   "cell_type": "code",
   "execution_count": 286,
   "metadata": {},
   "outputs": [],
   "source": [
    "df_encoded['Delayed']=np.where(df_encoded['Delayed']=='Yes',1,0)\n",
    "df_encoded=df_encoded.replace({True:1,False:0})"
   ]
  },
  {
   "cell_type": "code",
   "execution_count": 287,
   "metadata": {},
   "outputs": [
    {
     "data": {
      "text/html": [
       "<div>\n",
       "<style scoped>\n",
       "    .dataframe tbody tr th:only-of-type {\n",
       "        vertical-align: middle;\n",
       "    }\n",
       "\n",
       "    .dataframe tbody tr th {\n",
       "        vertical-align: top;\n",
       "    }\n",
       "\n",
       "    .dataframe thead th {\n",
       "        text-align: right;\n",
       "    }\n",
       "</style>\n",
       "<table border=\"1\" class=\"dataframe\">\n",
       "  <thead>\n",
       "    <tr style=\"text-align: right;\">\n",
       "      <th></th>\n",
       "      <th>Delayed</th>\n",
       "      <th>Planned Delivery (in days)</th>\n",
       "      <th>M_W_F</th>\n",
       "      <th>T_T_S</th>\n",
       "      <th>Sunday</th>\n",
       "      <th>Clear Weather</th>\n",
       "      <th>Disturbed Weather</th>\n",
       "      <th>Vehicle Type_Container</th>\n",
       "      <th>Vehicle Type_Lorry</th>\n",
       "      <th>Vehicle Type_Trailer</th>\n",
       "      <th>Vehicle Type_Truck</th>\n",
       "      <th>Traffic Conditions_Heavy</th>\n",
       "      <th>Traffic Conditions_Light</th>\n",
       "      <th>Traffic Conditions_Moderate</th>\n",
       "      <th>Distance Type_Large</th>\n",
       "      <th>Distance Type_Medium</th>\n",
       "      <th>Distance Type_Short</th>\n",
       "    </tr>\n",
       "  </thead>\n",
       "  <tbody>\n",
       "    <tr>\n",
       "      <th>0</th>\n",
       "      <td>1</td>\n",
       "      <td>5</td>\n",
       "      <td>0</td>\n",
       "      <td>1</td>\n",
       "      <td>0</td>\n",
       "      <td>0</td>\n",
       "      <td>1</td>\n",
       "      <td>0</td>\n",
       "      <td>0</td>\n",
       "      <td>1</td>\n",
       "      <td>0</td>\n",
       "      <td>0</td>\n",
       "      <td>1</td>\n",
       "      <td>0</td>\n",
       "      <td>1</td>\n",
       "      <td>0</td>\n",
       "      <td>0</td>\n",
       "    </tr>\n",
       "    <tr>\n",
       "      <th>1</th>\n",
       "      <td>1</td>\n",
       "      <td>4</td>\n",
       "      <td>1</td>\n",
       "      <td>0</td>\n",
       "      <td>0</td>\n",
       "      <td>0</td>\n",
       "      <td>1</td>\n",
       "      <td>0</td>\n",
       "      <td>0</td>\n",
       "      <td>1</td>\n",
       "      <td>0</td>\n",
       "      <td>0</td>\n",
       "      <td>0</td>\n",
       "      <td>1</td>\n",
       "      <td>1</td>\n",
       "      <td>0</td>\n",
       "      <td>0</td>\n",
       "    </tr>\n",
       "    <tr>\n",
       "      <th>2</th>\n",
       "      <td>0</td>\n",
       "      <td>6</td>\n",
       "      <td>1</td>\n",
       "      <td>0</td>\n",
       "      <td>0</td>\n",
       "      <td>1</td>\n",
       "      <td>0</td>\n",
       "      <td>0</td>\n",
       "      <td>0</td>\n",
       "      <td>0</td>\n",
       "      <td>1</td>\n",
       "      <td>0</td>\n",
       "      <td>1</td>\n",
       "      <td>0</td>\n",
       "      <td>1</td>\n",
       "      <td>0</td>\n",
       "      <td>0</td>\n",
       "    </tr>\n",
       "    <tr>\n",
       "      <th>3</th>\n",
       "      <td>0</td>\n",
       "      <td>4</td>\n",
       "      <td>1</td>\n",
       "      <td>0</td>\n",
       "      <td>0</td>\n",
       "      <td>1</td>\n",
       "      <td>0</td>\n",
       "      <td>1</td>\n",
       "      <td>0</td>\n",
       "      <td>0</td>\n",
       "      <td>0</td>\n",
       "      <td>0</td>\n",
       "      <td>1</td>\n",
       "      <td>0</td>\n",
       "      <td>1</td>\n",
       "      <td>0</td>\n",
       "      <td>0</td>\n",
       "    </tr>\n",
       "    <tr>\n",
       "      <th>4</th>\n",
       "      <td>1</td>\n",
       "      <td>2</td>\n",
       "      <td>0</td>\n",
       "      <td>1</td>\n",
       "      <td>0</td>\n",
       "      <td>1</td>\n",
       "      <td>0</td>\n",
       "      <td>1</td>\n",
       "      <td>0</td>\n",
       "      <td>0</td>\n",
       "      <td>0</td>\n",
       "      <td>1</td>\n",
       "      <td>0</td>\n",
       "      <td>0</td>\n",
       "      <td>0</td>\n",
       "      <td>1</td>\n",
       "      <td>0</td>\n",
       "    </tr>\n",
       "  </tbody>\n",
       "</table>\n",
       "</div>"
      ],
      "text/plain": [
       "   Delayed  Planned Delivery (in days)  M_W_F  T_T_S  Sunday  Clear Weather  \\\n",
       "0        1                           5      0      1       0              0   \n",
       "1        1                           4      1      0       0              0   \n",
       "2        0                           6      1      0       0              1   \n",
       "3        0                           4      1      0       0              1   \n",
       "4        1                           2      0      1       0              1   \n",
       "\n",
       "   Disturbed Weather  Vehicle Type_Container  Vehicle Type_Lorry  \\\n",
       "0                  1                       0                   0   \n",
       "1                  1                       0                   0   \n",
       "2                  0                       0                   0   \n",
       "3                  0                       1                   0   \n",
       "4                  0                       1                   0   \n",
       "\n",
       "   Vehicle Type_Trailer  Vehicle Type_Truck  Traffic Conditions_Heavy  \\\n",
       "0                     1                   0                         0   \n",
       "1                     1                   0                         0   \n",
       "2                     0                   1                         0   \n",
       "3                     0                   0                         0   \n",
       "4                     0                   0                         1   \n",
       "\n",
       "   Traffic Conditions_Light  Traffic Conditions_Moderate  Distance Type_Large  \\\n",
       "0                         1                            0                    1   \n",
       "1                         0                            1                    1   \n",
       "2                         1                            0                    1   \n",
       "3                         1                            0                    1   \n",
       "4                         0                            0                    0   \n",
       "\n",
       "   Distance Type_Medium  Distance Type_Short  \n",
       "0                     0                    0  \n",
       "1                     0                    0  \n",
       "2                     0                    0  \n",
       "3                     0                    0  \n",
       "4                     1                    0  "
      ]
     },
     "execution_count": 287,
     "metadata": {},
     "output_type": "execute_result"
    }
   ],
   "source": [
    "df_encoded.head()"
   ]
  },
  {
   "cell_type": "code",
   "execution_count": 288,
   "metadata": {},
   "outputs": [],
   "source": [
    "X=df_encoded.drop(columns=['Delayed'])\n",
    "Y=df_encoded['Delayed']"
   ]
  },
  {
   "cell_type": "markdown",
   "metadata": {},
   "source": [
    "### Using SMOTE now"
   ]
  },
  {
   "cell_type": "code",
   "execution_count": 289,
   "metadata": {},
   "outputs": [],
   "source": [
    "from sklearn.model_selection import train_test_split\n",
    "X_train, X_test, y_train, y_test = train_test_split(X, Y, test_size=0.2, random_state=42)\n",
    "\n",
    "from imblearn.over_sampling import SMOTE\n",
    "smote = SMOTE(sampling_strategy='auto', random_state=42)\n",
    "X_resampled, y_resampled = smote.fit_resample(X_train, y_train)"
   ]
  },
  {
   "cell_type": "code",
   "execution_count": 290,
   "metadata": {},
   "outputs": [
    {
     "data": {
      "text/plain": [
       "(23632, 16)"
      ]
     },
     "execution_count": 290,
     "metadata": {},
     "output_type": "execute_result"
    }
   ],
   "source": [
    "X_resampled.shape"
   ]
  },
  {
   "cell_type": "code",
   "execution_count": 291,
   "metadata": {},
   "outputs": [
    {
     "data": {
      "text/plain": [
       "Delayed\n",
       "1    11816\n",
       "0    11816\n",
       "Name: count, dtype: int64"
      ]
     },
     "execution_count": 291,
     "metadata": {},
     "output_type": "execute_result"
    }
   ],
   "source": [
    "y_resampled.value_counts()"
   ]
  },
  {
   "cell_type": "code",
   "execution_count": 292,
   "metadata": {},
   "outputs": [
    {
     "data": {
      "text/html": [
       "<div>\n",
       "<style scoped>\n",
       "    .dataframe tbody tr th:only-of-type {\n",
       "        vertical-align: middle;\n",
       "    }\n",
       "\n",
       "    .dataframe tbody tr th {\n",
       "        vertical-align: top;\n",
       "    }\n",
       "\n",
       "    .dataframe thead th {\n",
       "        text-align: right;\n",
       "    }\n",
       "</style>\n",
       "<table border=\"1\" class=\"dataframe\">\n",
       "  <thead>\n",
       "    <tr style=\"text-align: right;\">\n",
       "      <th></th>\n",
       "      <th>Planned Delivery (in days)</th>\n",
       "      <th>M_W_F</th>\n",
       "      <th>T_T_S</th>\n",
       "      <th>Sunday</th>\n",
       "      <th>Clear Weather</th>\n",
       "      <th>Disturbed Weather</th>\n",
       "      <th>Vehicle Type_Container</th>\n",
       "      <th>Vehicle Type_Lorry</th>\n",
       "      <th>Vehicle Type_Trailer</th>\n",
       "      <th>Vehicle Type_Truck</th>\n",
       "      <th>Traffic Conditions_Heavy</th>\n",
       "      <th>Traffic Conditions_Light</th>\n",
       "      <th>Traffic Conditions_Moderate</th>\n",
       "      <th>Distance Type_Large</th>\n",
       "      <th>Distance Type_Medium</th>\n",
       "      <th>Distance Type_Short</th>\n",
       "    </tr>\n",
       "  </thead>\n",
       "  <tbody>\n",
       "    <tr>\n",
       "      <th>0</th>\n",
       "      <td>4</td>\n",
       "      <td>0</td>\n",
       "      <td>1</td>\n",
       "      <td>0</td>\n",
       "      <td>0</td>\n",
       "      <td>1</td>\n",
       "      <td>0</td>\n",
       "      <td>0</td>\n",
       "      <td>1</td>\n",
       "      <td>0</td>\n",
       "      <td>0</td>\n",
       "      <td>0</td>\n",
       "      <td>1</td>\n",
       "      <td>1</td>\n",
       "      <td>0</td>\n",
       "      <td>0</td>\n",
       "    </tr>\n",
       "    <tr>\n",
       "      <th>1</th>\n",
       "      <td>4</td>\n",
       "      <td>0</td>\n",
       "      <td>0</td>\n",
       "      <td>1</td>\n",
       "      <td>0</td>\n",
       "      <td>1</td>\n",
       "      <td>0</td>\n",
       "      <td>0</td>\n",
       "      <td>1</td>\n",
       "      <td>0</td>\n",
       "      <td>0</td>\n",
       "      <td>0</td>\n",
       "      <td>1</td>\n",
       "      <td>1</td>\n",
       "      <td>0</td>\n",
       "      <td>0</td>\n",
       "    </tr>\n",
       "    <tr>\n",
       "      <th>2</th>\n",
       "      <td>5</td>\n",
       "      <td>1</td>\n",
       "      <td>0</td>\n",
       "      <td>0</td>\n",
       "      <td>0</td>\n",
       "      <td>1</td>\n",
       "      <td>1</td>\n",
       "      <td>0</td>\n",
       "      <td>0</td>\n",
       "      <td>0</td>\n",
       "      <td>0</td>\n",
       "      <td>0</td>\n",
       "      <td>1</td>\n",
       "      <td>1</td>\n",
       "      <td>0</td>\n",
       "      <td>0</td>\n",
       "    </tr>\n",
       "    <tr>\n",
       "      <th>3</th>\n",
       "      <td>1</td>\n",
       "      <td>0</td>\n",
       "      <td>1</td>\n",
       "      <td>0</td>\n",
       "      <td>1</td>\n",
       "      <td>0</td>\n",
       "      <td>0</td>\n",
       "      <td>1</td>\n",
       "      <td>0</td>\n",
       "      <td>0</td>\n",
       "      <td>0</td>\n",
       "      <td>1</td>\n",
       "      <td>0</td>\n",
       "      <td>0</td>\n",
       "      <td>0</td>\n",
       "      <td>1</td>\n",
       "    </tr>\n",
       "    <tr>\n",
       "      <th>4</th>\n",
       "      <td>3</td>\n",
       "      <td>0</td>\n",
       "      <td>0</td>\n",
       "      <td>1</td>\n",
       "      <td>1</td>\n",
       "      <td>0</td>\n",
       "      <td>0</td>\n",
       "      <td>0</td>\n",
       "      <td>0</td>\n",
       "      <td>1</td>\n",
       "      <td>0</td>\n",
       "      <td>1</td>\n",
       "      <td>0</td>\n",
       "      <td>1</td>\n",
       "      <td>0</td>\n",
       "      <td>0</td>\n",
       "    </tr>\n",
       "  </tbody>\n",
       "</table>\n",
       "</div>"
      ],
      "text/plain": [
       "   Planned Delivery (in days)  M_W_F  T_T_S  Sunday  Clear Weather  \\\n",
       "0                           4      0      1       0              0   \n",
       "1                           4      0      0       1              0   \n",
       "2                           5      1      0       0              0   \n",
       "3                           1      0      1       0              1   \n",
       "4                           3      0      0       1              1   \n",
       "\n",
       "   Disturbed Weather  Vehicle Type_Container  Vehicle Type_Lorry  \\\n",
       "0                  1                       0                   0   \n",
       "1                  1                       0                   0   \n",
       "2                  1                       1                   0   \n",
       "3                  0                       0                   1   \n",
       "4                  0                       0                   0   \n",
       "\n",
       "   Vehicle Type_Trailer  Vehicle Type_Truck  Traffic Conditions_Heavy  \\\n",
       "0                     1                   0                         0   \n",
       "1                     1                   0                         0   \n",
       "2                     0                   0                         0   \n",
       "3                     0                   0                         0   \n",
       "4                     0                   1                         0   \n",
       "\n",
       "   Traffic Conditions_Light  Traffic Conditions_Moderate  Distance Type_Large  \\\n",
       "0                         0                            1                    1   \n",
       "1                         0                            1                    1   \n",
       "2                         0                            1                    1   \n",
       "3                         1                            0                    0   \n",
       "4                         1                            0                    1   \n",
       "\n",
       "   Distance Type_Medium  Distance Type_Short  \n",
       "0                     0                    0  \n",
       "1                     0                    0  \n",
       "2                     0                    0  \n",
       "3                     0                    1  \n",
       "4                     0                    0  "
      ]
     },
     "execution_count": 292,
     "metadata": {},
     "output_type": "execute_result"
    }
   ],
   "source": [
    "X_resampled.head()"
   ]
  },
  {
   "cell_type": "code",
   "execution_count": 293,
   "metadata": {},
   "outputs": [
    {
     "name": "stdout",
     "output_type": "stream",
     "text": [
      "<class 'pandas.core.frame.DataFrame'>\n",
      "RangeIndex: 23632 entries, 0 to 23631\n",
      "Data columns (total 16 columns):\n",
      " #   Column                       Non-Null Count  Dtype\n",
      "---  ------                       --------------  -----\n",
      " 0   Planned Delivery (in days)   23632 non-null  int64\n",
      " 1   M_W_F                        23632 non-null  int32\n",
      " 2   T_T_S                        23632 non-null  int32\n",
      " 3   Sunday                       23632 non-null  int32\n",
      " 4   Clear Weather                23632 non-null  int32\n",
      " 5   Disturbed Weather            23632 non-null  int32\n",
      " 6   Vehicle Type_Container       23632 non-null  int64\n",
      " 7   Vehicle Type_Lorry           23632 non-null  int64\n",
      " 8   Vehicle Type_Trailer         23632 non-null  int64\n",
      " 9   Vehicle Type_Truck           23632 non-null  int64\n",
      " 10  Traffic Conditions_Heavy     23632 non-null  int64\n",
      " 11  Traffic Conditions_Light     23632 non-null  int64\n",
      " 12  Traffic Conditions_Moderate  23632 non-null  int64\n",
      " 13  Distance Type_Large          23632 non-null  int64\n",
      " 14  Distance Type_Medium         23632 non-null  int64\n",
      " 15  Distance Type_Short          23632 non-null  int64\n",
      "dtypes: int32(5), int64(11)\n",
      "memory usage: 2.4 MB\n"
     ]
    }
   ],
   "source": [
    "X_resampled.info()"
   ]
  },
  {
   "cell_type": "code",
   "execution_count": 294,
   "metadata": {},
   "outputs": [
    {
     "name": "stdout",
     "output_type": "stream",
     "text": [
      "Defaulting to user installation because normal site-packages is not writeable\n",
      "Collecting scikit-learn==1.3.1\n",
      "  Using cached scikit_learn-1.3.1-cp311-cp311-win_amd64.whl.metadata (11 kB)\n",
      "Requirement already satisfied: numpy<2.0,>=1.17.3 in c:\\users\\aarus\\appdata\\roaming\\python\\python311\\site-packages (from scikit-learn==1.3.1) (1.26.4)\n",
      "Requirement already satisfied: scipy>=1.5.0 in c:\\program files\\python311\\lib\\site-packages (from scikit-learn==1.3.1) (1.11.3)\n",
      "Requirement already satisfied: joblib>=1.1.1 in c:\\program files\\python311\\lib\\site-packages (from scikit-learn==1.3.1) (1.3.2)\n",
      "Requirement already satisfied: threadpoolctl>=2.0.0 in c:\\program files\\python311\\lib\\site-packages (from scikit-learn==1.3.1) (3.2.0)\n",
      "Using cached scikit_learn-1.3.1-cp311-cp311-win_amd64.whl (9.2 MB)\n",
      "Installing collected packages: scikit-learn\n",
      "  Attempting uninstall: scikit-learn\n",
      "    Found existing installation: scikit-learn 1.6.0\n",
      "    Uninstalling scikit-learn-1.6.0:\n",
      "      Successfully uninstalled scikit-learn-1.6.0\n",
      "Successfully installed scikit-learn-1.3.1\n",
      "Note: you may need to restart the kernel to use updated packages.\n"
     ]
    },
    {
     "name": "stderr",
     "output_type": "stream",
     "text": [
      "WARNING: Error parsing dependencies of textract: .* suffix can only be used with `==` or `!=` operators\n",
      "    extract-msg (<=0.29.*)\n",
      "                 ~~~~~~~^\n",
      "  WARNING: Failed to remove contents in a temporary directory 'C:\\Users\\aarus\\AppData\\Roaming\\Python\\Python311\\site-packages\\~klearn'.\n",
      "  You can safely remove it manually.\n",
      "ERROR: pip's dependency resolver does not currently take into account all the packages that are installed. This behaviour is the source of the following dependency conflicts.\n",
      "imbalanced-learn 0.13.0 requires scikit-learn<2,>=1.3.2, but you have scikit-learn 1.3.1 which is incompatible.\n"
     ]
    }
   ],
   "source": [
    "pip install scikit-learn==1.3.1\n"
   ]
  },
  {
   "cell_type": "code",
   "execution_count": 296,
   "metadata": {},
   "outputs": [
    {
     "name": "stdout",
     "output_type": "stream",
     "text": [
      "Accuracy: 0.9464776814046965\n",
      "Classification Report:\n",
      "               precision    recall  f1-score   support\n",
      "\n",
      "           0       0.91      1.00      0.95      2416\n",
      "           1       1.00      0.89      0.94      2311\n",
      "\n",
      "    accuracy                           0.95      4727\n",
      "   macro avg       0.95      0.95      0.95      4727\n",
      "weighted avg       0.95      0.95      0.95      4727\n",
      "\n"
     ]
    }
   ],
   "source": [
    "from sklearn.tree import DecisionTreeClassifier\n",
    "from sklearn.model_selection import train_test_split\n",
    "from sklearn.metrics import accuracy_score, classification_report\n",
    "\n",
    "X_train, X_test, Y_train, Y_test = train_test_split(X_resampled, y_resampled, test_size=0.2, random_state=42)\n",
    "tree = DecisionTreeClassifier()\n",
    "tree.fit(X_train, Y_train)\n",
    "\n",
    "predictions = tree.predict(X_test)\n",
    "print(\"Accuracy:\", accuracy_score(Y_test, predictions))\n",
    "print(\"Classification Report:\\n\", classification_report(Y_test, predictions))"
   ]
  },
  {
   "cell_type": "code",
   "execution_count": 297,
   "metadata": {},
   "outputs": [
    {
     "name": "stdout",
     "output_type": "stream",
     "text": [
      "Training Accuracy: 94.41%\n",
      "Testing Accuracy: 94.65%\n"
     ]
    }
   ],
   "source": [
    "from sklearn.metrics import accuracy_score\n",
    "\n",
    "# Predict on the training set\n",
    "train_predictions = tree.predict(X_train)\n",
    "train_accuracy = accuracy_score(Y_train, train_predictions)\n",
    "\n",
    "# Predict on the testing set\n",
    "test_predictions = tree.predict(X_test)\n",
    "test_accuracy = accuracy_score(Y_test, test_predictions)\n",
    "\n",
    "# Print the accuracies\n",
    "print(f\"Training Accuracy: {train_accuracy * 100:.2f}%\")\n",
    "print(f\"Testing Accuracy: {test_accuracy * 100:.2f}%\")"
   ]
  },
  {
   "cell_type": "code",
   "execution_count": 298,
   "metadata": {},
   "outputs": [
    {
     "name": "stdout",
     "output_type": "stream",
     "text": [
      "Defaulting to user installation because normal site-packages is not writeable\n",
      "Requirement already satisfied: graphviz==0.20.1 in c:\\users\\aarus\\appdata\\roaming\\python\\python311\\site-packages (0.20.1)\n"
     ]
    },
    {
     "name": "stderr",
     "output_type": "stream",
     "text": [
      "WARNING: Error parsing dependencies of textract: .* suffix can only be used with `==` or `!=` operators\n",
      "    extract-msg (<=0.29.*)\n",
      "                 ~~~~~~~^\n"
     ]
    }
   ],
   "source": [
    "!pip install graphviz==0.20.1"
   ]
  },
  {
   "cell_type": "code",
   "execution_count": 299,
   "metadata": {},
   "outputs": [],
   "source": [
    "from sklearn.tree import export_graphviz\n",
    "import graphviz"
   ]
  },
  {
   "cell_type": "code",
   "execution_count": 302,
   "metadata": {},
   "outputs": [],
   "source": [
    "dot_data = export_graphviz(tree,\n",
    "                           out_file=None,\n",
    "                           feature_names=X.columns,\n",
    "                           class_names=['0', '1'],\n",
    "                           filled=True,\n",
    "                           rounded=True,\n",
    "                           special_characters=True)"
   ]
  },
  {
   "cell_type": "code",
   "execution_count": 304,
   "metadata": {},
   "outputs": [
    {
     "ename": "ExecutableNotFound",
     "evalue": "failed to execute WindowsPath('dot'), make sure the Graphviz executables are on your systems' PATH",
     "output_type": "error",
     "traceback": [
      "\u001b[1;31m---------------------------------------------------------------------------\u001b[0m",
      "\u001b[1;31mFileNotFoundError\u001b[0m                         Traceback (most recent call last)",
      "File \u001b[1;32m~\\AppData\\Roaming\\Python\\Python311\\site-packages\\graphviz\\backend\\execute.py:79\u001b[0m, in \u001b[0;36mrun_check\u001b[1;34m(cmd, input_lines, encoding, quiet, **kwargs)\u001b[0m\n\u001b[0;32m     78\u001b[0m         kwargs[\u001b[38;5;124m'\u001b[39m\u001b[38;5;124mstdout\u001b[39m\u001b[38;5;124m'\u001b[39m] \u001b[38;5;241m=\u001b[39m kwargs[\u001b[38;5;124m'\u001b[39m\u001b[38;5;124mstderr\u001b[39m\u001b[38;5;124m'\u001b[39m] \u001b[38;5;241m=\u001b[39m subprocess\u001b[38;5;241m.\u001b[39mPIPE\n\u001b[1;32m---> 79\u001b[0m     proc \u001b[38;5;241m=\u001b[39m \u001b[43m_run_input_lines\u001b[49m\u001b[43m(\u001b[49m\u001b[43mcmd\u001b[49m\u001b[43m,\u001b[49m\u001b[43m \u001b[49m\u001b[43minput_lines\u001b[49m\u001b[43m,\u001b[49m\u001b[43m \u001b[49m\u001b[43mkwargs\u001b[49m\u001b[38;5;241;43m=\u001b[39;49m\u001b[43mkwargs\u001b[49m\u001b[43m)\u001b[49m\n\u001b[0;32m     80\u001b[0m \u001b[38;5;28;01melse\u001b[39;00m:\n",
      "File \u001b[1;32m~\\AppData\\Roaming\\Python\\Python311\\site-packages\\graphviz\\backend\\execute.py:99\u001b[0m, in \u001b[0;36m_run_input_lines\u001b[1;34m(cmd, input_lines, kwargs)\u001b[0m\n\u001b[0;32m     98\u001b[0m \u001b[38;5;28;01mdef\u001b[39;00m \u001b[38;5;21m_run_input_lines\u001b[39m(cmd, input_lines, \u001b[38;5;241m*\u001b[39m, kwargs):\n\u001b[1;32m---> 99\u001b[0m     popen \u001b[38;5;241m=\u001b[39m \u001b[43msubprocess\u001b[49m\u001b[38;5;241;43m.\u001b[39;49m\u001b[43mPopen\u001b[49m\u001b[43m(\u001b[49m\u001b[43mcmd\u001b[49m\u001b[43m,\u001b[49m\u001b[43m \u001b[49m\u001b[43mstdin\u001b[49m\u001b[38;5;241;43m=\u001b[39;49m\u001b[43msubprocess\u001b[49m\u001b[38;5;241;43m.\u001b[39;49m\u001b[43mPIPE\u001b[49m\u001b[43m,\u001b[49m\u001b[43m \u001b[49m\u001b[38;5;241;43m*\u001b[39;49m\u001b[38;5;241;43m*\u001b[39;49m\u001b[43mkwargs\u001b[49m\u001b[43m)\u001b[49m\n\u001b[0;32m    101\u001b[0m     stdin_write \u001b[38;5;241m=\u001b[39m popen\u001b[38;5;241m.\u001b[39mstdin\u001b[38;5;241m.\u001b[39mwrite\n",
      "File \u001b[1;32mc:\\Program Files\\Python311\\Lib\\subprocess.py:1022\u001b[0m, in \u001b[0;36mPopen.__init__\u001b[1;34m(self, args, bufsize, executable, stdin, stdout, stderr, preexec_fn, close_fds, shell, cwd, env, universal_newlines, startupinfo, creationflags, restore_signals, start_new_session, pass_fds, user, group, extra_groups, encoding, errors, text, umask, pipesize, process_group)\u001b[0m\n\u001b[0;32m   1019\u001b[0m             \u001b[38;5;28mself\u001b[39m\u001b[38;5;241m.\u001b[39mstderr \u001b[38;5;241m=\u001b[39m io\u001b[38;5;241m.\u001b[39mTextIOWrapper(\u001b[38;5;28mself\u001b[39m\u001b[38;5;241m.\u001b[39mstderr,\n\u001b[0;32m   1020\u001b[0m                     encoding\u001b[38;5;241m=\u001b[39mencoding, errors\u001b[38;5;241m=\u001b[39merrors)\n\u001b[1;32m-> 1022\u001b[0m     \u001b[38;5;28;43mself\u001b[39;49m\u001b[38;5;241;43m.\u001b[39;49m\u001b[43m_execute_child\u001b[49m\u001b[43m(\u001b[49m\u001b[43margs\u001b[49m\u001b[43m,\u001b[49m\u001b[43m \u001b[49m\u001b[43mexecutable\u001b[49m\u001b[43m,\u001b[49m\u001b[43m \u001b[49m\u001b[43mpreexec_fn\u001b[49m\u001b[43m,\u001b[49m\u001b[43m \u001b[49m\u001b[43mclose_fds\u001b[49m\u001b[43m,\u001b[49m\n\u001b[0;32m   1023\u001b[0m \u001b[43m                        \u001b[49m\u001b[43mpass_fds\u001b[49m\u001b[43m,\u001b[49m\u001b[43m \u001b[49m\u001b[43mcwd\u001b[49m\u001b[43m,\u001b[49m\u001b[43m \u001b[49m\u001b[43menv\u001b[49m\u001b[43m,\u001b[49m\n\u001b[0;32m   1024\u001b[0m \u001b[43m                        \u001b[49m\u001b[43mstartupinfo\u001b[49m\u001b[43m,\u001b[49m\u001b[43m \u001b[49m\u001b[43mcreationflags\u001b[49m\u001b[43m,\u001b[49m\u001b[43m \u001b[49m\u001b[43mshell\u001b[49m\u001b[43m,\u001b[49m\n\u001b[0;32m   1025\u001b[0m \u001b[43m                        \u001b[49m\u001b[43mp2cread\u001b[49m\u001b[43m,\u001b[49m\u001b[43m \u001b[49m\u001b[43mp2cwrite\u001b[49m\u001b[43m,\u001b[49m\n\u001b[0;32m   1026\u001b[0m \u001b[43m                        \u001b[49m\u001b[43mc2pread\u001b[49m\u001b[43m,\u001b[49m\u001b[43m \u001b[49m\u001b[43mc2pwrite\u001b[49m\u001b[43m,\u001b[49m\n\u001b[0;32m   1027\u001b[0m \u001b[43m                        \u001b[49m\u001b[43merrread\u001b[49m\u001b[43m,\u001b[49m\u001b[43m \u001b[49m\u001b[43merrwrite\u001b[49m\u001b[43m,\u001b[49m\n\u001b[0;32m   1028\u001b[0m \u001b[43m                        \u001b[49m\u001b[43mrestore_signals\u001b[49m\u001b[43m,\u001b[49m\n\u001b[0;32m   1029\u001b[0m \u001b[43m                        \u001b[49m\u001b[43mgid\u001b[49m\u001b[43m,\u001b[49m\u001b[43m \u001b[49m\u001b[43mgids\u001b[49m\u001b[43m,\u001b[49m\u001b[43m \u001b[49m\u001b[43muid\u001b[49m\u001b[43m,\u001b[49m\u001b[43m \u001b[49m\u001b[43mumask\u001b[49m\u001b[43m,\u001b[49m\n\u001b[0;32m   1030\u001b[0m \u001b[43m                        \u001b[49m\u001b[43mstart_new_session\u001b[49m\u001b[43m,\u001b[49m\u001b[43m \u001b[49m\u001b[43mprocess_group\u001b[49m\u001b[43m)\u001b[49m\n\u001b[0;32m   1031\u001b[0m \u001b[38;5;28;01mexcept\u001b[39;00m:\n\u001b[0;32m   1032\u001b[0m     \u001b[38;5;66;03m# Cleanup if the child failed starting.\u001b[39;00m\n",
      "File \u001b[1;32mc:\\Program Files\\Python311\\Lib\\subprocess.py:1491\u001b[0m, in \u001b[0;36mPopen._execute_child\u001b[1;34m(self, args, executable, preexec_fn, close_fds, pass_fds, cwd, env, startupinfo, creationflags, shell, p2cread, p2cwrite, c2pread, c2pwrite, errread, errwrite, unused_restore_signals, unused_gid, unused_gids, unused_uid, unused_umask, unused_start_new_session, unused_process_group)\u001b[0m\n\u001b[0;32m   1490\u001b[0m \u001b[38;5;28;01mtry\u001b[39;00m:\n\u001b[1;32m-> 1491\u001b[0m     hp, ht, pid, tid \u001b[38;5;241m=\u001b[39m _winapi\u001b[38;5;241m.\u001b[39mCreateProcess(executable, args,\n\u001b[0;32m   1492\u001b[0m                              \u001b[38;5;66;03m# no special security\u001b[39;00m\n\u001b[0;32m   1493\u001b[0m                              \u001b[38;5;28;01mNone\u001b[39;00m, \u001b[38;5;28;01mNone\u001b[39;00m,\n\u001b[0;32m   1494\u001b[0m                              \u001b[38;5;28mint\u001b[39m(\u001b[38;5;129;01mnot\u001b[39;00m close_fds),\n\u001b[0;32m   1495\u001b[0m                              creationflags,\n\u001b[0;32m   1496\u001b[0m                              env,\n\u001b[0;32m   1497\u001b[0m                              cwd,\n\u001b[0;32m   1498\u001b[0m                              startupinfo)\n\u001b[0;32m   1499\u001b[0m \u001b[38;5;28;01mfinally\u001b[39;00m:\n\u001b[0;32m   1500\u001b[0m     \u001b[38;5;66;03m# Child is launched. Close the parent's copy of those pipe\u001b[39;00m\n\u001b[0;32m   1501\u001b[0m     \u001b[38;5;66;03m# handles that only the child should have open.  You need\u001b[39;00m\n\u001b[1;32m   (...)\u001b[0m\n\u001b[0;32m   1504\u001b[0m     \u001b[38;5;66;03m# pipe will not close when the child process exits and the\u001b[39;00m\n\u001b[0;32m   1505\u001b[0m     \u001b[38;5;66;03m# ReadFile will hang.\u001b[39;00m\n",
      "\u001b[1;31mFileNotFoundError\u001b[0m: [WinError 2] The system cannot find the file specified",
      "\nThe above exception was the direct cause of the following exception:\n",
      "\u001b[1;31mExecutableNotFound\u001b[0m                        Traceback (most recent call last)",
      "File \u001b[1;32mc:\\Program Files\\Python311\\Lib\\site-packages\\IPython\\core\\formatters.py:974\u001b[0m, in \u001b[0;36mMimeBundleFormatter.__call__\u001b[1;34m(self, obj, include, exclude)\u001b[0m\n\u001b[0;32m    971\u001b[0m     method \u001b[38;5;241m=\u001b[39m get_real_method(obj, \u001b[38;5;28mself\u001b[39m\u001b[38;5;241m.\u001b[39mprint_method)\n\u001b[0;32m    973\u001b[0m     \u001b[38;5;28;01mif\u001b[39;00m method \u001b[38;5;129;01mis\u001b[39;00m \u001b[38;5;129;01mnot\u001b[39;00m \u001b[38;5;28;01mNone\u001b[39;00m:\n\u001b[1;32m--> 974\u001b[0m         \u001b[38;5;28;01mreturn\u001b[39;00m \u001b[43mmethod\u001b[49m\u001b[43m(\u001b[49m\u001b[43minclude\u001b[49m\u001b[38;5;241;43m=\u001b[39;49m\u001b[43minclude\u001b[49m\u001b[43m,\u001b[49m\u001b[43m \u001b[49m\u001b[43mexclude\u001b[49m\u001b[38;5;241;43m=\u001b[39;49m\u001b[43mexclude\u001b[49m\u001b[43m)\u001b[49m\n\u001b[0;32m    975\u001b[0m     \u001b[38;5;28;01mreturn\u001b[39;00m \u001b[38;5;28;01mNone\u001b[39;00m\n\u001b[0;32m    976\u001b[0m \u001b[38;5;28;01melse\u001b[39;00m:\n",
      "File \u001b[1;32m~\\AppData\\Roaming\\Python\\Python311\\site-packages\\graphviz\\jupyter_integration.py:98\u001b[0m, in \u001b[0;36mJupyterIntegration._repr_mimebundle_\u001b[1;34m(self, include, exclude, **_)\u001b[0m\n\u001b[0;32m     96\u001b[0m include \u001b[38;5;241m=\u001b[39m \u001b[38;5;28mset\u001b[39m(include) \u001b[38;5;28;01mif\u001b[39;00m include \u001b[38;5;129;01mis\u001b[39;00m \u001b[38;5;129;01mnot\u001b[39;00m \u001b[38;5;28;01mNone\u001b[39;00m \u001b[38;5;28;01melse\u001b[39;00m {\u001b[38;5;28mself\u001b[39m\u001b[38;5;241m.\u001b[39m_jupyter_mimetype}\n\u001b[0;32m     97\u001b[0m include \u001b[38;5;241m-\u001b[39m\u001b[38;5;241m=\u001b[39m \u001b[38;5;28mset\u001b[39m(exclude \u001b[38;5;129;01mor\u001b[39;00m [])\n\u001b[1;32m---> 98\u001b[0m \u001b[38;5;28;01mreturn\u001b[39;00m \u001b[43m{\u001b[49m\u001b[43mmimetype\u001b[49m\u001b[43m:\u001b[49m\u001b[43m \u001b[49m\u001b[38;5;28;43mgetattr\u001b[39;49m\u001b[43m(\u001b[49m\u001b[38;5;28;43mself\u001b[39;49m\u001b[43m,\u001b[49m\u001b[43m \u001b[49m\u001b[43mmethod_name\u001b[49m\u001b[43m)\u001b[49m\u001b[43m(\u001b[49m\u001b[43m)\u001b[49m\n\u001b[0;32m     99\u001b[0m \u001b[43m        \u001b[49m\u001b[38;5;28;43;01mfor\u001b[39;49;00m\u001b[43m \u001b[49m\u001b[43mmimetype\u001b[49m\u001b[43m,\u001b[49m\u001b[43m \u001b[49m\u001b[43mmethod_name\u001b[49m\u001b[43m \u001b[49m\u001b[38;5;129;43;01min\u001b[39;49;00m\u001b[43m \u001b[49m\u001b[43mMIME_TYPES\u001b[49m\u001b[38;5;241;43m.\u001b[39;49m\u001b[43mitems\u001b[49m\u001b[43m(\u001b[49m\u001b[43m)\u001b[49m\n\u001b[0;32m    100\u001b[0m \u001b[43m        \u001b[49m\u001b[38;5;28;43;01mif\u001b[39;49;00m\u001b[43m \u001b[49m\u001b[43mmimetype\u001b[49m\u001b[43m \u001b[49m\u001b[38;5;129;43;01min\u001b[39;49;00m\u001b[43m \u001b[49m\u001b[43minclude\u001b[49m\u001b[43m}\u001b[49m\n",
      "File \u001b[1;32m~\\AppData\\Roaming\\Python\\Python311\\site-packages\\graphviz\\jupyter_integration.py:98\u001b[0m, in \u001b[0;36m<dictcomp>\u001b[1;34m(.0)\u001b[0m\n\u001b[0;32m     96\u001b[0m include \u001b[38;5;241m=\u001b[39m \u001b[38;5;28mset\u001b[39m(include) \u001b[38;5;28;01mif\u001b[39;00m include \u001b[38;5;129;01mis\u001b[39;00m \u001b[38;5;129;01mnot\u001b[39;00m \u001b[38;5;28;01mNone\u001b[39;00m \u001b[38;5;28;01melse\u001b[39;00m {\u001b[38;5;28mself\u001b[39m\u001b[38;5;241m.\u001b[39m_jupyter_mimetype}\n\u001b[0;32m     97\u001b[0m include \u001b[38;5;241m-\u001b[39m\u001b[38;5;241m=\u001b[39m \u001b[38;5;28mset\u001b[39m(exclude \u001b[38;5;129;01mor\u001b[39;00m [])\n\u001b[1;32m---> 98\u001b[0m \u001b[38;5;28;01mreturn\u001b[39;00m {mimetype: \u001b[38;5;28;43mgetattr\u001b[39;49m\u001b[43m(\u001b[49m\u001b[38;5;28;43mself\u001b[39;49m\u001b[43m,\u001b[49m\u001b[43m \u001b[49m\u001b[43mmethod_name\u001b[49m\u001b[43m)\u001b[49m\u001b[43m(\u001b[49m\u001b[43m)\u001b[49m\n\u001b[0;32m     99\u001b[0m         \u001b[38;5;28;01mfor\u001b[39;00m mimetype, method_name \u001b[38;5;129;01min\u001b[39;00m MIME_TYPES\u001b[38;5;241m.\u001b[39mitems()\n\u001b[0;32m    100\u001b[0m         \u001b[38;5;28;01mif\u001b[39;00m mimetype \u001b[38;5;129;01min\u001b[39;00m include}\n",
      "File \u001b[1;32m~\\AppData\\Roaming\\Python\\Python311\\site-packages\\graphviz\\jupyter_integration.py:112\u001b[0m, in \u001b[0;36mJupyterIntegration._repr_image_svg_xml\u001b[1;34m(self)\u001b[0m\n\u001b[0;32m    110\u001b[0m \u001b[38;5;28;01mdef\u001b[39;00m \u001b[38;5;21m_repr_image_svg_xml\u001b[39m(\u001b[38;5;28mself\u001b[39m) \u001b[38;5;241m-\u001b[39m\u001b[38;5;241m>\u001b[39m \u001b[38;5;28mstr\u001b[39m:\n\u001b[0;32m    111\u001b[0m \u001b[38;5;250m    \u001b[39m\u001b[38;5;124;03m\"\"\"Return the rendered graph as SVG string.\"\"\"\u001b[39;00m\n\u001b[1;32m--> 112\u001b[0m     \u001b[38;5;28;01mreturn\u001b[39;00m \u001b[38;5;28;43mself\u001b[39;49m\u001b[38;5;241;43m.\u001b[39;49m\u001b[43mpipe\u001b[49m\u001b[43m(\u001b[49m\u001b[38;5;28;43mformat\u001b[39;49m\u001b[38;5;241;43m=\u001b[39;49m\u001b[38;5;124;43m'\u001b[39;49m\u001b[38;5;124;43msvg\u001b[39;49m\u001b[38;5;124;43m'\u001b[39;49m\u001b[43m,\u001b[49m\u001b[43m \u001b[49m\u001b[43mencoding\u001b[49m\u001b[38;5;241;43m=\u001b[39;49m\u001b[43mSVG_ENCODING\u001b[49m\u001b[43m)\u001b[49m\n",
      "File \u001b[1;32m~\\AppData\\Roaming\\Python\\Python311\\site-packages\\graphviz\\piping.py:104\u001b[0m, in \u001b[0;36mPipe.pipe\u001b[1;34m(self, format, renderer, formatter, neato_no_op, quiet, engine, encoding)\u001b[0m\n\u001b[0;32m     55\u001b[0m \u001b[38;5;28;01mdef\u001b[39;00m \u001b[38;5;21mpipe\u001b[39m(\u001b[38;5;28mself\u001b[39m,\n\u001b[0;32m     56\u001b[0m          \u001b[38;5;28mformat\u001b[39m: typing\u001b[38;5;241m.\u001b[39mOptional[\u001b[38;5;28mstr\u001b[39m] \u001b[38;5;241m=\u001b[39m \u001b[38;5;28;01mNone\u001b[39;00m,\n\u001b[0;32m     57\u001b[0m          renderer: typing\u001b[38;5;241m.\u001b[39mOptional[\u001b[38;5;28mstr\u001b[39m] \u001b[38;5;241m=\u001b[39m \u001b[38;5;28;01mNone\u001b[39;00m,\n\u001b[1;32m   (...)\u001b[0m\n\u001b[0;32m     61\u001b[0m          engine: typing\u001b[38;5;241m.\u001b[39mOptional[\u001b[38;5;28mstr\u001b[39m] \u001b[38;5;241m=\u001b[39m \u001b[38;5;28;01mNone\u001b[39;00m,\n\u001b[0;32m     62\u001b[0m          encoding: typing\u001b[38;5;241m.\u001b[39mOptional[\u001b[38;5;28mstr\u001b[39m] \u001b[38;5;241m=\u001b[39m \u001b[38;5;28;01mNone\u001b[39;00m) \u001b[38;5;241m-\u001b[39m\u001b[38;5;241m>\u001b[39m typing\u001b[38;5;241m.\u001b[39mUnion[\u001b[38;5;28mbytes\u001b[39m, \u001b[38;5;28mstr\u001b[39m]:\n\u001b[0;32m     63\u001b[0m \u001b[38;5;250m    \u001b[39m\u001b[38;5;124;03m\"\"\"Return the source piped through the Graphviz layout command.\u001b[39;00m\n\u001b[0;32m     64\u001b[0m \n\u001b[0;32m     65\u001b[0m \u001b[38;5;124;03m    Args:\u001b[39;00m\n\u001b[1;32m   (...)\u001b[0m\n\u001b[0;32m    102\u001b[0m \u001b[38;5;124;03m        '<?xml version='\u001b[39;00m\n\u001b[0;32m    103\u001b[0m \u001b[38;5;124;03m    \"\"\"\u001b[39;00m\n\u001b[1;32m--> 104\u001b[0m     \u001b[38;5;28;01mreturn\u001b[39;00m \u001b[38;5;28;43mself\u001b[39;49m\u001b[38;5;241;43m.\u001b[39;49m\u001b[43m_pipe_legacy\u001b[49m\u001b[43m(\u001b[49m\u001b[38;5;28;43mformat\u001b[39;49m\u001b[43m,\u001b[49m\n\u001b[0;32m    105\u001b[0m \u001b[43m                             \u001b[49m\u001b[43mrenderer\u001b[49m\u001b[38;5;241;43m=\u001b[39;49m\u001b[43mrenderer\u001b[49m\u001b[43m,\u001b[49m\n\u001b[0;32m    106\u001b[0m \u001b[43m                             \u001b[49m\u001b[43mformatter\u001b[49m\u001b[38;5;241;43m=\u001b[39;49m\u001b[43mformatter\u001b[49m\u001b[43m,\u001b[49m\n\u001b[0;32m    107\u001b[0m \u001b[43m                             \u001b[49m\u001b[43mneato_no_op\u001b[49m\u001b[38;5;241;43m=\u001b[39;49m\u001b[43mneato_no_op\u001b[49m\u001b[43m,\u001b[49m\n\u001b[0;32m    108\u001b[0m \u001b[43m                             \u001b[49m\u001b[43mquiet\u001b[49m\u001b[38;5;241;43m=\u001b[39;49m\u001b[43mquiet\u001b[49m\u001b[43m,\u001b[49m\n\u001b[0;32m    109\u001b[0m \u001b[43m                             \u001b[49m\u001b[43mengine\u001b[49m\u001b[38;5;241;43m=\u001b[39;49m\u001b[43mengine\u001b[49m\u001b[43m,\u001b[49m\n\u001b[0;32m    110\u001b[0m \u001b[43m                             \u001b[49m\u001b[43mencoding\u001b[49m\u001b[38;5;241;43m=\u001b[39;49m\u001b[43mencoding\u001b[49m\u001b[43m)\u001b[49m\n",
      "File \u001b[1;32m~\\AppData\\Roaming\\Python\\Python311\\site-packages\\graphviz\\_tools.py:171\u001b[0m, in \u001b[0;36mdeprecate_positional_args.<locals>.decorator.<locals>.wrapper\u001b[1;34m(*args, **kwargs)\u001b[0m\n\u001b[0;32m    162\u001b[0m     wanted \u001b[38;5;241m=\u001b[39m \u001b[38;5;124m'\u001b[39m\u001b[38;5;124m, \u001b[39m\u001b[38;5;124m'\u001b[39m\u001b[38;5;241m.\u001b[39mjoin(\u001b[38;5;124mf\u001b[39m\u001b[38;5;124m'\u001b[39m\u001b[38;5;132;01m{\u001b[39;00mname\u001b[38;5;132;01m}\u001b[39;00m\u001b[38;5;124m=\u001b[39m\u001b[38;5;132;01m{\u001b[39;00mvalue\u001b[38;5;132;01m!r}\u001b[39;00m\u001b[38;5;124m'\u001b[39m\n\u001b[0;32m    163\u001b[0m                        \u001b[38;5;28;01mfor\u001b[39;00m name, value \u001b[38;5;129;01min\u001b[39;00m deprecated\u001b[38;5;241m.\u001b[39mitems())\n\u001b[0;32m    164\u001b[0m     warnings\u001b[38;5;241m.\u001b[39mwarn(\u001b[38;5;124mf\u001b[39m\u001b[38;5;124m'\u001b[39m\u001b[38;5;124mThe signature of \u001b[39m\u001b[38;5;132;01m{\u001b[39;00mfunc\u001b[38;5;241m.\u001b[39m\u001b[38;5;18m__name__\u001b[39m\u001b[38;5;132;01m}\u001b[39;00m\u001b[38;5;124m will be reduced\u001b[39m\u001b[38;5;124m'\u001b[39m\n\u001b[0;32m    165\u001b[0m                   \u001b[38;5;124mf\u001b[39m\u001b[38;5;124m'\u001b[39m\u001b[38;5;124m to \u001b[39m\u001b[38;5;132;01m{\u001b[39;00msupported_number\u001b[38;5;132;01m}\u001b[39;00m\u001b[38;5;124m positional args\u001b[39m\u001b[38;5;124m'\u001b[39m\n\u001b[0;32m    166\u001b[0m                   \u001b[38;5;124mf\u001b[39m\u001b[38;5;124m'\u001b[39m\u001b[38;5;124m \u001b[39m\u001b[38;5;132;01m{\u001b[39;00m\u001b[38;5;28mlist\u001b[39m(supported)\u001b[38;5;132;01m}\u001b[39;00m\u001b[38;5;124m: pass \u001b[39m\u001b[38;5;132;01m{\u001b[39;00mwanted\u001b[38;5;132;01m}\u001b[39;00m\u001b[38;5;124m'\u001b[39m\n\u001b[0;32m    167\u001b[0m                   \u001b[38;5;124m'\u001b[39m\u001b[38;5;124m as keyword arg(s)\u001b[39m\u001b[38;5;124m'\u001b[39m,\n\u001b[0;32m    168\u001b[0m                   stacklevel\u001b[38;5;241m=\u001b[39mstacklevel,\n\u001b[0;32m    169\u001b[0m                   category\u001b[38;5;241m=\u001b[39mcategory)\n\u001b[1;32m--> 171\u001b[0m \u001b[38;5;28;01mreturn\u001b[39;00m \u001b[43mfunc\u001b[49m\u001b[43m(\u001b[49m\u001b[38;5;241;43m*\u001b[39;49m\u001b[43margs\u001b[49m\u001b[43m,\u001b[49m\u001b[43m \u001b[49m\u001b[38;5;241;43m*\u001b[39;49m\u001b[38;5;241;43m*\u001b[39;49m\u001b[43mkwargs\u001b[49m\u001b[43m)\u001b[49m\n",
      "File \u001b[1;32m~\\AppData\\Roaming\\Python\\Python311\\site-packages\\graphviz\\piping.py:121\u001b[0m, in \u001b[0;36mPipe._pipe_legacy\u001b[1;34m(self, format, renderer, formatter, neato_no_op, quiet, engine, encoding)\u001b[0m\n\u001b[0;32m    112\u001b[0m \u001b[38;5;129m@_tools\u001b[39m\u001b[38;5;241m.\u001b[39mdeprecate_positional_args(supported_number\u001b[38;5;241m=\u001b[39m\u001b[38;5;241m2\u001b[39m)\n\u001b[0;32m    113\u001b[0m \u001b[38;5;28;01mdef\u001b[39;00m \u001b[38;5;21m_pipe_legacy\u001b[39m(\u001b[38;5;28mself\u001b[39m,\n\u001b[0;32m    114\u001b[0m                  \u001b[38;5;28mformat\u001b[39m: typing\u001b[38;5;241m.\u001b[39mOptional[\u001b[38;5;28mstr\u001b[39m] \u001b[38;5;241m=\u001b[39m \u001b[38;5;28;01mNone\u001b[39;00m,\n\u001b[1;32m   (...)\u001b[0m\n\u001b[0;32m    119\u001b[0m                  engine: typing\u001b[38;5;241m.\u001b[39mOptional[\u001b[38;5;28mstr\u001b[39m] \u001b[38;5;241m=\u001b[39m \u001b[38;5;28;01mNone\u001b[39;00m,\n\u001b[0;32m    120\u001b[0m                  encoding: typing\u001b[38;5;241m.\u001b[39mOptional[\u001b[38;5;28mstr\u001b[39m] \u001b[38;5;241m=\u001b[39m \u001b[38;5;28;01mNone\u001b[39;00m) \u001b[38;5;241m-\u001b[39m\u001b[38;5;241m>\u001b[39m typing\u001b[38;5;241m.\u001b[39mUnion[\u001b[38;5;28mbytes\u001b[39m, \u001b[38;5;28mstr\u001b[39m]:\n\u001b[1;32m--> 121\u001b[0m     \u001b[38;5;28;01mreturn\u001b[39;00m \u001b[38;5;28;43mself\u001b[39;49m\u001b[38;5;241;43m.\u001b[39;49m\u001b[43m_pipe_future\u001b[49m\u001b[43m(\u001b[49m\u001b[38;5;28;43mformat\u001b[39;49m\u001b[43m,\u001b[49m\n\u001b[0;32m    122\u001b[0m \u001b[43m                             \u001b[49m\u001b[43mrenderer\u001b[49m\u001b[38;5;241;43m=\u001b[39;49m\u001b[43mrenderer\u001b[49m\u001b[43m,\u001b[49m\n\u001b[0;32m    123\u001b[0m \u001b[43m                             \u001b[49m\u001b[43mformatter\u001b[49m\u001b[38;5;241;43m=\u001b[39;49m\u001b[43mformatter\u001b[49m\u001b[43m,\u001b[49m\n\u001b[0;32m    124\u001b[0m \u001b[43m                             \u001b[49m\u001b[43mneato_no_op\u001b[49m\u001b[38;5;241;43m=\u001b[39;49m\u001b[43mneato_no_op\u001b[49m\u001b[43m,\u001b[49m\n\u001b[0;32m    125\u001b[0m \u001b[43m                             \u001b[49m\u001b[43mquiet\u001b[49m\u001b[38;5;241;43m=\u001b[39;49m\u001b[43mquiet\u001b[49m\u001b[43m,\u001b[49m\n\u001b[0;32m    126\u001b[0m \u001b[43m                             \u001b[49m\u001b[43mengine\u001b[49m\u001b[38;5;241;43m=\u001b[39;49m\u001b[43mengine\u001b[49m\u001b[43m,\u001b[49m\n\u001b[0;32m    127\u001b[0m \u001b[43m                             \u001b[49m\u001b[43mencoding\u001b[49m\u001b[38;5;241;43m=\u001b[39;49m\u001b[43mencoding\u001b[49m\u001b[43m)\u001b[49m\n",
      "File \u001b[1;32m~\\AppData\\Roaming\\Python\\Python311\\site-packages\\graphviz\\piping.py:149\u001b[0m, in \u001b[0;36mPipe._pipe_future\u001b[1;34m(self, format, renderer, formatter, neato_no_op, quiet, engine, encoding)\u001b[0m\n\u001b[0;32m    146\u001b[0m \u001b[38;5;28;01mif\u001b[39;00m encoding \u001b[38;5;129;01mis\u001b[39;00m \u001b[38;5;129;01mnot\u001b[39;00m \u001b[38;5;28;01mNone\u001b[39;00m:\n\u001b[0;32m    147\u001b[0m     \u001b[38;5;28;01mif\u001b[39;00m codecs\u001b[38;5;241m.\u001b[39mlookup(encoding) \u001b[38;5;129;01mis\u001b[39;00m codecs\u001b[38;5;241m.\u001b[39mlookup(\u001b[38;5;28mself\u001b[39m\u001b[38;5;241m.\u001b[39mencoding):\n\u001b[0;32m    148\u001b[0m         \u001b[38;5;66;03m# common case: both stdin and stdout need the same encoding\u001b[39;00m\n\u001b[1;32m--> 149\u001b[0m         \u001b[38;5;28;01mreturn\u001b[39;00m \u001b[38;5;28;43mself\u001b[39;49m\u001b[38;5;241;43m.\u001b[39;49m\u001b[43m_pipe_lines_string\u001b[49m\u001b[43m(\u001b[49m\u001b[38;5;241;43m*\u001b[39;49m\u001b[43margs\u001b[49m\u001b[43m,\u001b[49m\u001b[43m \u001b[49m\u001b[43mencoding\u001b[49m\u001b[38;5;241;43m=\u001b[39;49m\u001b[43mencoding\u001b[49m\u001b[43m,\u001b[49m\u001b[43m \u001b[49m\u001b[38;5;241;43m*\u001b[39;49m\u001b[38;5;241;43m*\u001b[39;49m\u001b[43mkwargs\u001b[49m\u001b[43m)\u001b[49m\n\u001b[0;32m    150\u001b[0m     \u001b[38;5;28;01mtry\u001b[39;00m:\n\u001b[0;32m    151\u001b[0m         raw \u001b[38;5;241m=\u001b[39m \u001b[38;5;28mself\u001b[39m\u001b[38;5;241m.\u001b[39m_pipe_lines(\u001b[38;5;241m*\u001b[39margs, input_encoding\u001b[38;5;241m=\u001b[39m\u001b[38;5;28mself\u001b[39m\u001b[38;5;241m.\u001b[39mencoding, \u001b[38;5;241m*\u001b[39m\u001b[38;5;241m*\u001b[39mkwargs)\n",
      "File \u001b[1;32m~\\AppData\\Roaming\\Python\\Python311\\site-packages\\graphviz\\backend\\piping.py:212\u001b[0m, in \u001b[0;36mpipe_lines_string\u001b[1;34m(engine, format, input_lines, encoding, renderer, formatter, neato_no_op, quiet)\u001b[0m\n\u001b[0;32m    206\u001b[0m cmd \u001b[38;5;241m=\u001b[39m dot_command\u001b[38;5;241m.\u001b[39mcommand(engine, \u001b[38;5;28mformat\u001b[39m,\n\u001b[0;32m    207\u001b[0m                           renderer\u001b[38;5;241m=\u001b[39mrenderer,\n\u001b[0;32m    208\u001b[0m                           formatter\u001b[38;5;241m=\u001b[39mformatter,\n\u001b[0;32m    209\u001b[0m                           neato_no_op\u001b[38;5;241m=\u001b[39mneato_no_op)\n\u001b[0;32m    210\u001b[0m kwargs \u001b[38;5;241m=\u001b[39m {\u001b[38;5;124m'\u001b[39m\u001b[38;5;124minput_lines\u001b[39m\u001b[38;5;124m'\u001b[39m: input_lines, \u001b[38;5;124m'\u001b[39m\u001b[38;5;124mencoding\u001b[39m\u001b[38;5;124m'\u001b[39m: encoding}\n\u001b[1;32m--> 212\u001b[0m proc \u001b[38;5;241m=\u001b[39m \u001b[43mexecute\u001b[49m\u001b[38;5;241;43m.\u001b[39;49m\u001b[43mrun_check\u001b[49m\u001b[43m(\u001b[49m\u001b[43mcmd\u001b[49m\u001b[43m,\u001b[49m\u001b[43m \u001b[49m\u001b[43mcapture_output\u001b[49m\u001b[38;5;241;43m=\u001b[39;49m\u001b[38;5;28;43;01mTrue\u001b[39;49;00m\u001b[43m,\u001b[49m\u001b[43m \u001b[49m\u001b[43mquiet\u001b[49m\u001b[38;5;241;43m=\u001b[39;49m\u001b[43mquiet\u001b[49m\u001b[43m,\u001b[49m\u001b[43m \u001b[49m\u001b[38;5;241;43m*\u001b[39;49m\u001b[38;5;241;43m*\u001b[39;49m\u001b[43mkwargs\u001b[49m\u001b[43m)\u001b[49m\n\u001b[0;32m    213\u001b[0m \u001b[38;5;28;01mreturn\u001b[39;00m proc\u001b[38;5;241m.\u001b[39mstdout\n",
      "File \u001b[1;32m~\\AppData\\Roaming\\Python\\Python311\\site-packages\\graphviz\\backend\\execute.py:84\u001b[0m, in \u001b[0;36mrun_check\u001b[1;34m(cmd, input_lines, encoding, quiet, **kwargs)\u001b[0m\n\u001b[0;32m     82\u001b[0m \u001b[38;5;28;01mexcept\u001b[39;00m \u001b[38;5;167;01mOSError\u001b[39;00m \u001b[38;5;28;01mas\u001b[39;00m e:\n\u001b[0;32m     83\u001b[0m     \u001b[38;5;28;01mif\u001b[39;00m e\u001b[38;5;241m.\u001b[39merrno \u001b[38;5;241m==\u001b[39m errno\u001b[38;5;241m.\u001b[39mENOENT:\n\u001b[1;32m---> 84\u001b[0m         \u001b[38;5;28;01mraise\u001b[39;00m ExecutableNotFound(cmd) \u001b[38;5;28;01mfrom\u001b[39;00m \u001b[38;5;21;01me\u001b[39;00m\n\u001b[0;32m     85\u001b[0m     \u001b[38;5;28;01mraise\u001b[39;00m\n\u001b[0;32m     87\u001b[0m \u001b[38;5;28;01mif\u001b[39;00m \u001b[38;5;129;01mnot\u001b[39;00m quiet \u001b[38;5;129;01mand\u001b[39;00m proc\u001b[38;5;241m.\u001b[39mstderr:\n",
      "\u001b[1;31mExecutableNotFound\u001b[0m: failed to execute WindowsPath('dot'), make sure the Graphviz executables are on your systems' PATH"
     ]
    },
    {
     "data": {
      "text/plain": [
       "<graphviz.sources.Source at 0x20188afb310>"
      ]
     },
     "execution_count": 304,
     "metadata": {},
     "output_type": "execute_result"
    }
   ],
   "source": [
    "graph = graphviz.Source(dot_data)  #Config error everything works file on collab (Trust me  :)  )\n",
    "graph"
   ]
  },
  {
   "cell_type": "code",
   "execution_count": 305,
   "metadata": {},
   "outputs": [],
   "source": [
    "import pickle\n",
    "pickle.dump(tree, open('model.pkl', 'wb'))"
   ]
  },
  {
   "cell_type": "code",
   "execution_count": 306,
   "metadata": {},
   "outputs": [
    {
     "name": "stdout",
     "output_type": "stream",
     "text": [
      "17790\n"
     ]
    }
   ],
   "source": [
    "import os\n",
    "print(os.path.getsize('model.pkl'))"
   ]
  },
  {
   "cell_type": "code",
   "execution_count": 324,
   "metadata": {},
   "outputs": [
    {
     "data": {
      "text/plain": [
       "Index(['Planned Delivery (in days)', 'M_W_F', 'T_T_S', 'Sunday',\n",
       "       'Clear Weather', 'Disturbed Weather', 'Vehicle Type_Container',\n",
       "       'Vehicle Type_Lorry', 'Vehicle Type_Trailer', 'Vehicle Type_Truck',\n",
       "       'Traffic Conditions_Heavy', 'Traffic Conditions_Light',\n",
       "       'Traffic Conditions_Moderate', 'Distance Type_Large',\n",
       "       'Distance Type_Medium', 'Distance Type_Short'],\n",
       "      dtype='object')"
      ]
     },
     "execution_count": 324,
     "metadata": {},
     "output_type": "execute_result"
    }
   ],
   "source": [
    "X.columns"
   ]
  },
  {
   "cell_type": "code",
   "execution_count": 314,
   "metadata": {},
   "outputs": [
    {
     "data": {
      "image/png": "[encoded data removed]",
      "text/plain": [
       "<Figure size 640x480 with 1 Axes>"
      ]
     },
     "metadata": {},
     "output_type": "display_data"
    }
   ],
   "source": [
    "from sklearn.metrics import precision_recall_curve\n",
    "precision, recall, _ = precision_recall_curve(Y_test, tree.predict_proba(X_test)[:, 1])\n",
    "plt.plot(recall, precision)\n",
    "plt.xlabel('Recall')\n",
    "plt.ylabel('Precision')\n",
    "plt.title('Precision-Recall Curve')\n",
    "plt.show()"
   ]
  },
  {
   "cell_type": "markdown",
   "metadata": {},
   "source": [
    "### Undersampling"
   ]
  },
  {
   "cell_type": "code",
   "execution_count": 308,
   "metadata": {},
   "outputs": [],
   "source": [
    "from imblearn.under_sampling import RandomUnderSampler\n",
    "rus = RandomUnderSampler(random_state=42)\n",
    "X_resampled, y_resampled = rus.fit_resample(X_train, y_train)"
   ]
  },
  {
   "cell_type": "code",
   "execution_count": 309,
   "metadata": {},
   "outputs": [
    {
     "data": {
      "text/plain": [
       "Delayed\n",
       "0    4184\n",
       "1    4184\n",
       "Name: count, dtype: int64"
      ]
     },
     "execution_count": 309,
     "metadata": {},
     "output_type": "execute_result"
    }
   ],
   "source": [
    "y_resampled.value_counts()  # Removed some data points for the majority class to balance the classes"
   ]
  },
  {
   "cell_type": "code",
   "execution_count": 310,
   "metadata": {},
   "outputs": [
    {
     "name": "stdout",
     "output_type": "stream",
     "text": [
      "Accuracy: 0.522700119474313\n",
      "Classification Report:\n",
      "               precision    recall  f1-score   support\n",
      "\n",
      "           0       0.52      0.58      0.55       832\n",
      "           1       0.53      0.46      0.49       842\n",
      "\n",
      "    accuracy                           0.52      1674\n",
      "   macro avg       0.52      0.52      0.52      1674\n",
      "weighted avg       0.52      0.52      0.52      1674\n",
      "\n"
     ]
    }
   ],
   "source": [
    "from sklearn.tree import DecisionTreeClassifier\n",
    "from sklearn.model_selection import train_test_split\n",
    "from sklearn.metrics import accuracy_score, classification_report\n",
    "\n",
    "X_train, X_test, Y_train, Y_test = train_test_split(X_resampled, y_resampled, test_size=0.2, random_state=42)\n",
    "model = DecisionTreeClassifier()\n",
    "model.fit(X_train, Y_train)\n",
    "predictions = model.predict(X_test)\n",
    "print(\"Accuracy:\", accuracy_score(Y_test, predictions))\n",
    "print(\"Classification Report:\\n\", classification_report(Y_test, predictions))"
   ]
  },
  {
   "cell_type": "markdown",
   "metadata": {},
   "source": [
    "### Poor Accuracy"
   ]
  },
  {
   "cell_type": "code",
   "execution_count": 311,
   "metadata": {},
   "outputs": [
    {
     "name": "stdout",
     "output_type": "stream",
     "text": [
      "Training Accuracy: 60.20%\n",
      "Testing Accuracy: 52.27%\n"
     ]
    }
   ],
   "source": [
    "from sklearn.metrics import accuracy_score\n",
    "\n",
    "# Predict on the training set\n",
    "train_predictions = model.predict(X_train)\n",
    "train_accuracy = accuracy_score(Y_train, train_predictions)\n",
    "\n",
    "# Predict on the testing set\n",
    "test_predictions = model.predict(X_test)\n",
    "test_accuracy = accuracy_score(Y_test, test_predictions)\n",
    "\n",
    "# Print the accuracies\n",
    "print(f\"Training Accuracy: {train_accuracy * 100:.2f}%\")\n",
    "print(f\"Testing Accuracy: {test_accuracy * 100:.2f}%\")"
   ]
  },
  {
   "cell_type": "code",
   "execution_count": 312,
   "metadata": {},
   "outputs": [
    {
     "name": "stdout",
     "output_type": "stream",
     "text": [
      "ROC AUC: 0.5182208398044947\n"
     ]
    }
   ],
   "source": [
    "from sklearn.metrics import roc_auc_score\n",
    "roc_auc = roc_auc_score(Y_test, model.predict_proba(X_test)[:, 1])\n",
    "print('ROC AUC:', roc_auc)"
   ]
  },
  {
   "cell_type": "code",
   "execution_count": 336,
   "metadata": {},
   "outputs": [
    {
     "name": "stdout",
     "output_type": "stream",
     "text": [
      "Cross-validated ROC AUC scores: [1.         1.         0.99940618 0.99881235 1.        ]\n",
      "Mean ROC AUC score: 0.999643705463183\n"
     ]
    }
   ],
   "source": [
    "from sklearn.model_selection import cross_val_score\n",
    "auc_scores = cross_val_score(model, X_train, Y_train, cv=5, scoring='roc_auc')\n",
    "print(\"Cross-validated ROC AUC scores:\", auc_scores)\n",
    "print(\"Mean ROC AUC score:\", auc_scores.mean())"
   ]
  },
  {
   "cell_type": "code",
   "execution_count": 226,
   "metadata": {},
   "outputs": [
    {
     "data": {
      "image/png": "[encoded data removed]",
      "text/plain": [
       "<Figure size 640x480 with 1 Axes>"
      ]
     },
     "metadata": {},
     "output_type": "display_data"
    }
   ],
   "source": [
    "from sklearn.metrics import precision_recall_curve\n",
    "precision, recall, _ = precision_recall_curve(Y_test, model.predict_proba(X_test)[:, 1])\n",
    "plt.plot(recall, precision)\n",
    "plt.xlabel('Recall')\n",
    "plt.ylabel('Precision')\n",
    "plt.title('Precision-Recall Curve')\n",
    "plt.show()"
   ]
  },
  {
   "cell_type": "markdown",
   "metadata": {},
   "source": [
    "## Trying CatboostClassifier"
   ]
  },
  {
   "cell_type": "code",
   "execution_count": null,
   "metadata": {},
   "outputs": [],
   "source": []
  },
  {
   "cell_type": "code",
   "execution_count": 315,
   "metadata": {},
   "outputs": [
    {
     "name": "stdout",
     "output_type": "stream",
     "text": [
      "0:\tlearn: 0.6929344\ttotal: 143ms\tremaining: 14.2s\n",
      "1:\tlearn: 0.6923965\ttotal: 147ms\tremaining: 7.22s\n",
      "2:\tlearn: 0.6921474\ttotal: 151ms\tremaining: 4.88s\n",
      "3:\tlearn: 0.6920831\ttotal: 154ms\tremaining: 3.7s\n",
      "4:\tlearn: 0.6920101\ttotal: 158ms\tremaining: 3s\n",
      "5:\tlearn: 0.6916451\ttotal: 161ms\tremaining: 2.52s\n",
      "6:\tlearn: 0.6912192\ttotal: 165ms\tremaining: 2.19s\n",
      "7:\tlearn: 0.6908761\ttotal: 169ms\tremaining: 1.94s\n",
      "8:\tlearn: 0.6904174\ttotal: 172ms\tremaining: 1.74s\n",
      "9:\tlearn: 0.6900737\ttotal: 176ms\tremaining: 1.58s\n",
      "10:\tlearn: 0.6899977\ttotal: 180ms\tremaining: 1.46s\n",
      "11:\tlearn: 0.6898085\ttotal: 184ms\tremaining: 1.35s\n",
      "12:\tlearn: 0.6895198\ttotal: 188ms\tremaining: 1.25s\n",
      "13:\tlearn: 0.6893922\ttotal: 192ms\tremaining: 1.18s\n",
      "14:\tlearn: 0.6889974\ttotal: 195ms\tremaining: 1.11s\n",
      "15:\tlearn: 0.6885514\ttotal: 199ms\tremaining: 1.05s\n",
      "16:\tlearn: 0.6883247\ttotal: 203ms\tremaining: 993ms\n",
      "17:\tlearn: 0.6881059\ttotal: 207ms\tremaining: 944ms\n",
      "18:\tlearn: 0.6878778\ttotal: 211ms\tremaining: 899ms\n",
      "19:\tlearn: 0.6875586\ttotal: 215ms\tremaining: 858ms\n",
      "20:\tlearn: 0.6875506\ttotal: 217ms\tremaining: 816ms\n",
      "21:\tlearn: 0.6874982\ttotal: 221ms\tremaining: 783ms\n",
      "22:\tlearn: 0.6874656\ttotal: 224ms\tremaining: 751ms\n",
      "23:\tlearn: 0.6872382\ttotal: 228ms\tremaining: 723ms\n",
      "24:\tlearn: 0.6871227\ttotal: 232ms\tremaining: 696ms\n",
      "25:\tlearn: 0.6870866\ttotal: 236ms\tremaining: 671ms\n",
      "26:\tlearn: 0.6870198\ttotal: 239ms\tremaining: 646ms\n",
      "27:\tlearn: 0.6869079\ttotal: 243ms\tremaining: 624ms\n",
      "28:\tlearn: 0.6867061\ttotal: 247ms\tremaining: 604ms\n",
      "29:\tlearn: 0.6866182\ttotal: 251ms\tremaining: 585ms\n",
      "30:\tlearn: 0.6865043\ttotal: 254ms\tremaining: 566ms\n",
      "31:\tlearn: 0.6864784\ttotal: 258ms\tremaining: 547ms\n",
      "32:\tlearn: 0.6863607\ttotal: 262ms\tremaining: 531ms\n",
      "33:\tlearn: 0.6863105\ttotal: 266ms\tremaining: 515ms\n",
      "34:\tlearn: 0.6859689\ttotal: 269ms\tremaining: 500ms\n",
      "35:\tlearn: 0.6856597\ttotal: 273ms\tremaining: 485ms\n",
      "36:\tlearn: 0.6855209\ttotal: 276ms\tremaining: 470ms\n",
      "37:\tlearn: 0.6854142\ttotal: 280ms\tremaining: 457ms\n",
      "38:\tlearn: 0.6852118\ttotal: 284ms\tremaining: 444ms\n",
      "39:\tlearn: 0.6852109\ttotal: 286ms\tremaining: 429ms\n",
      "40:\tlearn: 0.6851863\ttotal: 290ms\tremaining: 417ms\n",
      "41:\tlearn: 0.6850874\ttotal: 293ms\tremaining: 405ms\n",
      "42:\tlearn: 0.6850100\ttotal: 297ms\tremaining: 394ms\n",
      "43:\tlearn: 0.6848762\ttotal: 301ms\tremaining: 383ms\n",
      "44:\tlearn: 0.6848117\ttotal: 304ms\tremaining: 372ms\n",
      "45:\tlearn: 0.6846403\ttotal: 308ms\tremaining: 362ms\n",
      "46:\tlearn: 0.6845170\ttotal: 313ms\tremaining: 352ms\n",
      "47:\tlearn: 0.6843679\ttotal: 317ms\tremaining: 343ms\n",
      "48:\tlearn: 0.6843412\ttotal: 319ms\tremaining: 332ms\n",
      "49:\tlearn: 0.6841738\ttotal: 324ms\tremaining: 324ms\n",
      "50:\tlearn: 0.6841004\ttotal: 328ms\tremaining: 315ms\n",
      "51:\tlearn: 0.6840262\ttotal: 332ms\tremaining: 307ms\n",
      "52:\tlearn: 0.6836995\ttotal: 337ms\tremaining: 299ms\n",
      "53:\tlearn: 0.6835663\ttotal: 342ms\tremaining: 291ms\n",
      "54:\tlearn: 0.6835120\ttotal: 346ms\tremaining: 283ms\n",
      "55:\tlearn: 0.6834612\ttotal: 350ms\tremaining: 275ms\n",
      "56:\tlearn: 0.6833352\ttotal: 353ms\tremaining: 267ms\n",
      "57:\tlearn: 0.6832762\ttotal: 357ms\tremaining: 259ms\n",
      "58:\tlearn: 0.6831021\ttotal: 362ms\tremaining: 252ms\n",
      "59:\tlearn: 0.6830719\ttotal: 366ms\tremaining: 244ms\n",
      "60:\tlearn: 0.6828803\ttotal: 369ms\tremaining: 236ms\n",
      "61:\tlearn: 0.6828057\ttotal: 374ms\tremaining: 229ms\n",
      "62:\tlearn: 0.6825767\ttotal: 378ms\tremaining: 222ms\n",
      "63:\tlearn: 0.6825321\ttotal: 382ms\tremaining: 215ms\n",
      "64:\tlearn: 0.6824932\ttotal: 386ms\tremaining: 208ms\n",
      "65:\tlearn: 0.6823602\ttotal: 390ms\tremaining: 201ms\n",
      "66:\tlearn: 0.6821001\ttotal: 393ms\tremaining: 194ms\n",
      "67:\tlearn: 0.6819032\ttotal: 397ms\tremaining: 187ms\n",
      "68:\tlearn: 0.6818551\ttotal: 401ms\tremaining: 180ms\n",
      "69:\tlearn: 0.6818406\ttotal: 403ms\tremaining: 173ms\n",
      "70:\tlearn: 0.6817710\ttotal: 407ms\tremaining: 166ms\n",
      "71:\tlearn: 0.6816615\ttotal: 411ms\tremaining: 160ms\n",
      "72:\tlearn: 0.6815694\ttotal: 415ms\tremaining: 153ms\n",
      "73:\tlearn: 0.6815655\ttotal: 417ms\tremaining: 146ms\n",
      "74:\tlearn: 0.6814550\ttotal: 427ms\tremaining: 142ms\n",
      "75:\tlearn: 0.6813764\ttotal: 431ms\tremaining: 136ms\n",
      "76:\tlearn: 0.6811924\ttotal: 435ms\tremaining: 130ms\n",
      "77:\tlearn: 0.6811920\ttotal: 437ms\tremaining: 123ms\n",
      "78:\tlearn: 0.6810408\ttotal: 440ms\tremaining: 117ms\n",
      "79:\tlearn: 0.6808905\ttotal: 444ms\tremaining: 111ms\n",
      "80:\tlearn: 0.6807722\ttotal: 448ms\tremaining: 105ms\n",
      "81:\tlearn: 0.6806249\ttotal: 452ms\tremaining: 99.2ms\n",
      "82:\tlearn: 0.6806184\ttotal: 454ms\tremaining: 93.1ms\n",
      "83:\tlearn: 0.6804731\ttotal: 458ms\tremaining: 87.3ms\n",
      "84:\tlearn: 0.6803191\ttotal: 463ms\tremaining: 81.6ms\n",
      "85:\tlearn: 0.6800936\ttotal: 467ms\tremaining: 75.9ms\n",
      "86:\tlearn: 0.6800635\ttotal: 470ms\tremaining: 70.3ms\n",
      "87:\tlearn: 0.6799422\ttotal: 474ms\tremaining: 64.7ms\n",
      "88:\tlearn: 0.6796760\ttotal: 478ms\tremaining: 59.1ms\n",
      "89:\tlearn: 0.6795244\ttotal: 482ms\tremaining: 53.5ms\n",
      "90:\tlearn: 0.6795047\ttotal: 486ms\tremaining: 48ms\n",
      "91:\tlearn: 0.6794650\ttotal: 489ms\tremaining: 42.6ms\n",
      "92:\tlearn: 0.6793267\ttotal: 493ms\tremaining: 37.1ms\n",
      "93:\tlearn: 0.6791793\ttotal: 497ms\tremaining: 31.7ms\n",
      "94:\tlearn: 0.6791031\ttotal: 501ms\tremaining: 26.4ms\n",
      "95:\tlearn: 0.6790141\ttotal: 504ms\tremaining: 21ms\n",
      "96:\tlearn: 0.6789841\ttotal: 508ms\tremaining: 15.7ms\n",
      "97:\tlearn: 0.6789522\ttotal: 511ms\tremaining: 10.4ms\n",
      "98:\tlearn: 0.6788764\ttotal: 515ms\tremaining: 5.21ms\n",
      "99:\tlearn: 0.6788417\ttotal: 519ms\tremaining: 0us\n",
      "Feature importances: [15.06173739  8.48693476  2.95278291  6.90750811  6.9570237   4.73091169\n",
      "  7.14339804  4.99320584  5.61906971  5.10176432  5.30765526  7.07531168\n",
      "  3.79493456  5.20461864  6.4635347   4.19960871]\n"
     ]
    }
   ],
   "source": [
    "from catboost import CatBoostClassifier\n",
    "model_cat = CatBoostClassifier(iterations=100, learning_rate=0.1, depth=6)\n",
    "\n",
    "# Train the model with categorical features specified\n",
    "model_cat.fit(X_train, Y_train)\n",
    "\n",
    "# Get the feature importance (optional)\n",
    "feature_importances = model_cat.get_feature_importance()\n",
    "print(\"Feature importances:\", feature_importances)"
   ]
  },
  {
   "cell_type": "code",
   "execution_count": 316,
   "metadata": {},
   "outputs": [
    {
     "name": "stdout",
     "output_type": "stream",
     "text": [
      "Accuracy: 0.5113500597371565\n"
     ]
    }
   ],
   "source": [
    "y_pred = model_cat.predict(X_test)\n",
    "from sklearn.metrics import accuracy_score\n",
    "print(\"Accuracy:\", accuracy_score(Y_test, y_pred))\n"
   ]
  },
  {
   "cell_type": "code",
   "execution_count": 317,
   "metadata": {},
   "outputs": [
    {
     "data": {
      "image/png": "[encoded data removed]",
      "text/plain": [
       "<Figure size 640x480 with 1 Axes>"
      ]
     },
     "metadata": {},
     "output_type": "display_data"
    }
   ],
   "source": [
    "from sklearn.metrics import precision_recall_curve\n",
    "precision, recall, _ = precision_recall_curve(Y_test, model.predict_proba(X_test)[:, 1]) \n",
    "plt.plot(recall, precision)\n",
    "plt.xlabel('Recall')\n",
    "plt.ylabel('Precision')\n",
    "plt.title('Precision-Recall Curve')\n",
    "plt.show()"
   ]
  },
  {
   "cell_type": "code",
   "execution_count": 318,
   "metadata": {},
   "outputs": [
    {
     "name": "stdout",
     "output_type": "stream",
     "text": [
      "              precision    recall  f1-score   support\n",
      "\n",
      "           0       0.51      0.54      0.52       832\n",
      "           1       0.52      0.49      0.50       842\n",
      "\n",
      "    accuracy                           0.51      1674\n",
      "   macro avg       0.51      0.51      0.51      1674\n",
      "weighted avg       0.51      0.51      0.51      1674\n",
      "\n"
     ]
    }
   ],
   "source": [
    "from sklearn.metrics import classification_report\n",
    "print(classification_report(Y_test, y_pred))"
   ]
  },
  {
   "cell_type": "markdown",
   "metadata": {},
   "source": [
    "## Trying RandomForestClassifier"
   ]
  },
  {
   "cell_type": "code",
   "execution_count": 321,
   "metadata": {},
   "outputs": [],
   "source": [
    "from sklearn.ensemble import RandomForestClassifier\n",
    "rcf=RandomForestClassifier()\n",
    "rcf.fit(X_train,Y_train)\n",
    "y_pred=rcf.predict(X_test)"
   ]
  },
  {
   "cell_type": "code",
   "execution_count": 322,
   "metadata": {},
   "outputs": [
    {
     "name": "stdout",
     "output_type": "stream",
     "text": [
      "Accuracy: 0.5280764635603346\n"
     ]
    }
   ],
   "source": [
    "from sklearn.metrics import accuracy_score\n",
    "print(\"Accuracy:\", accuracy_score(Y_test, y_pred))"
   ]
  },
  {
   "cell_type": "code",
   "execution_count": 323,
   "metadata": {},
   "outputs": [
    {
     "data": {
      "image/png": "[encoded data removed]",
      "text/plain": [
       "<Figure size 640x480 with 1 Axes>"
      ]
     },
     "metadata": {},
     "output_type": "display_data"
    }
   ],
   "source": [
    "from sklearn.metrics import precision_recall_curve\n",
    "precision, recall, _ = precision_recall_curve(Y_test, rcf.predict_proba(X_test)[:, 1])\n",
    "plt.plot(recall, precision)\n",
    "plt.xlabel('Recall')\n",
    "plt.ylabel('Precision')\n",
    "plt.title('Precision-Recall Curve')\n",
    "plt.show()"
   ]
  },
  {
   "cell_type": "markdown",
   "metadata": {},
   "source": [
    "## Potential Improvements\n",
    "- Trying an automated tool like pandas_profiling to automate EDA\n",
    "- Trying deep learning models "
   ]
  },
  {
   "cell_type": "code",
   "execution_count": null,
   "metadata": {},
   "outputs": [],
   "source": []
  }
 ],
 "metadata": {
  "kernelspec": {
   "display_name": "Python 3",
   "language": "python",
   "name": "python3"
  },
  "language_info": {
   "codemirror_mode": {
    "name": "ipython",
    "version": 3
   },
   "file_extension": ".py",
   "mimetype": "text/x-python",
   "name": "python",
   "nbconvert_exporter": "python",
   "pygments_lexer": "ipython3",
   "version": "3.11.0"
  }
 },
 "nbformat": 4,
 "nbformat_minor": 2
}
